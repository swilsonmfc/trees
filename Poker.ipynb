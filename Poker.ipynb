{
  "nbformat": 4,
  "nbformat_minor": 0,
  "metadata": {
    "colab": {
      "name": "Poker.ipynb",
      "provenance": [],
      "collapsed_sections": [],
      "toc_visible": true,
      "authorship_tag": "ABX9TyOq9lv7/IyDbaY9IqMGcNd8",
      "include_colab_link": true
    },
    "kernelspec": {
      "name": "python3",
      "display_name": "Python 3"
    }
  },
  "cells": [
    {
      "cell_type": "markdown",
      "metadata": {
        "id": "view-in-github",
        "colab_type": "text"
      },
      "source": [
        "<a href=\"https://colab.research.google.com/github/swilsonmfc/trees/blob/master/Poker.ipynb\" target=\"_parent\"><img src=\"https://colab.research.google.com/assets/colab-badge.svg\" alt=\"Open In Colab\"/></a>"
      ]
    },
    {
      "cell_type": "markdown",
      "metadata": {
        "id": "JTQLPdqUfQ3R"
      },
      "source": [
        "# Poker\n",
        "\n",
        "![](https://i.etsystatic.com/19649291/r/il/9a6f10/1844621007/il_570xN.1844621007_h7a5.jpg)"
      ]
    },
    {
      "cell_type": "markdown",
      "metadata": {
        "id": "yPUW4klxfiG4"
      },
      "source": [
        "# Setup"
      ]
    },
    {
      "cell_type": "code",
      "metadata": {
        "id": "4nMt1gSffk5R"
      },
      "source": [
        "import pandas as pd\n",
        "import numpy as np\n",
        "import matplotlib.pyplot as plt\n",
        "import seaborn\n",
        "import requests\n",
        "\n",
        "from sklearn.ensemble import RandomForestClassifier\n",
        "\n",
        "from sklearn.metrics import classification_report"
      ],
      "execution_count": 1,
      "outputs": []
    },
    {
      "cell_type": "code",
      "metadata": {
        "id": "RM0iQssjAy1g"
      },
      "source": [
        "%matplotlib inline"
      ],
      "execution_count": 2,
      "outputs": []
    },
    {
      "cell_type": "markdown",
      "metadata": {
        "id": "dILMvmyefTe-"
      },
      "source": [
        "# Data\n",
        "* Hand Values\n",
        "  * 0: Nothing in hand; not a recognized poker hand\n",
        "  * 1: One pair; one pair of equal ranks within five cards\n",
        "  * 2: Two pairs; two pairs of equal ranks within five cards\n",
        "  * 3: Three of a kind; three equal ranks within five cards\n",
        "  * 4: Straight; five cards, sequentially ranked with no gaps\n",
        "  * 5: Flush; five cards with the same suit\n",
        "  * 6: Full house; pair + different rank three of a kind\n",
        "  * 7: Four of a kind; four equal ranks within five cards\n",
        "  * 8: Straight flush; straight + flush\n",
        "  * 9: Royal flush; {Ace, King, Queen, Jack, Ten} + flush\n",
        "\n"
      ]
    },
    {
      "cell_type": "code",
      "metadata": {
        "id": "aGWGlxB3Bjiz"
      },
      "source": [
        "hand_labels = [\n",
        "  'Nothing',\n",
        "  'One Pair',\n",
        "  'Two Pair',\n",
        "  'Three of a kind',\n",
        "  'Straight',\n",
        "  'Flush',\n",
        "  'Full house',\n",
        "  'Four of a kind',\n",
        "  'Straight flush',\n",
        "  'Royal flush'\n",
        "]"
      ],
      "execution_count": 3,
      "outputs": []
    },
    {
      "cell_type": "code",
      "metadata": {
        "id": "h1-WoPRBg8y5"
      },
      "source": [
        "columns = []\n",
        "for card in range(5):\n",
        "  columns.append(f'suit_{card}')\n",
        "  columns.append(f'card_{card}')\n",
        "columns.append('hand')"
      ],
      "execution_count": 4,
      "outputs": []
    },
    {
      "cell_type": "code",
      "metadata": {
        "id": "jFy6lYgif7UM"
      },
      "source": [
        "train = pd.read_csv('https://archive.ics.uci.edu/ml/machine-learning-databases/poker/poker-hand-training-true.data', names=columns, index_col=False)\n",
        "test  = pd.read_csv('https://archive.ics.uci.edu/ml/machine-learning-databases/poker/poker-hand-testing.data', names=columns, index_col=False)"
      ],
      "execution_count": 5,
      "outputs": []
    },
    {
      "cell_type": "code",
      "metadata": {
        "colab": {
          "base_uri": "https://localhost:8080/",
          "height": 419
        },
        "id": "xGqFfQxhf--I",
        "outputId": "8868c356-ed63-4c70-e962-f18bc428953b"
      },
      "source": [
        "train"
      ],
      "execution_count": null,
      "outputs": [
        {
          "output_type": "execute_result",
          "data": {
            "text/html": [
              "<div>\n",
              "<style scoped>\n",
              "    .dataframe tbody tr th:only-of-type {\n",
              "        vertical-align: middle;\n",
              "    }\n",
              "\n",
              "    .dataframe tbody tr th {\n",
              "        vertical-align: top;\n",
              "    }\n",
              "\n",
              "    .dataframe thead th {\n",
              "        text-align: right;\n",
              "    }\n",
              "</style>\n",
              "<table border=\"1\" class=\"dataframe\">\n",
              "  <thead>\n",
              "    <tr style=\"text-align: right;\">\n",
              "      <th></th>\n",
              "      <th>suit_0</th>\n",
              "      <th>card_0</th>\n",
              "      <th>suit_1</th>\n",
              "      <th>card_1</th>\n",
              "      <th>suit_2</th>\n",
              "      <th>card_2</th>\n",
              "      <th>suit_3</th>\n",
              "      <th>card_3</th>\n",
              "      <th>suit_4</th>\n",
              "      <th>card_4</th>\n",
              "      <th>hand</th>\n",
              "    </tr>\n",
              "  </thead>\n",
              "  <tbody>\n",
              "    <tr>\n",
              "      <th>0</th>\n",
              "      <td>1</td>\n",
              "      <td>10</td>\n",
              "      <td>1</td>\n",
              "      <td>11</td>\n",
              "      <td>1</td>\n",
              "      <td>13</td>\n",
              "      <td>1</td>\n",
              "      <td>12</td>\n",
              "      <td>1</td>\n",
              "      <td>1</td>\n",
              "      <td>9</td>\n",
              "    </tr>\n",
              "    <tr>\n",
              "      <th>1</th>\n",
              "      <td>2</td>\n",
              "      <td>11</td>\n",
              "      <td>2</td>\n",
              "      <td>13</td>\n",
              "      <td>2</td>\n",
              "      <td>10</td>\n",
              "      <td>2</td>\n",
              "      <td>12</td>\n",
              "      <td>2</td>\n",
              "      <td>1</td>\n",
              "      <td>9</td>\n",
              "    </tr>\n",
              "    <tr>\n",
              "      <th>2</th>\n",
              "      <td>3</td>\n",
              "      <td>12</td>\n",
              "      <td>3</td>\n",
              "      <td>11</td>\n",
              "      <td>3</td>\n",
              "      <td>13</td>\n",
              "      <td>3</td>\n",
              "      <td>10</td>\n",
              "      <td>3</td>\n",
              "      <td>1</td>\n",
              "      <td>9</td>\n",
              "    </tr>\n",
              "    <tr>\n",
              "      <th>3</th>\n",
              "      <td>4</td>\n",
              "      <td>10</td>\n",
              "      <td>4</td>\n",
              "      <td>11</td>\n",
              "      <td>4</td>\n",
              "      <td>1</td>\n",
              "      <td>4</td>\n",
              "      <td>13</td>\n",
              "      <td>4</td>\n",
              "      <td>12</td>\n",
              "      <td>9</td>\n",
              "    </tr>\n",
              "    <tr>\n",
              "      <th>4</th>\n",
              "      <td>4</td>\n",
              "      <td>1</td>\n",
              "      <td>4</td>\n",
              "      <td>13</td>\n",
              "      <td>4</td>\n",
              "      <td>12</td>\n",
              "      <td>4</td>\n",
              "      <td>11</td>\n",
              "      <td>4</td>\n",
              "      <td>10</td>\n",
              "      <td>9</td>\n",
              "    </tr>\n",
              "    <tr>\n",
              "      <th>...</th>\n",
              "      <td>...</td>\n",
              "      <td>...</td>\n",
              "      <td>...</td>\n",
              "      <td>...</td>\n",
              "      <td>...</td>\n",
              "      <td>...</td>\n",
              "      <td>...</td>\n",
              "      <td>...</td>\n",
              "      <td>...</td>\n",
              "      <td>...</td>\n",
              "      <td>...</td>\n",
              "    </tr>\n",
              "    <tr>\n",
              "      <th>25005</th>\n",
              "      <td>3</td>\n",
              "      <td>9</td>\n",
              "      <td>2</td>\n",
              "      <td>6</td>\n",
              "      <td>4</td>\n",
              "      <td>11</td>\n",
              "      <td>4</td>\n",
              "      <td>12</td>\n",
              "      <td>2</td>\n",
              "      <td>4</td>\n",
              "      <td>0</td>\n",
              "    </tr>\n",
              "    <tr>\n",
              "      <th>25006</th>\n",
              "      <td>4</td>\n",
              "      <td>1</td>\n",
              "      <td>4</td>\n",
              "      <td>10</td>\n",
              "      <td>3</td>\n",
              "      <td>13</td>\n",
              "      <td>3</td>\n",
              "      <td>4</td>\n",
              "      <td>1</td>\n",
              "      <td>10</td>\n",
              "      <td>1</td>\n",
              "    </tr>\n",
              "    <tr>\n",
              "      <th>25007</th>\n",
              "      <td>2</td>\n",
              "      <td>1</td>\n",
              "      <td>2</td>\n",
              "      <td>10</td>\n",
              "      <td>4</td>\n",
              "      <td>4</td>\n",
              "      <td>4</td>\n",
              "      <td>1</td>\n",
              "      <td>4</td>\n",
              "      <td>13</td>\n",
              "      <td>1</td>\n",
              "    </tr>\n",
              "    <tr>\n",
              "      <th>25008</th>\n",
              "      <td>2</td>\n",
              "      <td>12</td>\n",
              "      <td>4</td>\n",
              "      <td>3</td>\n",
              "      <td>1</td>\n",
              "      <td>10</td>\n",
              "      <td>1</td>\n",
              "      <td>12</td>\n",
              "      <td>4</td>\n",
              "      <td>9</td>\n",
              "      <td>1</td>\n",
              "    </tr>\n",
              "    <tr>\n",
              "      <th>25009</th>\n",
              "      <td>1</td>\n",
              "      <td>7</td>\n",
              "      <td>3</td>\n",
              "      <td>11</td>\n",
              "      <td>3</td>\n",
              "      <td>3</td>\n",
              "      <td>4</td>\n",
              "      <td>8</td>\n",
              "      <td>3</td>\n",
              "      <td>7</td>\n",
              "      <td>1</td>\n",
              "    </tr>\n",
              "  </tbody>\n",
              "</table>\n",
              "<p>25010 rows × 11 columns</p>\n",
              "</div>"
            ],
            "text/plain": [
              "       suit_0  card_0  suit_1  card_1  ...  card_3  suit_4  card_4  hand\n",
              "0           1      10       1      11  ...      12       1       1     9\n",
              "1           2      11       2      13  ...      12       2       1     9\n",
              "2           3      12       3      11  ...      10       3       1     9\n",
              "3           4      10       4      11  ...      13       4      12     9\n",
              "4           4       1       4      13  ...      11       4      10     9\n",
              "...       ...     ...     ...     ...  ...     ...     ...     ...   ...\n",
              "25005       3       9       2       6  ...      12       2       4     0\n",
              "25006       4       1       4      10  ...       4       1      10     1\n",
              "25007       2       1       2      10  ...       1       4      13     1\n",
              "25008       2      12       4       3  ...      12       4       9     1\n",
              "25009       1       7       3      11  ...       8       3       7     1\n",
              "\n",
              "[25010 rows x 11 columns]"
            ]
          },
          "metadata": {
            "tags": []
          },
          "execution_count": 6
        }
      ]
    },
    {
      "cell_type": "markdown",
      "metadata": {
        "id": "_DbOmQHRiXC1"
      },
      "source": [
        "# Task\n",
        "* Given five cards ... what's the hand?"
      ]
    },
    {
      "cell_type": "markdown",
      "metadata": {
        "id": "q_-OUF03Abis"
      },
      "source": [
        "# EDA\n",
        "* Quite Imbalanced"
      ]
    },
    {
      "cell_type": "code",
      "metadata": {
        "colab": {
          "base_uri": "https://localhost:8080/",
          "height": 282
        },
        "id": "ARXssaHBAsPz",
        "outputId": "a218225d-63ce-4dd2-8618-a5813faa3881"
      },
      "source": [
        "train.groupby('hand').size().plot.barh()"
      ],
      "execution_count": null,
      "outputs": [
        {
          "output_type": "execute_result",
          "data": {
            "text/plain": [
              "<matplotlib.axes._subplots.AxesSubplot at 0x7f92bc670f90>"
            ]
          },
          "metadata": {
            "tags": []
          },
          "execution_count": 7
        },
        {
          "output_type": "display_data",
          "data": {
            "image/png": "[encoded data removed]",
            "text/plain": [
              "<Figure size 432x288 with 1 Axes>"
            ]
          },
          "metadata": {
            "tags": [],
            "needs_background": "light"
          }
        }
      ]
    },
    {
      "cell_type": "code",
      "metadata": {
        "colab": {
          "base_uri": "https://localhost:8080/"
        },
        "id": "qQF09lekB9n6",
        "outputId": "945825c5-df5a-4fa3-8105-e19aff254cab"
      },
      "source": [
        "train.hand.value_counts()"
      ],
      "execution_count": null,
      "outputs": [
        {
          "output_type": "execute_result",
          "data": {
            "text/plain": [
              "0    12493\n",
              "1    10599\n",
              "2     1206\n",
              "3      513\n",
              "4       93\n",
              "5       54\n",
              "6       36\n",
              "7        6\n",
              "9        5\n",
              "8        5\n",
              "Name: hand, dtype: int64"
            ]
          },
          "metadata": {
            "tags": []
          },
          "execution_count": 8
        }
      ]
    },
    {
      "cell_type": "markdown",
      "metadata": {
        "id": "97pTbp6P44_a"
      },
      "source": [
        "# Train - Test\n",
        "* Test set is much larger than training\n",
        "* Training is much smaller than possible hands\n",
        "* Poker has 2,598,960 distinct hands"
      ]
    },
    {
      "cell_type": "code",
      "metadata": {
        "colab": {
          "base_uri": "https://localhost:8080/"
        },
        "id": "VZYkzPxd5ClF",
        "outputId": "ad755b22-1e67-4b6d-f473-50f938e76f64"
      },
      "source": [
        "print(f'Training set {len(train):,}')\n",
        "print(f'Test set     {len(test):,}')"
      ],
      "execution_count": 8,
      "outputs": [
        {
          "output_type": "stream",
          "text": [
            "Training set 25,010\n",
            "Test set     1,000,000\n"
          ],
          "name": "stdout"
        }
      ]
    },
    {
      "cell_type": "markdown",
      "metadata": {
        "id": "yKNFGCBRBPUM"
      },
      "source": [
        "# Helpers"
      ]
    },
    {
      "cell_type": "code",
      "metadata": {
        "id": "gR4FLACMBOuO"
      },
      "source": [
        ""
      ],
      "execution_count": null,
      "outputs": []
    },
    {
      "cell_type": "markdown",
      "metadata": {
        "id": "SzyexosECJ2h"
      },
      "source": [
        "# Data"
      ]
    },
    {
      "cell_type": "code",
      "metadata": {
        "id": "yZ15ZwNhCK7O"
      },
      "source": [
        "X_train = train.drop(columns=['hand'])\n",
        "y_train = train.hand\n",
        "\n",
        "X_test = test.drop(columns=['hand'])\n",
        "y_test = test.hand"
      ],
      "execution_count": null,
      "outputs": []
    },
    {
      "cell_type": "markdown",
      "metadata": {
        "id": "LeI_Wn94iZ6d"
      },
      "source": [
        "# Baseline"
      ]
    },
    {
      "cell_type": "code",
      "metadata": {
        "colab": {
          "base_uri": "https://localhost:8080/"
        },
        "id": "AN5DjeooAaQq",
        "outputId": "22c33b91-0b4f-4c66-8a02-ea3448ec594f"
      },
      "source": [
        "rf = RandomForestClassifier()\n",
        "rf.fit(X_train, y_train)"
      ],
      "execution_count": null,
      "outputs": [
        {
          "output_type": "execute_result",
          "data": {
            "text/plain": [
              "RandomForestClassifier(bootstrap=True, ccp_alpha=0.0, class_weight=None,\n",
              "                       criterion='gini', max_depth=None, max_features='auto',\n",
              "                       max_leaf_nodes=None, max_samples=None,\n",
              "                       min_impurity_decrease=0.0, min_impurity_split=None,\n",
              "                       min_samples_leaf=1, min_samples_split=2,\n",
              "                       min_weight_fraction_leaf=0.0, n_estimators=100,\n",
              "                       n_jobs=None, oob_score=False, random_state=None,\n",
              "                       verbose=0, warm_start=False)"
            ]
          },
          "metadata": {
            "tags": []
          },
          "execution_count": 10
        }
      ]
    },
    {
      "cell_type": "code",
      "metadata": {
        "colab": {
          "base_uri": "https://localhost:8080/"
        },
        "id": "-ALFoE4bCc0a",
        "outputId": "5a4a424d-a879-4340-b0fe-3c08d5eab860"
      },
      "source": [
        "pred = rf.predict(X_test)\n",
        "print(classification_report(y_test, pred, target_names=hand_labels))"
      ],
      "execution_count": null,
      "outputs": [
        {
          "output_type": "stream",
          "text": [
            "/usr/local/lib/python3.7/dist-packages/sklearn/metrics/_classification.py:1272: UndefinedMetricWarning: Precision and F-score are ill-defined and being set to 0.0 in labels with no predicted samples. Use `zero_division` parameter to control this behavior.\n",
            "  _warn_prf(average, modifier, msg_start, len(result))\n"
          ],
          "name": "stderr"
        },
        {
          "output_type": "stream",
          "text": [
            "                 precision    recall  f1-score   support\n",
            "\n",
            "        Nothing       0.64      0.80      0.71    501209\n",
            "       One Pair       0.57      0.50      0.53    422498\n",
            "       Two Pair       0.39      0.00      0.01     47622\n",
            "Three of a kind       0.43      0.00      0.00     21121\n",
            "       Straight       0.23      0.00      0.00      3885\n",
            "          Flush       1.00      0.00      0.00      1996\n",
            "     Full house       0.00      0.00      0.00      1424\n",
            " Four of a kind       0.00      0.00      0.00       230\n",
            " Straight flush       0.00      0.00      0.00        12\n",
            "    Royal flush       0.00      0.00      0.00         3\n",
            "\n",
            "       accuracy                           0.61   1000000\n",
            "      macro avg       0.33      0.13      0.13   1000000\n",
            "   weighted avg       0.59      0.61      0.58   1000000\n",
            "\n"
          ],
          "name": "stdout"
        }
      ]
    },
    {
      "cell_type": "markdown",
      "metadata": {
        "id": "cH3rXBmqCvLA"
      },
      "source": [
        "# Features"
      ]
    },
    {
      "cell_type": "markdown",
      "metadata": {
        "id": "h-uULLwS_c1k"
      },
      "source": [
        "## Flushes\n",
        "\n",
        "![](https://images.images4us.com/888poker/en/how-to-play-hands-06_1447083537109_tcm1488-264295.jpg)"
      ]
    },
    {
      "cell_type": "code",
      "metadata": {
        "colab": {
          "base_uri": "https://localhost:8080/"
        },
        "id": "Ck-RfvW9A0Rt",
        "outputId": "102cd372-8b91-460c-fa74-4bdb358241f1"
      },
      "source": [
        "print(f'Hands correct {np.sum(np.where(pred == y_test, 1, 0)):,}')\n",
        "print(f'Hands failed  {np.sum(np.where(pred != y_test, 1, 0)):,}')"
      ],
      "execution_count": null,
      "outputs": [
        {
          "output_type": "stream",
          "text": [
            "Hands correct 613,583\n",
            "Hands failed  386,417\n"
          ],
          "name": "stdout"
        }
      ]
    },
    {
      "cell_type": "code",
      "metadata": {
        "id": "2KRRJJ-_24Or"
      },
      "source": [
        "X_train_feature = X_train.copy()\n",
        "X_test_feature  = X_test.copy()"
      ],
      "execution_count": null,
      "outputs": []
    },
    {
      "cell_type": "code",
      "metadata": {
        "id": "kLip7LYFEO_5"
      },
      "source": [
        "suits = ['suit_0', 'suit_1', 'suit_2', 'suit_3', 'suit_4']\n",
        "X_train_feature['unique_suits'] = X_train_feature[suits].nunique(axis=1)\n",
        "X_test_feature['unique_suits']  = X_test_feature[suits].nunique(axis=1)"
      ],
      "execution_count": null,
      "outputs": []
    },
    {
      "cell_type": "code",
      "metadata": {
        "colab": {
          "base_uri": "https://localhost:8080/"
        },
        "id": "MZVCQhuLoNoh",
        "outputId": "ca7bfe96-cc32-49f6-8211-d53768fb01ee"
      },
      "source": [
        "rf = RandomForestClassifier()\n",
        "rf.fit(X_train_feature, y_train)"
      ],
      "execution_count": null,
      "outputs": [
        {
          "output_type": "execute_result",
          "data": {
            "text/plain": [
              "RandomForestClassifier(bootstrap=True, ccp_alpha=0.0, class_weight=None,\n",
              "                       criterion='gini', max_depth=None, max_features='auto',\n",
              "                       max_leaf_nodes=None, max_samples=None,\n",
              "                       min_impurity_decrease=0.0, min_impurity_split=None,\n",
              "                       min_samples_leaf=1, min_samples_split=2,\n",
              "                       min_weight_fraction_leaf=0.0, n_estimators=100,\n",
              "                       n_jobs=None, oob_score=False, random_state=None,\n",
              "                       verbose=0, warm_start=False)"
            ]
          },
          "metadata": {
            "tags": []
          },
          "execution_count": 15
        }
      ]
    },
    {
      "cell_type": "code",
      "metadata": {
        "colab": {
          "base_uri": "https://localhost:8080/"
        },
        "id": "RBIRG7AcqYXT",
        "outputId": "7706e803-6d88-4e80-e506-128de68f48ce"
      },
      "source": [
        "pred = rf.predict(X_test_feature)\n",
        "print(classification_report(y_test, pred, target_names=hand_labels))"
      ],
      "execution_count": null,
      "outputs": [
        {
          "output_type": "stream",
          "text": [
            "/usr/local/lib/python3.7/dist-packages/sklearn/metrics/_classification.py:1272: UndefinedMetricWarning: Precision and F-score are ill-defined and being set to 0.0 in labels with no predicted samples. Use `zero_division` parameter to control this behavior.\n",
            "  _warn_prf(average, modifier, msg_start, len(result))\n"
          ],
          "name": "stderr"
        },
        {
          "output_type": "stream",
          "text": [
            "                 precision    recall  f1-score   support\n",
            "\n",
            "        Nothing       0.62      0.79      0.70    501209\n",
            "       One Pair       0.56      0.48      0.52    422498\n",
            "       Two Pair       0.33      0.00      0.01     47622\n",
            "Three of a kind       0.48      0.00      0.00     21121\n",
            "       Straight       0.08      0.00      0.00      3885\n",
            "          Flush       0.99      1.00      1.00      1996\n",
            "     Full house       0.50      0.00      0.00      1424\n",
            " Four of a kind       0.00      0.00      0.00       230\n",
            " Straight flush       0.00      0.00      0.00        12\n",
            "    Royal flush       0.00      0.00      0.00         3\n",
            "\n",
            "       accuracy                           0.60   1000000\n",
            "      macro avg       0.36      0.23      0.22   1000000\n",
            "   weighted avg       0.58      0.60      0.57   1000000\n",
            "\n"
          ],
          "name": "stdout"
        }
      ]
    },
    {
      "cell_type": "markdown",
      "metadata": {
        "id": "e_duJ4GuqZ7i"
      },
      "source": [
        "## Matches\n",
        "\n",
        "![](https://images.images4us.com/888poker/en/how-to-play-hands-03_1447083507417_tcm1488-264291.jpg)"
      ]
    },
    {
      "cell_type": "code",
      "metadata": {
        "colab": {
          "base_uri": "https://localhost:8080/"
        },
        "id": "aAbqZ37cAMcT",
        "outputId": "9c08d54c-cb86-4470-e06d-bf36d979c374"
      },
      "source": [
        "print(f'Hands correct {np.sum(np.where(pred == y_test, 1, 0)):,}')\n",
        "print(f'Hands failed  {np.sum(np.where(pred != y_test, 1, 0)):,}')"
      ],
      "execution_count": null,
      "outputs": [
        {
          "output_type": "stream",
          "text": [
            "Hands correct 600,760\n",
            "Hands failed  399,240\n"
          ],
          "name": "stdout"
        }
      ]
    },
    {
      "cell_type": "code",
      "metadata": {
        "id": "ZXCAgrbMAq8R"
      },
      "source": [
        "cards = ['card_0', 'card_1', 'card_2', 'card_3', 'card_4']\n",
        "X_train_feature['unique_cards'] = X_train_feature[cards].nunique(axis=1)\n",
        "X_test_feature['unique_cards']  = X_test_feature[cards].nunique(axis=1)"
      ],
      "execution_count": null,
      "outputs": []
    },
    {
      "cell_type": "code",
      "metadata": {
        "colab": {
          "base_uri": "https://localhost:8080/"
        },
        "id": "STc0raXOA7iI",
        "outputId": "cdc35f5d-d093-4f07-cc74-80ee2c426464"
      },
      "source": [
        "rf = RandomForestClassifier()\n",
        "rf.fit(X_train_feature, y_train)"
      ],
      "execution_count": null,
      "outputs": [
        {
          "output_type": "execute_result",
          "data": {
            "text/plain": [
              "RandomForestClassifier(bootstrap=True, ccp_alpha=0.0, class_weight=None,\n",
              "                       criterion='gini', max_depth=None, max_features='auto',\n",
              "                       max_leaf_nodes=None, max_samples=None,\n",
              "                       min_impurity_decrease=0.0, min_impurity_split=None,\n",
              "                       min_samples_leaf=1, min_samples_split=2,\n",
              "                       min_weight_fraction_leaf=0.0, n_estimators=100,\n",
              "                       n_jobs=None, oob_score=False, random_state=None,\n",
              "                       verbose=0, warm_start=False)"
            ]
          },
          "metadata": {
            "tags": []
          },
          "execution_count": 19
        }
      ]
    },
    {
      "cell_type": "code",
      "metadata": {
        "colab": {
          "base_uri": "https://localhost:8080/"
        },
        "id": "4teeTez-A7iK",
        "outputId": "edee010d-ed68-425c-9e3f-0a7e21ca8815"
      },
      "source": [
        "pred = rf.predict(X_test_feature)\n",
        "print(classification_report(y_test, pred, target_names=hand_labels))"
      ],
      "execution_count": null,
      "outputs": [
        {
          "output_type": "stream",
          "text": [
            "                 precision    recall  f1-score   support\n",
            "\n",
            "        Nothing       0.99      1.00      1.00    501209\n",
            "       One Pair       1.00      1.00      1.00    422498\n",
            "       Two Pair       0.70      0.96      0.81     47622\n",
            "Three of a kind       0.49      0.08      0.14     21121\n",
            "       Straight       1.00      0.00      0.00      3885\n",
            "          Flush       0.99      1.00      1.00      1996\n",
            "     Full house       0.85      0.73      0.79      1424\n",
            " Four of a kind       0.44      0.02      0.03       230\n",
            " Straight flush       0.00      0.00      0.00        12\n",
            "    Royal flush       0.00      0.00      0.00         3\n",
            "\n",
            "       accuracy                           0.97   1000000\n",
            "      macro avg       0.65      0.48      0.48   1000000\n",
            "   weighted avg       0.97      0.97      0.97   1000000\n",
            "\n"
          ],
          "name": "stdout"
        }
      ]
    },
    {
      "cell_type": "markdown",
      "metadata": {
        "id": "h9uizPed7uMp"
      },
      "source": [
        "## Straights\n",
        "\n",
        "![](https://images.images4us.com/888poker/en/Straight%20Hand%20in%20Poker-1567767626918_tcm1488-462236.jpg)"
      ]
    },
    {
      "cell_type": "code",
      "metadata": {
        "colab": {
          "base_uri": "https://localhost:8080/"
        },
        "id": "kpRDqlEYANRL",
        "outputId": "2c2eb6f4-3d17-40bf-f54b-f70593d31eac"
      },
      "source": [
        "print(f'Hands correct {np.sum(np.where(pred == y_test, 1, 0)):,}')\n",
        "print(f'Hands failed  {np.sum(np.where(pred != y_test, 1, 0)):,}')"
      ],
      "execution_count": null,
      "outputs": [
        {
          "output_type": "stream",
          "text": [
            "Hands correct 974,333\n",
            "Hands failed  25,667\n"
          ],
          "name": "stdout"
        }
      ]
    },
    {
      "cell_type": "code",
      "metadata": {
        "id": "mktcxv1_7u-X"
      },
      "source": [
        "X_train_feature['card_min'] = X_train_feature[cards].min(axis=1)\n",
        "X_train_feature['card_max'] = X_train_feature[cards].max(axis=1)\n",
        "X_train_feature['card_distance'] = X_train_feature.card_max - X_train_feature.card_min\n",
        "\n",
        "X_test_feature['card_min'] = X_test_feature[cards].min(axis=1)\n",
        "X_test_feature['card_max'] = X_test_feature[cards].max(axis=1)\n",
        "X_test_feature['card_distance'] = X_test_feature.card_max - X_test_feature.card_min"
      ],
      "execution_count": null,
      "outputs": []
    },
    {
      "cell_type": "code",
      "metadata": {
        "colab": {
          "base_uri": "https://localhost:8080/"
        },
        "id": "ayHJSXQwFSsP",
        "outputId": "e15b13ce-429f-4258-a331-1a63e3f1c9ae"
      },
      "source": [
        "rf = RandomForestClassifier()\n",
        "rf.fit(X_train_feature, y_train)"
      ],
      "execution_count": null,
      "outputs": [
        {
          "output_type": "execute_result",
          "data": {
            "text/plain": [
              "RandomForestClassifier(bootstrap=True, ccp_alpha=0.0, class_weight=None,\n",
              "                       criterion='gini', max_depth=None, max_features='auto',\n",
              "                       max_leaf_nodes=None, max_samples=None,\n",
              "                       min_impurity_decrease=0.0, min_impurity_split=None,\n",
              "                       min_samples_leaf=1, min_samples_split=2,\n",
              "                       min_weight_fraction_leaf=0.0, n_estimators=100,\n",
              "                       n_jobs=None, oob_score=False, random_state=None,\n",
              "                       verbose=0, warm_start=False)"
            ]
          },
          "metadata": {
            "tags": []
          },
          "execution_count": 23
        }
      ]
    },
    {
      "cell_type": "code",
      "metadata": {
        "colab": {
          "base_uri": "https://localhost:8080/"
        },
        "id": "GPJbgfuqFSsU",
        "outputId": "3aa3ce56-748f-4b55-c02f-f75d6a80754d"
      },
      "source": [
        "pred = rf.predict(X_test_feature)\n",
        "print(classification_report(y_test, pred, target_names=hand_labels))"
      ],
      "execution_count": null,
      "outputs": [
        {
          "output_type": "stream",
          "text": [
            "                 precision    recall  f1-score   support\n",
            "\n",
            "        Nothing       1.00      1.00      1.00    501209\n",
            "       One Pair       1.00      1.00      1.00    422498\n",
            "       Two Pair       0.69      0.95      0.80     47622\n",
            "Three of a kind       0.39      0.08      0.13     21121\n",
            "       Straight       1.00      0.90      0.95      3885\n",
            "          Flush       1.00      0.97      0.98      1996\n",
            "     Full house       0.86      0.21      0.33      1424\n",
            " Four of a kind       0.67      0.01      0.02       230\n",
            " Straight flush       1.00      0.42      0.59        12\n",
            "    Royal flush       0.00      0.00      0.00         3\n",
            "\n",
            "       accuracy                           0.98   1000000\n",
            "      macro avg       0.76      0.55      0.58   1000000\n",
            "   weighted avg       0.97      0.98      0.97   1000000\n",
            "\n"
          ],
          "name": "stdout"
        }
      ]
    },
    {
      "cell_type": "markdown",
      "metadata": {
        "id": "cO3RgFA9F8rC"
      },
      "source": [
        "## Card Counts\n",
        "\n",
        "![](https://images.images4us.com/888poker/en/how-to-play-hands-04_1447083517027_tcm1488-264292.jpg)"
      ]
    },
    {
      "cell_type": "code",
      "metadata": {
        "colab": {
          "base_uri": "https://localhost:8080/"
        },
        "id": "tPv55RI5AOGF",
        "outputId": "05acc9b0-4a8e-4916-cd3d-5e91da04b609"
      },
      "source": [
        "print(f'Hands correct {np.sum(np.where(pred == y_test, 1, 0)):,}')\n",
        "print(f'Hands failed  {np.sum(np.where(pred != y_test, 1, 0)):,}')"
      ],
      "execution_count": null,
      "outputs": [
        {
          "output_type": "stream",
          "text": [
            "Hands correct 976,324\n",
            "Hands failed  23,676\n"
          ],
          "name": "stdout"
        }
      ]
    },
    {
      "cell_type": "code",
      "metadata": {
        "id": "2bn0A9SOFUIu"
      },
      "source": [
        "for card in range(14):\n",
        "  X_train_feature[f'count_{card}'] = np.where(X_train_feature.card_0 == card, 1, 0) + \\\n",
        "                                     np.where(X_train_feature.card_1 == card, 1, 0) + \\\n",
        "                                     np.where(X_train_feature.card_2 == card, 1, 0) + \\\n",
        "                                     np.where(X_train_feature.card_3 == card, 1, 0) + \\\n",
        "                                     np.where(X_train_feature.card_4 == card, 1, 0) \n",
        "\n",
        "  X_test_feature[f'count_{card}'] = np.where(X_test_feature.card_0 == card, 1, 0) + \\\n",
        "                                     np.where(X_test_feature.card_1 == card, 1, 0) + \\\n",
        "                                     np.where(X_test_feature.card_2 == card, 1, 0) + \\\n",
        "                                     np.where(X_test_feature.card_3 == card, 1, 0) + \\\n",
        "                                     np.where(X_test_feature.card_4 == card, 1, 0) \n",
        "\n",
        "counts = [f'count_{card}' for card in range(14)]\n",
        "X_train_feature['any_two']   = np.where(np.any(X_train_feature[counts] == 2, axis=1), 1, 0)\n",
        "X_train_feature['any_three'] = np.where(np.any(X_train_feature[counts] == 3, axis=1), 1, 0)\n",
        "X_train_feature['any_four']  = np.where(np.any(X_train_feature[counts] == 4, axis=1), 1, 0)\n",
        "\n",
        "X_test_feature['any_two']   = np.where(np.any(X_test_feature[counts] == 2, axis=1), 1, 0)\n",
        "X_test_feature['any_three'] = np.where(np.any(X_test_feature[counts] == 3, axis=1), 1, 0)\n",
        "X_test_feature['any_four']  = np.where(np.any(X_test_feature[counts] == 4, axis=1), 1, 0)"
      ],
      "execution_count": null,
      "outputs": []
    },
    {
      "cell_type": "code",
      "metadata": {
        "colab": {
          "base_uri": "https://localhost:8080/"
        },
        "id": "_DD23cenG1zC",
        "outputId": "0760ad60-efb5-4a2c-d36e-83ba49279891"
      },
      "source": [
        "rf = RandomForestClassifier()\n",
        "rf.fit(X_train_feature, y_train)"
      ],
      "execution_count": null,
      "outputs": [
        {
          "output_type": "execute_result",
          "data": {
            "text/plain": [
              "RandomForestClassifier(bootstrap=True, ccp_alpha=0.0, class_weight=None,\n",
              "                       criterion='gini', max_depth=None, max_features='auto',\n",
              "                       max_leaf_nodes=None, max_samples=None,\n",
              "                       min_impurity_decrease=0.0, min_impurity_split=None,\n",
              "                       min_samples_leaf=1, min_samples_split=2,\n",
              "                       min_weight_fraction_leaf=0.0, n_estimators=100,\n",
              "                       n_jobs=None, oob_score=False, random_state=None,\n",
              "                       verbose=0, warm_start=False)"
            ]
          },
          "metadata": {
            "tags": []
          },
          "execution_count": 27
        }
      ]
    },
    {
      "cell_type": "code",
      "metadata": {
        "colab": {
          "base_uri": "https://localhost:8080/"
        },
        "id": "kVtzxTbXG1zU",
        "outputId": "3972fb3d-e155-48f0-a918-b0f7b4692035"
      },
      "source": [
        "pred = rf.predict(X_test_feature)\n",
        "print(classification_report(y_test, pred, target_names=hand_labels))"
      ],
      "execution_count": null,
      "outputs": [
        {
          "output_type": "stream",
          "text": [
            "                 precision    recall  f1-score   support\n",
            "\n",
            "        Nothing       1.00      1.00      1.00    501209\n",
            "       One Pair       1.00      1.00      1.00    422498\n",
            "       Two Pair       1.00      1.00      1.00     47622\n",
            "Three of a kind       1.00      1.00      1.00     21121\n",
            "       Straight       1.00      0.90      0.95      3885\n",
            "          Flush       1.00      1.00      1.00      1996\n",
            "     Full house       1.00      1.00      1.00      1424\n",
            " Four of a kind       1.00      0.98      0.99       230\n",
            " Straight flush       1.00      0.42      0.59        12\n",
            "    Royal flush       0.40      0.67      0.50         3\n",
            "\n",
            "       accuracy                           1.00   1000000\n",
            "      macro avg       0.94      0.90      0.90   1000000\n",
            "   weighted avg       1.00      1.00      1.00   1000000\n",
            "\n"
          ],
          "name": "stdout"
        }
      ]
    },
    {
      "cell_type": "markdown",
      "metadata": {
        "id": "cysZPMBBNed8"
      },
      "source": [
        "## Straight Flushes\n",
        "\n",
        "![](https://images.images4us.com/888poker/en/how-to-play-hands-09_1447083575757_tcm1488-264294.jpg)"
      ]
    },
    {
      "cell_type": "code",
      "metadata": {
        "colab": {
          "base_uri": "https://localhost:8080/"
        },
        "id": "laHIXkr-AO6y",
        "outputId": "0bd40b05-cdbb-43cd-8bc1-9b12e790b06e"
      },
      "source": [
        "print(f'Hands correct {np.sum(np.where(pred == y_test, 1, 0)):,}')\n",
        "print(f'Hands failed  {np.sum(np.where(pred != y_test, 1, 0)):,}')"
      ],
      "execution_count": null,
      "outputs": [
        {
          "output_type": "stream",
          "text": [
            "Hands correct 999,610\n",
            "Hands failed  390\n"
          ],
          "name": "stdout"
        }
      ]
    },
    {
      "cell_type": "code",
      "metadata": {
        "id": "MqF42PI6N-7X"
      },
      "source": [
        "X_train_feature['straight_flush'] = np.where((X_train_feature.card_distance == 4) & (X_train_feature.unique_suits == 1), 1, 0)\n",
        "X_test_feature ['straight_flush'] = np.where((X_test_feature.card_distance  == 4) & (X_test_feature.unique_suits  == 1), 1, 0)"
      ],
      "execution_count": null,
      "outputs": []
    },
    {
      "cell_type": "code",
      "metadata": {
        "colab": {
          "base_uri": "https://localhost:8080/"
        },
        "id": "ikREUTGxOUbc",
        "outputId": "b34f4b8f-35ef-4ce8-838d-d2ee8cb369e7"
      },
      "source": [
        "rf = RandomForestClassifier()\n",
        "rf.fit(X_train_feature, y_train)"
      ],
      "execution_count": null,
      "outputs": [
        {
          "output_type": "execute_result",
          "data": {
            "text/plain": [
              "RandomForestClassifier(bootstrap=True, ccp_alpha=0.0, class_weight=None,\n",
              "                       criterion='gini', max_depth=None, max_features='auto',\n",
              "                       max_leaf_nodes=None, max_samples=None,\n",
              "                       min_impurity_decrease=0.0, min_impurity_split=None,\n",
              "                       min_samples_leaf=1, min_samples_split=2,\n",
              "                       min_weight_fraction_leaf=0.0, n_estimators=100,\n",
              "                       n_jobs=None, oob_score=False, random_state=None,\n",
              "                       verbose=0, warm_start=False)"
            ]
          },
          "metadata": {
            "tags": []
          },
          "execution_count": 31
        }
      ]
    },
    {
      "cell_type": "code",
      "metadata": {
        "colab": {
          "base_uri": "https://localhost:8080/"
        },
        "id": "CIhy51grOUbe",
        "outputId": "7ead60ec-2616-4a4d-d066-db81187b1c24"
      },
      "source": [
        "pred = rf.predict(X_test_feature)\n",
        "print(classification_report(y_test, pred, target_names=hand_labels))"
      ],
      "execution_count": null,
      "outputs": [
        {
          "output_type": "stream",
          "text": [
            "                 precision    recall  f1-score   support\n",
            "\n",
            "        Nothing       1.00      1.00      1.00    501209\n",
            "       One Pair       1.00      1.00      1.00    422498\n",
            "       Two Pair       1.00      1.00      1.00     47622\n",
            "Three of a kind       1.00      1.00      1.00     21121\n",
            "       Straight       1.00      0.90      0.95      3885\n",
            "          Flush       1.00      1.00      1.00      1996\n",
            "     Full house       1.00      1.00      1.00      1424\n",
            " Four of a kind       1.00      1.00      1.00       230\n",
            " Straight flush       1.00      1.00      1.00        12\n",
            "    Royal flush       0.60      1.00      0.75         3\n",
            "\n",
            "       accuracy                           1.00   1000000\n",
            "      macro avg       0.96      0.99      0.97   1000000\n",
            "   weighted avg       1.00      1.00      1.00   1000000\n",
            "\n"
          ],
          "name": "stdout"
        }
      ]
    },
    {
      "cell_type": "markdown",
      "metadata": {
        "id": "CgUdlSsiR8pl"
      },
      "source": [
        "## Aces\n",
        "\n",
        "![](https://images.images4us.com/888poker/en/how-to-play-hands-01_1447083402389_tcm1488-264288.jpg)"
      ]
    },
    {
      "cell_type": "code",
      "metadata": {
        "colab": {
          "base_uri": "https://localhost:8080/"
        },
        "id": "CgOSUlBZQ5jU",
        "outputId": "d8089d93-cfc5-4c08-f198-a948de8a5680"
      },
      "source": [
        "print(f'Hands correct {np.sum(np.where(pred == y_test, 1, 0)):,}')\n",
        "print(f'Hands failed  {np.sum(np.where(pred != y_test, 1, 0)):,}')"
      ],
      "execution_count": null,
      "outputs": [
        {
          "output_type": "stream",
          "text": [
            "Hands correct 999,622\n",
            "Hands failed  378\n"
          ],
          "name": "stdout"
        }
      ]
    },
    {
      "cell_type": "code",
      "metadata": {
        "colab": {
          "base_uri": "https://localhost:8080/",
          "height": 439
        },
        "id": "55SWxN7DRYKk",
        "outputId": "bca31407-2cd9-4a57-e15b-386655a2eb8f"
      },
      "source": [
        "mask = pred != y_test\n",
        "error_df = X_test_feature.copy()\n",
        "error_df['Actual']    = y_test\n",
        "error_df['Predicted'] = pred\n",
        "error_df[mask]"
      ],
      "execution_count": null,
      "outputs": [
        {
          "output_type": "execute_result",
          "data": {
            "text/html": [
              "<div>\n",
              "<style scoped>\n",
              "    .dataframe tbody tr th:only-of-type {\n",
              "        vertical-align: middle;\n",
              "    }\n",
              "\n",
              "    .dataframe tbody tr th {\n",
              "        vertical-align: top;\n",
              "    }\n",
              "\n",
              "    .dataframe thead th {\n",
              "        text-align: right;\n",
              "    }\n",
              "</style>\n",
              "<table border=\"1\" class=\"dataframe\">\n",
              "  <thead>\n",
              "    <tr style=\"text-align: right;\">\n",
              "      <th></th>\n",
              "      <th>suit_0</th>\n",
              "      <th>card_0</th>\n",
              "      <th>suit_1</th>\n",
              "      <th>card_1</th>\n",
              "      <th>suit_2</th>\n",
              "      <th>card_2</th>\n",
              "      <th>suit_3</th>\n",
              "      <th>card_3</th>\n",
              "      <th>suit_4</th>\n",
              "      <th>card_4</th>\n",
              "      <th>unique_suits</th>\n",
              "      <th>unique_cards</th>\n",
              "      <th>card_min</th>\n",
              "      <th>card_max</th>\n",
              "      <th>card_distance</th>\n",
              "      <th>count_0</th>\n",
              "      <th>count_1</th>\n",
              "      <th>count_2</th>\n",
              "      <th>count_3</th>\n",
              "      <th>count_4</th>\n",
              "      <th>count_5</th>\n",
              "      <th>count_6</th>\n",
              "      <th>count_7</th>\n",
              "      <th>count_8</th>\n",
              "      <th>count_9</th>\n",
              "      <th>count_10</th>\n",
              "      <th>count_11</th>\n",
              "      <th>count_12</th>\n",
              "      <th>count_13</th>\n",
              "      <th>any_two</th>\n",
              "      <th>any_three</th>\n",
              "      <th>any_four</th>\n",
              "      <th>straight_flush</th>\n",
              "      <th>Actual</th>\n",
              "      <th>Predicted</th>\n",
              "    </tr>\n",
              "  </thead>\n",
              "  <tbody>\n",
              "    <tr>\n",
              "      <th>815</th>\n",
              "      <td>3</td>\n",
              "      <td>10</td>\n",
              "      <td>1</td>\n",
              "      <td>13</td>\n",
              "      <td>1</td>\n",
              "      <td>12</td>\n",
              "      <td>1</td>\n",
              "      <td>11</td>\n",
              "      <td>1</td>\n",
              "      <td>1</td>\n",
              "      <td>2</td>\n",
              "      <td>5</td>\n",
              "      <td>1</td>\n",
              "      <td>13</td>\n",
              "      <td>12</td>\n",
              "      <td>0</td>\n",
              "      <td>1</td>\n",
              "      <td>0</td>\n",
              "      <td>0</td>\n",
              "      <td>0</td>\n",
              "      <td>0</td>\n",
              "      <td>0</td>\n",
              "      <td>0</td>\n",
              "      <td>0</td>\n",
              "      <td>0</td>\n",
              "      <td>1</td>\n",
              "      <td>1</td>\n",
              "      <td>1</td>\n",
              "      <td>1</td>\n",
              "      <td>0</td>\n",
              "      <td>0</td>\n",
              "      <td>0</td>\n",
              "      <td>0</td>\n",
              "      <td>4</td>\n",
              "      <td>0</td>\n",
              "    </tr>\n",
              "    <tr>\n",
              "      <th>2526</th>\n",
              "      <td>2</td>\n",
              "      <td>12</td>\n",
              "      <td>4</td>\n",
              "      <td>11</td>\n",
              "      <td>2</td>\n",
              "      <td>1</td>\n",
              "      <td>4</td>\n",
              "      <td>10</td>\n",
              "      <td>3</td>\n",
              "      <td>13</td>\n",
              "      <td>3</td>\n",
              "      <td>5</td>\n",
              "      <td>1</td>\n",
              "      <td>13</td>\n",
              "      <td>12</td>\n",
              "      <td>0</td>\n",
              "      <td>1</td>\n",
              "      <td>0</td>\n",
              "      <td>0</td>\n",
              "      <td>0</td>\n",
              "      <td>0</td>\n",
              "      <td>0</td>\n",
              "      <td>0</td>\n",
              "      <td>0</td>\n",
              "      <td>0</td>\n",
              "      <td>1</td>\n",
              "      <td>1</td>\n",
              "      <td>1</td>\n",
              "      <td>1</td>\n",
              "      <td>0</td>\n",
              "      <td>0</td>\n",
              "      <td>0</td>\n",
              "      <td>0</td>\n",
              "      <td>4</td>\n",
              "      <td>0</td>\n",
              "    </tr>\n",
              "    <tr>\n",
              "      <th>4606</th>\n",
              "      <td>4</td>\n",
              "      <td>13</td>\n",
              "      <td>1</td>\n",
              "      <td>12</td>\n",
              "      <td>3</td>\n",
              "      <td>11</td>\n",
              "      <td>3</td>\n",
              "      <td>10</td>\n",
              "      <td>3</td>\n",
              "      <td>1</td>\n",
              "      <td>3</td>\n",
              "      <td>5</td>\n",
              "      <td>1</td>\n",
              "      <td>13</td>\n",
              "      <td>12</td>\n",
              "      <td>0</td>\n",
              "      <td>1</td>\n",
              "      <td>0</td>\n",
              "      <td>0</td>\n",
              "      <td>0</td>\n",
              "      <td>0</td>\n",
              "      <td>0</td>\n",
              "      <td>0</td>\n",
              "      <td>0</td>\n",
              "      <td>0</td>\n",
              "      <td>1</td>\n",
              "      <td>1</td>\n",
              "      <td>1</td>\n",
              "      <td>1</td>\n",
              "      <td>0</td>\n",
              "      <td>0</td>\n",
              "      <td>0</td>\n",
              "      <td>0</td>\n",
              "      <td>4</td>\n",
              "      <td>0</td>\n",
              "    </tr>\n",
              "    <tr>\n",
              "      <th>4912</th>\n",
              "      <td>3</td>\n",
              "      <td>1</td>\n",
              "      <td>2</td>\n",
              "      <td>12</td>\n",
              "      <td>2</td>\n",
              "      <td>10</td>\n",
              "      <td>3</td>\n",
              "      <td>13</td>\n",
              "      <td>1</td>\n",
              "      <td>11</td>\n",
              "      <td>3</td>\n",
              "      <td>5</td>\n",
              "      <td>1</td>\n",
              "      <td>13</td>\n",
              "      <td>12</td>\n",
              "      <td>0</td>\n",
              "      <td>1</td>\n",
              "      <td>0</td>\n",
              "      <td>0</td>\n",
              "      <td>0</td>\n",
              "      <td>0</td>\n",
              "      <td>0</td>\n",
              "      <td>0</td>\n",
              "      <td>0</td>\n",
              "      <td>0</td>\n",
              "      <td>1</td>\n",
              "      <td>1</td>\n",
              "      <td>1</td>\n",
              "      <td>1</td>\n",
              "      <td>0</td>\n",
              "      <td>0</td>\n",
              "      <td>0</td>\n",
              "      <td>0</td>\n",
              "      <td>4</td>\n",
              "      <td>0</td>\n",
              "    </tr>\n",
              "    <tr>\n",
              "      <th>8195</th>\n",
              "      <td>1</td>\n",
              "      <td>13</td>\n",
              "      <td>1</td>\n",
              "      <td>11</td>\n",
              "      <td>2</td>\n",
              "      <td>1</td>\n",
              "      <td>3</td>\n",
              "      <td>12</td>\n",
              "      <td>1</td>\n",
              "      <td>10</td>\n",
              "      <td>3</td>\n",
              "      <td>5</td>\n",
              "      <td>1</td>\n",
              "      <td>13</td>\n",
              "      <td>12</td>\n",
              "      <td>0</td>\n",
              "      <td>1</td>\n",
              "      <td>0</td>\n",
              "      <td>0</td>\n",
              "      <td>0</td>\n",
              "      <td>0</td>\n",
              "      <td>0</td>\n",
              "      <td>0</td>\n",
              "      <td>0</td>\n",
              "      <td>0</td>\n",
              "      <td>1</td>\n",
              "      <td>1</td>\n",
              "      <td>1</td>\n",
              "      <td>1</td>\n",
              "      <td>0</td>\n",
              "      <td>0</td>\n",
              "      <td>0</td>\n",
              "      <td>0</td>\n",
              "      <td>4</td>\n",
              "      <td>0</td>\n",
              "    </tr>\n",
              "    <tr>\n",
              "      <th>...</th>\n",
              "      <td>...</td>\n",
              "      <td>...</td>\n",
              "      <td>...</td>\n",
              "      <td>...</td>\n",
              "      <td>...</td>\n",
              "      <td>...</td>\n",
              "      <td>...</td>\n",
              "      <td>...</td>\n",
              "      <td>...</td>\n",
              "      <td>...</td>\n",
              "      <td>...</td>\n",
              "      <td>...</td>\n",
              "      <td>...</td>\n",
              "      <td>...</td>\n",
              "      <td>...</td>\n",
              "      <td>...</td>\n",
              "      <td>...</td>\n",
              "      <td>...</td>\n",
              "      <td>...</td>\n",
              "      <td>...</td>\n",
              "      <td>...</td>\n",
              "      <td>...</td>\n",
              "      <td>...</td>\n",
              "      <td>...</td>\n",
              "      <td>...</td>\n",
              "      <td>...</td>\n",
              "      <td>...</td>\n",
              "      <td>...</td>\n",
              "      <td>...</td>\n",
              "      <td>...</td>\n",
              "      <td>...</td>\n",
              "      <td>...</td>\n",
              "      <td>...</td>\n",
              "      <td>...</td>\n",
              "      <td>...</td>\n",
              "    </tr>\n",
              "    <tr>\n",
              "      <th>994228</th>\n",
              "      <td>4</td>\n",
              "      <td>13</td>\n",
              "      <td>1</td>\n",
              "      <td>12</td>\n",
              "      <td>4</td>\n",
              "      <td>11</td>\n",
              "      <td>3</td>\n",
              "      <td>10</td>\n",
              "      <td>2</td>\n",
              "      <td>1</td>\n",
              "      <td>4</td>\n",
              "      <td>5</td>\n",
              "      <td>1</td>\n",
              "      <td>13</td>\n",
              "      <td>12</td>\n",
              "      <td>0</td>\n",
              "      <td>1</td>\n",
              "      <td>0</td>\n",
              "      <td>0</td>\n",
              "      <td>0</td>\n",
              "      <td>0</td>\n",
              "      <td>0</td>\n",
              "      <td>0</td>\n",
              "      <td>0</td>\n",
              "      <td>0</td>\n",
              "      <td>1</td>\n",
              "      <td>1</td>\n",
              "      <td>1</td>\n",
              "      <td>1</td>\n",
              "      <td>0</td>\n",
              "      <td>0</td>\n",
              "      <td>0</td>\n",
              "      <td>0</td>\n",
              "      <td>4</td>\n",
              "      <td>0</td>\n",
              "    </tr>\n",
              "    <tr>\n",
              "      <th>995091</th>\n",
              "      <td>2</td>\n",
              "      <td>2</td>\n",
              "      <td>2</td>\n",
              "      <td>10</td>\n",
              "      <td>2</td>\n",
              "      <td>12</td>\n",
              "      <td>2</td>\n",
              "      <td>13</td>\n",
              "      <td>2</td>\n",
              "      <td>1</td>\n",
              "      <td>1</td>\n",
              "      <td>5</td>\n",
              "      <td>1</td>\n",
              "      <td>13</td>\n",
              "      <td>12</td>\n",
              "      <td>0</td>\n",
              "      <td>1</td>\n",
              "      <td>1</td>\n",
              "      <td>0</td>\n",
              "      <td>0</td>\n",
              "      <td>0</td>\n",
              "      <td>0</td>\n",
              "      <td>0</td>\n",
              "      <td>0</td>\n",
              "      <td>0</td>\n",
              "      <td>1</td>\n",
              "      <td>0</td>\n",
              "      <td>1</td>\n",
              "      <td>1</td>\n",
              "      <td>0</td>\n",
              "      <td>0</td>\n",
              "      <td>0</td>\n",
              "      <td>0</td>\n",
              "      <td>5</td>\n",
              "      <td>9</td>\n",
              "    </tr>\n",
              "    <tr>\n",
              "      <th>997030</th>\n",
              "      <td>4</td>\n",
              "      <td>1</td>\n",
              "      <td>4</td>\n",
              "      <td>11</td>\n",
              "      <td>2</td>\n",
              "      <td>13</td>\n",
              "      <td>4</td>\n",
              "      <td>12</td>\n",
              "      <td>2</td>\n",
              "      <td>10</td>\n",
              "      <td>2</td>\n",
              "      <td>5</td>\n",
              "      <td>1</td>\n",
              "      <td>13</td>\n",
              "      <td>12</td>\n",
              "      <td>0</td>\n",
              "      <td>1</td>\n",
              "      <td>0</td>\n",
              "      <td>0</td>\n",
              "      <td>0</td>\n",
              "      <td>0</td>\n",
              "      <td>0</td>\n",
              "      <td>0</td>\n",
              "      <td>0</td>\n",
              "      <td>0</td>\n",
              "      <td>1</td>\n",
              "      <td>1</td>\n",
              "      <td>1</td>\n",
              "      <td>1</td>\n",
              "      <td>0</td>\n",
              "      <td>0</td>\n",
              "      <td>0</td>\n",
              "      <td>0</td>\n",
              "      <td>4</td>\n",
              "      <td>0</td>\n",
              "    </tr>\n",
              "    <tr>\n",
              "      <th>997998</th>\n",
              "      <td>4</td>\n",
              "      <td>10</td>\n",
              "      <td>2</td>\n",
              "      <td>1</td>\n",
              "      <td>4</td>\n",
              "      <td>13</td>\n",
              "      <td>2</td>\n",
              "      <td>12</td>\n",
              "      <td>3</td>\n",
              "      <td>11</td>\n",
              "      <td>3</td>\n",
              "      <td>5</td>\n",
              "      <td>1</td>\n",
              "      <td>13</td>\n",
              "      <td>12</td>\n",
              "      <td>0</td>\n",
              "      <td>1</td>\n",
              "      <td>0</td>\n",
              "      <td>0</td>\n",
              "      <td>0</td>\n",
              "      <td>0</td>\n",
              "      <td>0</td>\n",
              "      <td>0</td>\n",
              "      <td>0</td>\n",
              "      <td>0</td>\n",
              "      <td>1</td>\n",
              "      <td>1</td>\n",
              "      <td>1</td>\n",
              "      <td>1</td>\n",
              "      <td>0</td>\n",
              "      <td>0</td>\n",
              "      <td>0</td>\n",
              "      <td>0</td>\n",
              "      <td>4</td>\n",
              "      <td>0</td>\n",
              "    </tr>\n",
              "    <tr>\n",
              "      <th>999571</th>\n",
              "      <td>2</td>\n",
              "      <td>1</td>\n",
              "      <td>3</td>\n",
              "      <td>12</td>\n",
              "      <td>4</td>\n",
              "      <td>10</td>\n",
              "      <td>1</td>\n",
              "      <td>11</td>\n",
              "      <td>4</td>\n",
              "      <td>13</td>\n",
              "      <td>4</td>\n",
              "      <td>5</td>\n",
              "      <td>1</td>\n",
              "      <td>13</td>\n",
              "      <td>12</td>\n",
              "      <td>0</td>\n",
              "      <td>1</td>\n",
              "      <td>0</td>\n",
              "      <td>0</td>\n",
              "      <td>0</td>\n",
              "      <td>0</td>\n",
              "      <td>0</td>\n",
              "      <td>0</td>\n",
              "      <td>0</td>\n",
              "      <td>0</td>\n",
              "      <td>1</td>\n",
              "      <td>1</td>\n",
              "      <td>1</td>\n",
              "      <td>1</td>\n",
              "      <td>0</td>\n",
              "      <td>0</td>\n",
              "      <td>0</td>\n",
              "      <td>0</td>\n",
              "      <td>4</td>\n",
              "      <td>0</td>\n",
              "    </tr>\n",
              "  </tbody>\n",
              "</table>\n",
              "<p>378 rows × 35 columns</p>\n",
              "</div>"
            ],
            "text/plain": [
              "        suit_0  card_0  suit_1  ...  straight_flush  Actual  Predicted\n",
              "815          3      10       1  ...               0       4          0\n",
              "2526         2      12       4  ...               0       4          0\n",
              "4606         4      13       1  ...               0       4          0\n",
              "4912         3       1       2  ...               0       4          0\n",
              "8195         1      13       1  ...               0       4          0\n",
              "...        ...     ...     ...  ...             ...     ...        ...\n",
              "994228       4      13       1  ...               0       4          0\n",
              "995091       2       2       2  ...               0       5          9\n",
              "997030       4       1       4  ...               0       4          0\n",
              "997998       4      10       2  ...               0       4          0\n",
              "999571       2       1       3  ...               0       4          0\n",
              "\n",
              "[378 rows x 35 columns]"
            ]
          },
          "metadata": {
            "tags": []
          },
          "execution_count": 34
        }
      ]
    },
    {
      "cell_type": "code",
      "metadata": {
        "colab": {
          "base_uri": "https://localhost:8080/"
        },
        "id": "aoNQISJ7SS2M",
        "outputId": "5bd4217f-93e3-4c3a-a67a-20a33ca81117"
      },
      "source": [
        "error_df[mask].groupby(['Actual', 'Predicted']).size()"
      ],
      "execution_count": null,
      "outputs": [
        {
          "output_type": "execute_result",
          "data": {
            "text/plain": [
              "Actual  Predicted\n",
              "4       0            376\n",
              "5       9              2\n",
              "dtype: int64"
            ]
          },
          "metadata": {
            "tags": []
          },
          "execution_count": 35
        }
      ]
    },
    {
      "cell_type": "code",
      "metadata": {
        "id": "NiCeCWB74KTG"
      },
      "source": [
        "tmp = X_train_feature[cards].copy()\n",
        "tmp['card_min_ace_low'] = tmp[cards].min(axis=1)\n",
        "tmp['card_max_ace_low'] = tmp[cards].max(axis=1)\n",
        "\n",
        "tmp = tmp.replace({'card_0':1, 'card_1':1, 'card_2':1, 'card_3':1, 'card_4':1}, 14)\n",
        "tmp['card_min_ace_high'] = tmp[cards].min(axis=1)\n",
        "tmp['card_max_ace_high'] = tmp[cards].max(axis=1)\n",
        "\n",
        "tmp['card_distance_ace_low']  = tmp.card_max_ace_low  - tmp.card_min_ace_low\n",
        "tmp['card_distance_ace_high'] = tmp.card_max_ace_high - tmp.card_min_ace_high\n",
        "X_train_feature['card_distance'] = tmp[['card_distance_ace_low', 'card_distance_ace_high']].min(axis=1)"
      ],
      "execution_count": null,
      "outputs": []
    },
    {
      "cell_type": "code",
      "metadata": {
        "id": "JRbkVrTx6Bxy"
      },
      "source": [
        "tmp = X_test_feature[cards].copy()\n",
        "tmp['card_min_ace_low'] = tmp[cards].min(axis=1)\n",
        "tmp['card_max_ace_low'] = tmp[cards].max(axis=1)\n",
        "\n",
        "tmp = tmp.replace({'card_0':1, 'card_1':1, 'card_2':1, 'card_3':1, 'card_4':1}, 14)\n",
        "tmp['card_min_ace_high'] = tmp[cards].min(axis=1)\n",
        "tmp['card_max_ace_high'] = tmp[cards].max(axis=1)\n",
        "\n",
        "tmp['card_distance_ace_low']  = tmp.card_max_ace_low  - tmp.card_min_ace_low\n",
        "tmp['card_distance_ace_high'] = tmp.card_max_ace_high - tmp.card_min_ace_high\n",
        "X_test_feature['card_distance'] = tmp[['card_distance_ace_low', 'card_distance_ace_high']].min(axis=1)"
      ],
      "execution_count": null,
      "outputs": []
    },
    {
      "cell_type": "code",
      "metadata": {
        "colab": {
          "base_uri": "https://localhost:8080/"
        },
        "id": "fb-RFA4_6LJd",
        "outputId": "c6e029de-a389-492f-ab5b-68348986c942"
      },
      "source": [
        "rf = RandomForestClassifier()\n",
        "rf.fit(X_train_feature, y_train)"
      ],
      "execution_count": null,
      "outputs": [
        {
          "output_type": "execute_result",
          "data": {
            "text/plain": [
              "RandomForestClassifier(bootstrap=True, ccp_alpha=0.0, class_weight=None,\n",
              "                       criterion='gini', max_depth=None, max_features='auto',\n",
              "                       max_leaf_nodes=None, max_samples=None,\n",
              "                       min_impurity_decrease=0.0, min_impurity_split=None,\n",
              "                       min_samples_leaf=1, min_samples_split=2,\n",
              "                       min_weight_fraction_leaf=0.0, n_estimators=100,\n",
              "                       n_jobs=None, oob_score=False, random_state=None,\n",
              "                       verbose=0, warm_start=False)"
            ]
          },
          "metadata": {
            "tags": []
          },
          "execution_count": 38
        }
      ]
    },
    {
      "cell_type": "code",
      "metadata": {
        "colab": {
          "base_uri": "https://localhost:8080/"
        },
        "id": "Nu4yXWvs6LJe",
        "outputId": "a3220502-9887-42a2-b82c-2b9425d8d010"
      },
      "source": [
        "pred = rf.predict(X_test_feature)\n",
        "print(classification_report(y_test, pred, target_names=hand_labels))"
      ],
      "execution_count": null,
      "outputs": [
        {
          "output_type": "stream",
          "text": [
            "                 precision    recall  f1-score   support\n",
            "\n",
            "        Nothing       1.00      1.00      1.00    501209\n",
            "       One Pair       1.00      1.00      1.00    422498\n",
            "       Two Pair       1.00      1.00      1.00     47622\n",
            "Three of a kind       1.00      1.00      1.00     21121\n",
            "       Straight       1.00      1.00      1.00      3885\n",
            "          Flush       1.00      1.00      1.00      1996\n",
            "     Full house       1.00      1.00      1.00      1424\n",
            " Four of a kind       1.00      0.93      0.96       230\n",
            " Straight flush       1.00      0.83      0.91        12\n",
            "    Royal flush       1.00      1.00      1.00         3\n",
            "\n",
            "       accuracy                           1.00   1000000\n",
            "      macro avg       1.00      0.98      0.99   1000000\n",
            "   weighted avg       1.00      1.00      1.00   1000000\n",
            "\n"
          ],
          "name": "stdout"
        }
      ]
    },
    {
      "cell_type": "code",
      "metadata": {
        "colab": {
          "base_uri": "https://localhost:8080/",
          "height": 627
        },
        "id": "HHe3jsJD6Ypl",
        "outputId": "9b449743-b49c-40aa-8b0f-0b3ce6119e98"
      },
      "source": [
        "mask = pred != y_test\n",
        "error_df = X_test_feature.copy()\n",
        "error_df['Actual']    = y_test\n",
        "error_df['Predicted'] = pred\n",
        "error_df[mask]"
      ],
      "execution_count": null,
      "outputs": [
        {
          "output_type": "execute_result",
          "data": {
            "text/html": [
              "<div>\n",
              "<style scoped>\n",
              "    .dataframe tbody tr th:only-of-type {\n",
              "        vertical-align: middle;\n",
              "    }\n",
              "\n",
              "    .dataframe tbody tr th {\n",
              "        vertical-align: top;\n",
              "    }\n",
              "\n",
              "    .dataframe thead th {\n",
              "        text-align: right;\n",
              "    }\n",
              "</style>\n",
              "<table border=\"1\" class=\"dataframe\">\n",
              "  <thead>\n",
              "    <tr style=\"text-align: right;\">\n",
              "      <th></th>\n",
              "      <th>suit_0</th>\n",
              "      <th>card_0</th>\n",
              "      <th>suit_1</th>\n",
              "      <th>card_1</th>\n",
              "      <th>suit_2</th>\n",
              "      <th>card_2</th>\n",
              "      <th>suit_3</th>\n",
              "      <th>card_3</th>\n",
              "      <th>suit_4</th>\n",
              "      <th>card_4</th>\n",
              "      <th>unique_suits</th>\n",
              "      <th>unique_cards</th>\n",
              "      <th>card_min</th>\n",
              "      <th>card_max</th>\n",
              "      <th>card_distance</th>\n",
              "      <th>count_0</th>\n",
              "      <th>count_1</th>\n",
              "      <th>count_2</th>\n",
              "      <th>count_3</th>\n",
              "      <th>count_4</th>\n",
              "      <th>count_5</th>\n",
              "      <th>count_6</th>\n",
              "      <th>count_7</th>\n",
              "      <th>count_8</th>\n",
              "      <th>count_9</th>\n",
              "      <th>count_10</th>\n",
              "      <th>count_11</th>\n",
              "      <th>count_12</th>\n",
              "      <th>count_13</th>\n",
              "      <th>any_two</th>\n",
              "      <th>any_three</th>\n",
              "      <th>any_four</th>\n",
              "      <th>straight_flush</th>\n",
              "      <th>Actual</th>\n",
              "      <th>Predicted</th>\n",
              "    </tr>\n",
              "  </thead>\n",
              "  <tbody>\n",
              "    <tr>\n",
              "      <th>3204</th>\n",
              "      <td>4</td>\n",
              "      <td>1</td>\n",
              "      <td>1</td>\n",
              "      <td>1</td>\n",
              "      <td>3</td>\n",
              "      <td>2</td>\n",
              "      <td>3</td>\n",
              "      <td>1</td>\n",
              "      <td>2</td>\n",
              "      <td>1</td>\n",
              "      <td>4</td>\n",
              "      <td>2</td>\n",
              "      <td>1</td>\n",
              "      <td>2</td>\n",
              "      <td>1</td>\n",
              "      <td>0</td>\n",
              "      <td>4</td>\n",
              "      <td>1</td>\n",
              "      <td>0</td>\n",
              "      <td>0</td>\n",
              "      <td>0</td>\n",
              "      <td>0</td>\n",
              "      <td>0</td>\n",
              "      <td>0</td>\n",
              "      <td>0</td>\n",
              "      <td>0</td>\n",
              "      <td>0</td>\n",
              "      <td>0</td>\n",
              "      <td>0</td>\n",
              "      <td>0</td>\n",
              "      <td>0</td>\n",
              "      <td>1</td>\n",
              "      <td>0</td>\n",
              "      <td>7</td>\n",
              "      <td>3</td>\n",
              "    </tr>\n",
              "    <tr>\n",
              "      <th>40132</th>\n",
              "      <td>1</td>\n",
              "      <td>2</td>\n",
              "      <td>1</td>\n",
              "      <td>1</td>\n",
              "      <td>3</td>\n",
              "      <td>1</td>\n",
              "      <td>4</td>\n",
              "      <td>1</td>\n",
              "      <td>2</td>\n",
              "      <td>1</td>\n",
              "      <td>4</td>\n",
              "      <td>2</td>\n",
              "      <td>1</td>\n",
              "      <td>2</td>\n",
              "      <td>1</td>\n",
              "      <td>0</td>\n",
              "      <td>4</td>\n",
              "      <td>1</td>\n",
              "      <td>0</td>\n",
              "      <td>0</td>\n",
              "      <td>0</td>\n",
              "      <td>0</td>\n",
              "      <td>0</td>\n",
              "      <td>0</td>\n",
              "      <td>0</td>\n",
              "      <td>0</td>\n",
              "      <td>0</td>\n",
              "      <td>0</td>\n",
              "      <td>0</td>\n",
              "      <td>0</td>\n",
              "      <td>0</td>\n",
              "      <td>1</td>\n",
              "      <td>0</td>\n",
              "      <td>7</td>\n",
              "      <td>3</td>\n",
              "    </tr>\n",
              "    <tr>\n",
              "      <th>231194</th>\n",
              "      <td>2</td>\n",
              "      <td>1</td>\n",
              "      <td>3</td>\n",
              "      <td>1</td>\n",
              "      <td>1</td>\n",
              "      <td>1</td>\n",
              "      <td>2</td>\n",
              "      <td>4</td>\n",
              "      <td>4</td>\n",
              "      <td>1</td>\n",
              "      <td>4</td>\n",
              "      <td>2</td>\n",
              "      <td>1</td>\n",
              "      <td>4</td>\n",
              "      <td>3</td>\n",
              "      <td>0</td>\n",
              "      <td>4</td>\n",
              "      <td>0</td>\n",
              "      <td>0</td>\n",
              "      <td>1</td>\n",
              "      <td>0</td>\n",
              "      <td>0</td>\n",
              "      <td>0</td>\n",
              "      <td>0</td>\n",
              "      <td>0</td>\n",
              "      <td>0</td>\n",
              "      <td>0</td>\n",
              "      <td>0</td>\n",
              "      <td>0</td>\n",
              "      <td>0</td>\n",
              "      <td>0</td>\n",
              "      <td>1</td>\n",
              "      <td>0</td>\n",
              "      <td>7</td>\n",
              "      <td>3</td>\n",
              "    </tr>\n",
              "    <tr>\n",
              "      <th>295268</th>\n",
              "      <td>1</td>\n",
              "      <td>1</td>\n",
              "      <td>4</td>\n",
              "      <td>1</td>\n",
              "      <td>2</td>\n",
              "      <td>1</td>\n",
              "      <td>4</td>\n",
              "      <td>6</td>\n",
              "      <td>3</td>\n",
              "      <td>1</td>\n",
              "      <td>4</td>\n",
              "      <td>2</td>\n",
              "      <td>1</td>\n",
              "      <td>6</td>\n",
              "      <td>5</td>\n",
              "      <td>0</td>\n",
              "      <td>4</td>\n",
              "      <td>0</td>\n",
              "      <td>0</td>\n",
              "      <td>0</td>\n",
              "      <td>0</td>\n",
              "      <td>1</td>\n",
              "      <td>0</td>\n",
              "      <td>0</td>\n",
              "      <td>0</td>\n",
              "      <td>0</td>\n",
              "      <td>0</td>\n",
              "      <td>0</td>\n",
              "      <td>0</td>\n",
              "      <td>0</td>\n",
              "      <td>0</td>\n",
              "      <td>1</td>\n",
              "      <td>0</td>\n",
              "      <td>7</td>\n",
              "      <td>3</td>\n",
              "    </tr>\n",
              "    <tr>\n",
              "      <th>328223</th>\n",
              "      <td>4</td>\n",
              "      <td>1</td>\n",
              "      <td>1</td>\n",
              "      <td>1</td>\n",
              "      <td>2</td>\n",
              "      <td>1</td>\n",
              "      <td>2</td>\n",
              "      <td>9</td>\n",
              "      <td>3</td>\n",
              "      <td>1</td>\n",
              "      <td>4</td>\n",
              "      <td>2</td>\n",
              "      <td>1</td>\n",
              "      <td>9</td>\n",
              "      <td>5</td>\n",
              "      <td>0</td>\n",
              "      <td>4</td>\n",
              "      <td>0</td>\n",
              "      <td>0</td>\n",
              "      <td>0</td>\n",
              "      <td>0</td>\n",
              "      <td>0</td>\n",
              "      <td>0</td>\n",
              "      <td>0</td>\n",
              "      <td>1</td>\n",
              "      <td>0</td>\n",
              "      <td>0</td>\n",
              "      <td>0</td>\n",
              "      <td>0</td>\n",
              "      <td>0</td>\n",
              "      <td>0</td>\n",
              "      <td>1</td>\n",
              "      <td>0</td>\n",
              "      <td>7</td>\n",
              "      <td>3</td>\n",
              "    </tr>\n",
              "    <tr>\n",
              "      <th>374458</th>\n",
              "      <td>3</td>\n",
              "      <td>1</td>\n",
              "      <td>4</td>\n",
              "      <td>1</td>\n",
              "      <td>1</td>\n",
              "      <td>1</td>\n",
              "      <td>3</td>\n",
              "      <td>4</td>\n",
              "      <td>2</td>\n",
              "      <td>1</td>\n",
              "      <td>4</td>\n",
              "      <td>2</td>\n",
              "      <td>1</td>\n",
              "      <td>4</td>\n",
              "      <td>3</td>\n",
              "      <td>0</td>\n",
              "      <td>4</td>\n",
              "      <td>0</td>\n",
              "      <td>0</td>\n",
              "      <td>1</td>\n",
              "      <td>0</td>\n",
              "      <td>0</td>\n",
              "      <td>0</td>\n",
              "      <td>0</td>\n",
              "      <td>0</td>\n",
              "      <td>0</td>\n",
              "      <td>0</td>\n",
              "      <td>0</td>\n",
              "      <td>0</td>\n",
              "      <td>0</td>\n",
              "      <td>0</td>\n",
              "      <td>1</td>\n",
              "      <td>0</td>\n",
              "      <td>7</td>\n",
              "      <td>3</td>\n",
              "    </tr>\n",
              "    <tr>\n",
              "      <th>381829</th>\n",
              "      <td>1</td>\n",
              "      <td>1</td>\n",
              "      <td>2</td>\n",
              "      <td>1</td>\n",
              "      <td>3</td>\n",
              "      <td>1</td>\n",
              "      <td>4</td>\n",
              "      <td>1</td>\n",
              "      <td>3</td>\n",
              "      <td>13</td>\n",
              "      <td>4</td>\n",
              "      <td>2</td>\n",
              "      <td>1</td>\n",
              "      <td>13</td>\n",
              "      <td>1</td>\n",
              "      <td>0</td>\n",
              "      <td>4</td>\n",
              "      <td>0</td>\n",
              "      <td>0</td>\n",
              "      <td>0</td>\n",
              "      <td>0</td>\n",
              "      <td>0</td>\n",
              "      <td>0</td>\n",
              "      <td>0</td>\n",
              "      <td>0</td>\n",
              "      <td>0</td>\n",
              "      <td>0</td>\n",
              "      <td>0</td>\n",
              "      <td>1</td>\n",
              "      <td>0</td>\n",
              "      <td>0</td>\n",
              "      <td>1</td>\n",
              "      <td>0</td>\n",
              "      <td>7</td>\n",
              "      <td>3</td>\n",
              "    </tr>\n",
              "    <tr>\n",
              "      <th>439689</th>\n",
              "      <td>1</td>\n",
              "      <td>1</td>\n",
              "      <td>2</td>\n",
              "      <td>1</td>\n",
              "      <td>3</td>\n",
              "      <td>1</td>\n",
              "      <td>4</td>\n",
              "      <td>1</td>\n",
              "      <td>4</td>\n",
              "      <td>3</td>\n",
              "      <td>4</td>\n",
              "      <td>2</td>\n",
              "      <td>1</td>\n",
              "      <td>3</td>\n",
              "      <td>2</td>\n",
              "      <td>0</td>\n",
              "      <td>4</td>\n",
              "      <td>0</td>\n",
              "      <td>1</td>\n",
              "      <td>0</td>\n",
              "      <td>0</td>\n",
              "      <td>0</td>\n",
              "      <td>0</td>\n",
              "      <td>0</td>\n",
              "      <td>0</td>\n",
              "      <td>0</td>\n",
              "      <td>0</td>\n",
              "      <td>0</td>\n",
              "      <td>0</td>\n",
              "      <td>0</td>\n",
              "      <td>0</td>\n",
              "      <td>1</td>\n",
              "      <td>0</td>\n",
              "      <td>7</td>\n",
              "      <td>3</td>\n",
              "    </tr>\n",
              "    <tr>\n",
              "      <th>509065</th>\n",
              "      <td>2</td>\n",
              "      <td>12</td>\n",
              "      <td>2</td>\n",
              "      <td>11</td>\n",
              "      <td>2</td>\n",
              "      <td>13</td>\n",
              "      <td>2</td>\n",
              "      <td>9</td>\n",
              "      <td>2</td>\n",
              "      <td>10</td>\n",
              "      <td>1</td>\n",
              "      <td>5</td>\n",
              "      <td>9</td>\n",
              "      <td>13</td>\n",
              "      <td>4</td>\n",
              "      <td>0</td>\n",
              "      <td>0</td>\n",
              "      <td>0</td>\n",
              "      <td>0</td>\n",
              "      <td>0</td>\n",
              "      <td>0</td>\n",
              "      <td>0</td>\n",
              "      <td>0</td>\n",
              "      <td>0</td>\n",
              "      <td>1</td>\n",
              "      <td>1</td>\n",
              "      <td>1</td>\n",
              "      <td>1</td>\n",
              "      <td>1</td>\n",
              "      <td>0</td>\n",
              "      <td>0</td>\n",
              "      <td>0</td>\n",
              "      <td>1</td>\n",
              "      <td>8</td>\n",
              "      <td>4</td>\n",
              "    </tr>\n",
              "    <tr>\n",
              "      <th>588365</th>\n",
              "      <td>3</td>\n",
              "      <td>1</td>\n",
              "      <td>4</td>\n",
              "      <td>1</td>\n",
              "      <td>2</td>\n",
              "      <td>1</td>\n",
              "      <td>1</td>\n",
              "      <td>2</td>\n",
              "      <td>1</td>\n",
              "      <td>1</td>\n",
              "      <td>4</td>\n",
              "      <td>2</td>\n",
              "      <td>1</td>\n",
              "      <td>2</td>\n",
              "      <td>1</td>\n",
              "      <td>0</td>\n",
              "      <td>4</td>\n",
              "      <td>1</td>\n",
              "      <td>0</td>\n",
              "      <td>0</td>\n",
              "      <td>0</td>\n",
              "      <td>0</td>\n",
              "      <td>0</td>\n",
              "      <td>0</td>\n",
              "      <td>0</td>\n",
              "      <td>0</td>\n",
              "      <td>0</td>\n",
              "      <td>0</td>\n",
              "      <td>0</td>\n",
              "      <td>0</td>\n",
              "      <td>0</td>\n",
              "      <td>1</td>\n",
              "      <td>0</td>\n",
              "      <td>7</td>\n",
              "      <td>3</td>\n",
              "    </tr>\n",
              "    <tr>\n",
              "      <th>605172</th>\n",
              "      <td>2</td>\n",
              "      <td>1</td>\n",
              "      <td>3</td>\n",
              "      <td>1</td>\n",
              "      <td>1</td>\n",
              "      <td>1</td>\n",
              "      <td>3</td>\n",
              "      <td>11</td>\n",
              "      <td>4</td>\n",
              "      <td>1</td>\n",
              "      <td>4</td>\n",
              "      <td>2</td>\n",
              "      <td>1</td>\n",
              "      <td>11</td>\n",
              "      <td>3</td>\n",
              "      <td>0</td>\n",
              "      <td>4</td>\n",
              "      <td>0</td>\n",
              "      <td>0</td>\n",
              "      <td>0</td>\n",
              "      <td>0</td>\n",
              "      <td>0</td>\n",
              "      <td>0</td>\n",
              "      <td>0</td>\n",
              "      <td>0</td>\n",
              "      <td>0</td>\n",
              "      <td>1</td>\n",
              "      <td>0</td>\n",
              "      <td>0</td>\n",
              "      <td>0</td>\n",
              "      <td>0</td>\n",
              "      <td>1</td>\n",
              "      <td>0</td>\n",
              "      <td>7</td>\n",
              "      <td>3</td>\n",
              "    </tr>\n",
              "    <tr>\n",
              "      <th>654127</th>\n",
              "      <td>2</td>\n",
              "      <td>1</td>\n",
              "      <td>1</td>\n",
              "      <td>1</td>\n",
              "      <td>4</td>\n",
              "      <td>1</td>\n",
              "      <td>3</td>\n",
              "      <td>1</td>\n",
              "      <td>3</td>\n",
              "      <td>13</td>\n",
              "      <td>4</td>\n",
              "      <td>2</td>\n",
              "      <td>1</td>\n",
              "      <td>13</td>\n",
              "      <td>1</td>\n",
              "      <td>0</td>\n",
              "      <td>4</td>\n",
              "      <td>0</td>\n",
              "      <td>0</td>\n",
              "      <td>0</td>\n",
              "      <td>0</td>\n",
              "      <td>0</td>\n",
              "      <td>0</td>\n",
              "      <td>0</td>\n",
              "      <td>0</td>\n",
              "      <td>0</td>\n",
              "      <td>0</td>\n",
              "      <td>0</td>\n",
              "      <td>1</td>\n",
              "      <td>0</td>\n",
              "      <td>0</td>\n",
              "      <td>1</td>\n",
              "      <td>0</td>\n",
              "      <td>7</td>\n",
              "      <td>3</td>\n",
              "    </tr>\n",
              "    <tr>\n",
              "      <th>662340</th>\n",
              "      <td>2</td>\n",
              "      <td>1</td>\n",
              "      <td>1</td>\n",
              "      <td>1</td>\n",
              "      <td>2</td>\n",
              "      <td>4</td>\n",
              "      <td>3</td>\n",
              "      <td>1</td>\n",
              "      <td>4</td>\n",
              "      <td>1</td>\n",
              "      <td>4</td>\n",
              "      <td>2</td>\n",
              "      <td>1</td>\n",
              "      <td>4</td>\n",
              "      <td>3</td>\n",
              "      <td>0</td>\n",
              "      <td>4</td>\n",
              "      <td>0</td>\n",
              "      <td>0</td>\n",
              "      <td>1</td>\n",
              "      <td>0</td>\n",
              "      <td>0</td>\n",
              "      <td>0</td>\n",
              "      <td>0</td>\n",
              "      <td>0</td>\n",
              "      <td>0</td>\n",
              "      <td>0</td>\n",
              "      <td>0</td>\n",
              "      <td>0</td>\n",
              "      <td>0</td>\n",
              "      <td>0</td>\n",
              "      <td>1</td>\n",
              "      <td>0</td>\n",
              "      <td>7</td>\n",
              "      <td>3</td>\n",
              "    </tr>\n",
              "    <tr>\n",
              "      <th>733911</th>\n",
              "      <td>1</td>\n",
              "      <td>11</td>\n",
              "      <td>4</td>\n",
              "      <td>1</td>\n",
              "      <td>2</td>\n",
              "      <td>1</td>\n",
              "      <td>1</td>\n",
              "      <td>1</td>\n",
              "      <td>3</td>\n",
              "      <td>1</td>\n",
              "      <td>4</td>\n",
              "      <td>2</td>\n",
              "      <td>1</td>\n",
              "      <td>11</td>\n",
              "      <td>3</td>\n",
              "      <td>0</td>\n",
              "      <td>4</td>\n",
              "      <td>0</td>\n",
              "      <td>0</td>\n",
              "      <td>0</td>\n",
              "      <td>0</td>\n",
              "      <td>0</td>\n",
              "      <td>0</td>\n",
              "      <td>0</td>\n",
              "      <td>0</td>\n",
              "      <td>0</td>\n",
              "      <td>1</td>\n",
              "      <td>0</td>\n",
              "      <td>0</td>\n",
              "      <td>0</td>\n",
              "      <td>0</td>\n",
              "      <td>1</td>\n",
              "      <td>0</td>\n",
              "      <td>7</td>\n",
              "      <td>3</td>\n",
              "    </tr>\n",
              "    <tr>\n",
              "      <th>769126</th>\n",
              "      <td>3</td>\n",
              "      <td>1</td>\n",
              "      <td>2</td>\n",
              "      <td>1</td>\n",
              "      <td>3</td>\n",
              "      <td>5</td>\n",
              "      <td>4</td>\n",
              "      <td>1</td>\n",
              "      <td>1</td>\n",
              "      <td>1</td>\n",
              "      <td>4</td>\n",
              "      <td>2</td>\n",
              "      <td>1</td>\n",
              "      <td>5</td>\n",
              "      <td>4</td>\n",
              "      <td>0</td>\n",
              "      <td>4</td>\n",
              "      <td>0</td>\n",
              "      <td>0</td>\n",
              "      <td>0</td>\n",
              "      <td>1</td>\n",
              "      <td>0</td>\n",
              "      <td>0</td>\n",
              "      <td>0</td>\n",
              "      <td>0</td>\n",
              "      <td>0</td>\n",
              "      <td>0</td>\n",
              "      <td>0</td>\n",
              "      <td>0</td>\n",
              "      <td>0</td>\n",
              "      <td>0</td>\n",
              "      <td>1</td>\n",
              "      <td>0</td>\n",
              "      <td>7</td>\n",
              "      <td>3</td>\n",
              "    </tr>\n",
              "    <tr>\n",
              "      <th>795038</th>\n",
              "      <td>3</td>\n",
              "      <td>13</td>\n",
              "      <td>3</td>\n",
              "      <td>11</td>\n",
              "      <td>3</td>\n",
              "      <td>12</td>\n",
              "      <td>3</td>\n",
              "      <td>10</td>\n",
              "      <td>3</td>\n",
              "      <td>9</td>\n",
              "      <td>1</td>\n",
              "      <td>5</td>\n",
              "      <td>9</td>\n",
              "      <td>13</td>\n",
              "      <td>4</td>\n",
              "      <td>0</td>\n",
              "      <td>0</td>\n",
              "      <td>0</td>\n",
              "      <td>0</td>\n",
              "      <td>0</td>\n",
              "      <td>0</td>\n",
              "      <td>0</td>\n",
              "      <td>0</td>\n",
              "      <td>0</td>\n",
              "      <td>1</td>\n",
              "      <td>1</td>\n",
              "      <td>1</td>\n",
              "      <td>1</td>\n",
              "      <td>1</td>\n",
              "      <td>0</td>\n",
              "      <td>0</td>\n",
              "      <td>0</td>\n",
              "      <td>1</td>\n",
              "      <td>8</td>\n",
              "      <td>4</td>\n",
              "    </tr>\n",
              "    <tr>\n",
              "      <th>814152</th>\n",
              "      <td>3</td>\n",
              "      <td>1</td>\n",
              "      <td>1</td>\n",
              "      <td>1</td>\n",
              "      <td>1</td>\n",
              "      <td>4</td>\n",
              "      <td>2</td>\n",
              "      <td>1</td>\n",
              "      <td>4</td>\n",
              "      <td>1</td>\n",
              "      <td>4</td>\n",
              "      <td>2</td>\n",
              "      <td>1</td>\n",
              "      <td>4</td>\n",
              "      <td>3</td>\n",
              "      <td>0</td>\n",
              "      <td>4</td>\n",
              "      <td>0</td>\n",
              "      <td>0</td>\n",
              "      <td>1</td>\n",
              "      <td>0</td>\n",
              "      <td>0</td>\n",
              "      <td>0</td>\n",
              "      <td>0</td>\n",
              "      <td>0</td>\n",
              "      <td>0</td>\n",
              "      <td>0</td>\n",
              "      <td>0</td>\n",
              "      <td>0</td>\n",
              "      <td>0</td>\n",
              "      <td>0</td>\n",
              "      <td>1</td>\n",
              "      <td>0</td>\n",
              "      <td>7</td>\n",
              "      <td>3</td>\n",
              "    </tr>\n",
              "    <tr>\n",
              "      <th>853804</th>\n",
              "      <td>2</td>\n",
              "      <td>1</td>\n",
              "      <td>3</td>\n",
              "      <td>1</td>\n",
              "      <td>1</td>\n",
              "      <td>1</td>\n",
              "      <td>4</td>\n",
              "      <td>1</td>\n",
              "      <td>4</td>\n",
              "      <td>12</td>\n",
              "      <td>4</td>\n",
              "      <td>2</td>\n",
              "      <td>1</td>\n",
              "      <td>12</td>\n",
              "      <td>2</td>\n",
              "      <td>0</td>\n",
              "      <td>4</td>\n",
              "      <td>0</td>\n",
              "      <td>0</td>\n",
              "      <td>0</td>\n",
              "      <td>0</td>\n",
              "      <td>0</td>\n",
              "      <td>0</td>\n",
              "      <td>0</td>\n",
              "      <td>0</td>\n",
              "      <td>0</td>\n",
              "      <td>0</td>\n",
              "      <td>1</td>\n",
              "      <td>0</td>\n",
              "      <td>0</td>\n",
              "      <td>0</td>\n",
              "      <td>1</td>\n",
              "      <td>0</td>\n",
              "      <td>7</td>\n",
              "      <td>3</td>\n",
              "    </tr>\n",
              "  </tbody>\n",
              "</table>\n",
              "</div>"
            ],
            "text/plain": [
              "        suit_0  card_0  suit_1  ...  straight_flush  Actual  Predicted\n",
              "3204         4       1       1  ...               0       7          3\n",
              "40132        1       2       1  ...               0       7          3\n",
              "231194       2       1       3  ...               0       7          3\n",
              "295268       1       1       4  ...               0       7          3\n",
              "328223       4       1       1  ...               0       7          3\n",
              "374458       3       1       4  ...               0       7          3\n",
              "381829       1       1       2  ...               0       7          3\n",
              "439689       1       1       2  ...               0       7          3\n",
              "509065       2      12       2  ...               1       8          4\n",
              "588365       3       1       4  ...               0       7          3\n",
              "605172       2       1       3  ...               0       7          3\n",
              "654127       2       1       1  ...               0       7          3\n",
              "662340       2       1       1  ...               0       7          3\n",
              "733911       1      11       4  ...               0       7          3\n",
              "769126       3       1       2  ...               0       7          3\n",
              "795038       3      13       3  ...               1       8          4\n",
              "814152       3       1       1  ...               0       7          3\n",
              "853804       2       1       3  ...               0       7          3\n",
              "\n",
              "[18 rows x 35 columns]"
            ]
          },
          "metadata": {
            "tags": []
          },
          "execution_count": 40
        }
      ]
    },
    {
      "cell_type": "markdown",
      "metadata": {
        "id": "rxvs_0D_G4MG"
      },
      "source": [
        "## Balancing"
      ]
    },
    {
      "cell_type": "code",
      "metadata": {
        "colab": {
          "base_uri": "https://localhost:8080/"
        },
        "id": "UgYG7b7jAQD7",
        "outputId": "3ebb2321-58d9-415a-cd29-f2aeda35fb92"
      },
      "source": [
        "print(f'Hands correct {np.sum(np.where(pred == y_test, 1, 0)):,}')\n",
        "print(f'Hands failed  {np.sum(np.where(pred != y_test, 1, 0)):,}')"
      ],
      "execution_count": null,
      "outputs": [
        {
          "output_type": "stream",
          "text": [
            "Hands correct 999,982\n",
            "Hands failed  18\n"
          ],
          "name": "stdout"
        }
      ]
    },
    {
      "cell_type": "code",
      "metadata": {
        "id": "k_97msUmJX3L"
      },
      "source": [
        "weights = {0:1, \n",
        "           1:1, \n",
        "           2:1, \n",
        "           3:1, \n",
        "           4:1, \n",
        "           5:1, \n",
        "           6:50, \n",
        "           7:100, \n",
        "           8:100, \n",
        "           9:100}"
      ],
      "execution_count": null,
      "outputs": []
    },
    {
      "cell_type": "code",
      "metadata": {
        "colab": {
          "base_uri": "https://localhost:8080/"
        },
        "id": "V2NTSGJhJqiM",
        "outputId": "96cb3742-e106-4b34-a277-d23de6cea170"
      },
      "source": [
        "rf = RandomForestClassifier(class_weight=weights)\n",
        "rf.fit(X_train_feature, y_train)"
      ],
      "execution_count": null,
      "outputs": [
        {
          "output_type": "execute_result",
          "data": {
            "text/plain": [
              "RandomForestClassifier(bootstrap=True, ccp_alpha=0.0,\n",
              "                       class_weight={0: 1, 1: 1, 2: 1, 3: 1, 4: 1, 5: 1, 6: 50,\n",
              "                                     7: 100, 8: 100, 9: 100},\n",
              "                       criterion='gini', max_depth=None, max_features='auto',\n",
              "                       max_leaf_nodes=None, max_samples=None,\n",
              "                       min_impurity_decrease=0.0, min_impurity_split=None,\n",
              "                       min_samples_leaf=1, min_samples_split=2,\n",
              "                       min_weight_fraction_leaf=0.0, n_estimators=100,\n",
              "                       n_jobs=None, oob_score=False, random_state=None,\n",
              "                       verbose=0, warm_start=False)"
            ]
          },
          "metadata": {
            "tags": []
          },
          "execution_count": 43
        }
      ]
    },
    {
      "cell_type": "code",
      "metadata": {
        "colab": {
          "base_uri": "https://localhost:8080/"
        },
        "id": "kVZuX8iuJtuF",
        "outputId": "2ddbbb01-bea5-493d-bb90-d872f40217c3"
      },
      "source": [
        "pred = rf.predict(X_test_feature)\n",
        "print(classification_report(y_test, pred, target_names=hand_labels))"
      ],
      "execution_count": null,
      "outputs": [
        {
          "output_type": "stream",
          "text": [
            "                 precision    recall  f1-score   support\n",
            "\n",
            "        Nothing       1.00      1.00      1.00    501209\n",
            "       One Pair       1.00      1.00      1.00    422498\n",
            "       Two Pair       1.00      1.00      1.00     47622\n",
            "Three of a kind       1.00      1.00      1.00     21121\n",
            "       Straight       1.00      1.00      1.00      3885\n",
            "          Flush       1.00      1.00      1.00      1996\n",
            "     Full house       1.00      1.00      1.00      1424\n",
            " Four of a kind       1.00      1.00      1.00       230\n",
            " Straight flush       1.00      1.00      1.00        12\n",
            "    Royal flush       1.00      1.00      1.00         3\n",
            "\n",
            "       accuracy                           1.00   1000000\n",
            "      macro avg       1.00      1.00      1.00   1000000\n",
            "   weighted avg       1.00      1.00      1.00   1000000\n",
            "\n"
          ],
          "name": "stdout"
        }
      ]
    },
    {
      "cell_type": "code",
      "metadata": {
        "colab": {
          "base_uri": "https://localhost:8080/",
          "height": 69
        },
        "id": "6X6GDjVe6XtS",
        "outputId": "c489f206-0e4e-429a-b874-eba1c4cace44"
      },
      "source": [
        "mask = pred != y_test\n",
        "error_df = X_test_feature.copy()\n",
        "error_df['Actual']    = y_test\n",
        "error_df['Predicted'] = pred\n",
        "error_df[mask]"
      ],
      "execution_count": null,
      "outputs": [
        {
          "output_type": "execute_result",
          "data": {
            "text/html": [
              "<div>\n",
              "<style scoped>\n",
              "    .dataframe tbody tr th:only-of-type {\n",
              "        vertical-align: middle;\n",
              "    }\n",
              "\n",
              "    .dataframe tbody tr th {\n",
              "        vertical-align: top;\n",
              "    }\n",
              "\n",
              "    .dataframe thead th {\n",
              "        text-align: right;\n",
              "    }\n",
              "</style>\n",
              "<table border=\"1\" class=\"dataframe\">\n",
              "  <thead>\n",
              "    <tr style=\"text-align: right;\">\n",
              "      <th></th>\n",
              "      <th>suit_0</th>\n",
              "      <th>card_0</th>\n",
              "      <th>suit_1</th>\n",
              "      <th>card_1</th>\n",
              "      <th>suit_2</th>\n",
              "      <th>card_2</th>\n",
              "      <th>suit_3</th>\n",
              "      <th>card_3</th>\n",
              "      <th>suit_4</th>\n",
              "      <th>card_4</th>\n",
              "      <th>unique_suits</th>\n",
              "      <th>unique_cards</th>\n",
              "      <th>card_min</th>\n",
              "      <th>card_max</th>\n",
              "      <th>card_distance</th>\n",
              "      <th>count_0</th>\n",
              "      <th>count_1</th>\n",
              "      <th>count_2</th>\n",
              "      <th>count_3</th>\n",
              "      <th>count_4</th>\n",
              "      <th>count_5</th>\n",
              "      <th>count_6</th>\n",
              "      <th>count_7</th>\n",
              "      <th>count_8</th>\n",
              "      <th>count_9</th>\n",
              "      <th>count_10</th>\n",
              "      <th>count_11</th>\n",
              "      <th>count_12</th>\n",
              "      <th>count_13</th>\n",
              "      <th>any_two</th>\n",
              "      <th>any_three</th>\n",
              "      <th>any_four</th>\n",
              "      <th>straight_flush</th>\n",
              "      <th>Actual</th>\n",
              "      <th>Predicted</th>\n",
              "    </tr>\n",
              "  </thead>\n",
              "  <tbody>\n",
              "  </tbody>\n",
              "</table>\n",
              "</div>"
            ],
            "text/plain": [
              "Empty DataFrame\n",
              "Columns: [suit_0, card_0, suit_1, card_1, suit_2, card_2, suit_3, card_3, suit_4, card_4, unique_suits, unique_cards, card_min, card_max, card_distance, count_0, count_1, count_2, count_3, count_4, count_5, count_6, count_7, count_8, count_9, count_10, count_11, count_12, count_13, any_two, any_three, any_four, straight_flush, Actual, Predicted]\n",
              "Index: []"
            ]
          },
          "metadata": {
            "tags": []
          },
          "execution_count": 45
        }
      ]
    },
    {
      "cell_type": "markdown",
      "metadata": {
        "id": "cHOA83py8yHA"
      },
      "source": [
        "# Final"
      ]
    },
    {
      "cell_type": "code",
      "metadata": {
        "colab": {
          "base_uri": "https://localhost:8080/"
        },
        "id": "m-fwn98v3Mh-",
        "outputId": "3bb28d06-b4e1-48d5-daf7-9c9cbf88e207"
      },
      "source": [
        "print(f'Hands correct {np.sum(np.where(pred == y_test, 1, 0)):,}')\n",
        "print(f'Hands failed  {np.sum(np.where(pred != y_test, 1, 0)):,}')"
      ],
      "execution_count": null,
      "outputs": [
        {
          "output_type": "stream",
          "text": [
            "Hands correct 1,000,000\n",
            "Hands failed  0\n"
          ],
          "name": "stdout"
        }
      ]
    },
    {
      "cell_type": "markdown",
      "metadata": {
        "id": "B_JH4cPf3NNT"
      },
      "source": [
        "## Importance"
      ]
    },
    {
      "cell_type": "code",
      "metadata": {
        "colab": {
          "base_uri": "https://localhost:8080/",
          "height": 607
        },
        "id": "FUhXB2Ue3QXL",
        "outputId": "15a502da-709a-4499-976d-c8386d72a313"
      },
      "source": [
        "\n",
        "features = X_train_feature.columns\n",
        "importances = rf.feature_importances_\n",
        "indices = np.argsort(importances)\n",
        "\n",
        "plt.figure(figsize=(15,10))\n",
        "plt.title('Feature Importance')\n",
        "plt.barh(range(len(indices)),   importances[indices], color='b')\n",
        "plt.yticks(range(len(indices)), features[indices])\n",
        "plt.show()"
      ],
      "execution_count": null,
      "outputs": [
        {
          "output_type": "display_data",
          "data": {
            "image/png": "[encoded data removed]",
            "text/plain": [
              "<Figure size 1080x720 with 1 Axes>"
            ]
          },
          "metadata": {
            "tags": [],
            "needs_background": "light"
          }
        }
      ]
    },
    {
      "cell_type": "markdown",
      "metadata": {
        "id": "x7rdW0wZwrDU"
      },
      "source": [
        "# Notes\n",
        "* Trees are good at finding patterns, but can't feature engineer\n",
        "* Adding features helps trees solve\n",
        "* Using RandomForests, Boosting, DecisionTrees - invest in error analysis & feature engineering"
      ]
    },
    {
      "cell_type": "code",
      "metadata": {
        "id": "2zoTupzrxDf_"
      },
      "source": [
        ""
      ],
      "execution_count": null,
      "outputs": []
    }
  ]
}