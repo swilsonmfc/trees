{
  "nbformat": 4,
  "nbformat_minor": 0,
  "metadata": {
    "colab": {
      "name": "TicTacToe.ipynb",
      "provenance": [],
      "collapsed_sections": [],
      "toc_visible": true,
      "authorship_tag": "ABX9TyOQwqgZaoOPejOFh7li6bBX",
      "include_colab_link": true
    },
    "kernelspec": {
      "name": "python3",
      "display_name": "Python 3"
    }
  },
  "cells": [
    {
      "cell_type": "markdown",
      "metadata": {
        "id": "view-in-github",
        "colab_type": "text"
      },
      "source": [
        "<a href=\"https://colab.research.google.com/github/swilsonmfc/trees/blob/master/TicTacToe.ipynb\" target=\"_parent\"><img src=\"https://colab.research.google.com/assets/colab-badge.svg\" alt=\"Open In Colab\"/></a>"
      ]
    },
    {
      "cell_type": "markdown",
      "metadata": {
        "id": "KVtI9L42xUcj"
      },
      "source": [
        "# Tic Tac Toe\n",
        "\n",
        "![](https://miro.medium.com/max/599/1*Wbif8jHo31boDYlbpDcT_Q@2x.jpeg)"
      ]
    },
    {
      "cell_type": "markdown",
      "metadata": {
        "id": "bF3Nt2FhxZJ7"
      },
      "source": [
        "# Setup"
      ]
    },
    {
      "cell_type": "code",
      "metadata": {
        "id": "6iQSNz2hxwow"
      },
      "source": [
        "import pandas as pd\n",
        "import numpy as np\n",
        "import matplotlib.pyplot as plt\n",
        "import seaborn as sns\n",
        "\n",
        "from sklearn.ensemble import AdaBoostClassifier\n",
        "\n",
        "from sklearn.preprocessing import OneHotEncoder\n",
        "from sklearn.preprocessing import LabelEncoder\n",
        "\n",
        "from sklearn.model_selection import train_test_split\n",
        "from sklearn.model_selection import cross_val_score\n",
        "from sklearn.metrics import classification_report\n",
        "from sklearn.metrics import confusion_matrix\n",
        "from sklearn.metrics import log_loss\n",
        "from sklearn.metrics import accuracy_score\n",
        "from imblearn.over_sampling import RandomOverSampler"
      ],
      "execution_count": 32,
      "outputs": []
    },
    {
      "cell_type": "markdown",
      "metadata": {
        "id": "LW4RSjEsx9QK"
      },
      "source": [
        "# Data"
      ]
    },
    {
      "cell_type": "code",
      "metadata": {
        "colab": {
          "base_uri": "https://localhost:8080/"
        },
        "id": "D5vN0cpMx_cq",
        "outputId": "56412d4c-a7a8-4843-ed4d-cae2e0ffec9c"
      },
      "source": [
        "!wget https://archive.ics.uci.edu/ml/machine-learning-databases/tic-tac-toe/tic-tac-toe.data"
      ],
      "execution_count": 33,
      "outputs": [
        {
          "output_type": "stream",
          "text": [
            "--2021-03-25 14:47:18--  https://archive.ics.uci.edu/ml/machine-learning-databases/tic-tac-toe/tic-tac-toe.data\n",
            "Resolving archive.ics.uci.edu (archive.ics.uci.edu)... 128.195.10.252\n",
            "Connecting to archive.ics.uci.edu (archive.ics.uci.edu)|128.195.10.252|:443... connected.\n",
            "HTTP request sent, awaiting response... 200 OK\n",
            "Length: 25866 (25K) [application/x-httpd-php]\n",
            "Saving to: ‘tic-tac-toe.data.1’\n",
            "\n",
            "tic-tac-toe.data.1  100%[===================>]  25.26K   166KB/s    in 0.2s    \n",
            "\n",
            "2021-03-25 14:47:19 (166 KB/s) - ‘tic-tac-toe.data.1’ saved [25866/25866]\n",
            "\n"
          ],
          "name": "stdout"
        }
      ]
    },
    {
      "cell_type": "code",
      "metadata": {
        "id": "GIN88ntryMLc"
      },
      "source": [
        "names = [f'pos_{x}' for x in range(9)] + ['target']\n",
        "df = pd.read_csv('tic-tac-toe.data', names=names)"
      ],
      "execution_count": 34,
      "outputs": []
    },
    {
      "cell_type": "code",
      "metadata": {
        "colab": {
          "base_uri": "https://localhost:8080/",
          "height": 407
        },
        "id": "k2F_nU-HyWsb",
        "outputId": "37e655de-0308-4529-9e10-6f007b4c7e5f"
      },
      "source": [
        "df"
      ],
      "execution_count": 35,
      "outputs": [
        {
          "output_type": "execute_result",
          "data": {
            "text/html": [
              "<div>\n",
              "<style scoped>\n",
              "    .dataframe tbody tr th:only-of-type {\n",
              "        vertical-align: middle;\n",
              "    }\n",
              "\n",
              "    .dataframe tbody tr th {\n",
              "        vertical-align: top;\n",
              "    }\n",
              "\n",
              "    .dataframe thead th {\n",
              "        text-align: right;\n",
              "    }\n",
              "</style>\n",
              "<table border=\"1\" class=\"dataframe\">\n",
              "  <thead>\n",
              "    <tr style=\"text-align: right;\">\n",
              "      <th></th>\n",
              "      <th>pos_0</th>\n",
              "      <th>pos_1</th>\n",
              "      <th>pos_2</th>\n",
              "      <th>pos_3</th>\n",
              "      <th>pos_4</th>\n",
              "      <th>pos_5</th>\n",
              "      <th>pos_6</th>\n",
              "      <th>pos_7</th>\n",
              "      <th>pos_8</th>\n",
              "      <th>target</th>\n",
              "    </tr>\n",
              "  </thead>\n",
              "  <tbody>\n",
              "    <tr>\n",
              "      <th>0</th>\n",
              "      <td>x</td>\n",
              "      <td>x</td>\n",
              "      <td>x</td>\n",
              "      <td>x</td>\n",
              "      <td>o</td>\n",
              "      <td>o</td>\n",
              "      <td>x</td>\n",
              "      <td>o</td>\n",
              "      <td>o</td>\n",
              "      <td>positive</td>\n",
              "    </tr>\n",
              "    <tr>\n",
              "      <th>1</th>\n",
              "      <td>x</td>\n",
              "      <td>x</td>\n",
              "      <td>x</td>\n",
              "      <td>x</td>\n",
              "      <td>o</td>\n",
              "      <td>o</td>\n",
              "      <td>o</td>\n",
              "      <td>x</td>\n",
              "      <td>o</td>\n",
              "      <td>positive</td>\n",
              "    </tr>\n",
              "    <tr>\n",
              "      <th>2</th>\n",
              "      <td>x</td>\n",
              "      <td>x</td>\n",
              "      <td>x</td>\n",
              "      <td>x</td>\n",
              "      <td>o</td>\n",
              "      <td>o</td>\n",
              "      <td>o</td>\n",
              "      <td>o</td>\n",
              "      <td>x</td>\n",
              "      <td>positive</td>\n",
              "    </tr>\n",
              "    <tr>\n",
              "      <th>3</th>\n",
              "      <td>x</td>\n",
              "      <td>x</td>\n",
              "      <td>x</td>\n",
              "      <td>x</td>\n",
              "      <td>o</td>\n",
              "      <td>o</td>\n",
              "      <td>o</td>\n",
              "      <td>b</td>\n",
              "      <td>b</td>\n",
              "      <td>positive</td>\n",
              "    </tr>\n",
              "    <tr>\n",
              "      <th>4</th>\n",
              "      <td>x</td>\n",
              "      <td>x</td>\n",
              "      <td>x</td>\n",
              "      <td>x</td>\n",
              "      <td>o</td>\n",
              "      <td>o</td>\n",
              "      <td>b</td>\n",
              "      <td>o</td>\n",
              "      <td>b</td>\n",
              "      <td>positive</td>\n",
              "    </tr>\n",
              "    <tr>\n",
              "      <th>...</th>\n",
              "      <td>...</td>\n",
              "      <td>...</td>\n",
              "      <td>...</td>\n",
              "      <td>...</td>\n",
              "      <td>...</td>\n",
              "      <td>...</td>\n",
              "      <td>...</td>\n",
              "      <td>...</td>\n",
              "      <td>...</td>\n",
              "      <td>...</td>\n",
              "    </tr>\n",
              "    <tr>\n",
              "      <th>953</th>\n",
              "      <td>o</td>\n",
              "      <td>x</td>\n",
              "      <td>x</td>\n",
              "      <td>x</td>\n",
              "      <td>o</td>\n",
              "      <td>o</td>\n",
              "      <td>o</td>\n",
              "      <td>x</td>\n",
              "      <td>x</td>\n",
              "      <td>negative</td>\n",
              "    </tr>\n",
              "    <tr>\n",
              "      <th>954</th>\n",
              "      <td>o</td>\n",
              "      <td>x</td>\n",
              "      <td>o</td>\n",
              "      <td>x</td>\n",
              "      <td>x</td>\n",
              "      <td>o</td>\n",
              "      <td>x</td>\n",
              "      <td>o</td>\n",
              "      <td>x</td>\n",
              "      <td>negative</td>\n",
              "    </tr>\n",
              "    <tr>\n",
              "      <th>955</th>\n",
              "      <td>o</td>\n",
              "      <td>x</td>\n",
              "      <td>o</td>\n",
              "      <td>x</td>\n",
              "      <td>o</td>\n",
              "      <td>x</td>\n",
              "      <td>x</td>\n",
              "      <td>o</td>\n",
              "      <td>x</td>\n",
              "      <td>negative</td>\n",
              "    </tr>\n",
              "    <tr>\n",
              "      <th>956</th>\n",
              "      <td>o</td>\n",
              "      <td>x</td>\n",
              "      <td>o</td>\n",
              "      <td>o</td>\n",
              "      <td>x</td>\n",
              "      <td>x</td>\n",
              "      <td>x</td>\n",
              "      <td>o</td>\n",
              "      <td>x</td>\n",
              "      <td>negative</td>\n",
              "    </tr>\n",
              "    <tr>\n",
              "      <th>957</th>\n",
              "      <td>o</td>\n",
              "      <td>o</td>\n",
              "      <td>x</td>\n",
              "      <td>x</td>\n",
              "      <td>x</td>\n",
              "      <td>o</td>\n",
              "      <td>o</td>\n",
              "      <td>x</td>\n",
              "      <td>x</td>\n",
              "      <td>negative</td>\n",
              "    </tr>\n",
              "  </tbody>\n",
              "</table>\n",
              "<p>958 rows × 10 columns</p>\n",
              "</div>"
            ],
            "text/plain": [
              "    pos_0 pos_1 pos_2 pos_3 pos_4 pos_5 pos_6 pos_7 pos_8    target\n",
              "0       x     x     x     x     o     o     x     o     o  positive\n",
              "1       x     x     x     x     o     o     o     x     o  positive\n",
              "2       x     x     x     x     o     o     o     o     x  positive\n",
              "3       x     x     x     x     o     o     o     b     b  positive\n",
              "4       x     x     x     x     o     o     b     o     b  positive\n",
              "..    ...   ...   ...   ...   ...   ...   ...   ...   ...       ...\n",
              "953     o     x     x     x     o     o     o     x     x  negative\n",
              "954     o     x     o     x     x     o     x     o     x  negative\n",
              "955     o     x     o     x     o     x     x     o     x  negative\n",
              "956     o     x     o     o     x     x     x     o     x  negative\n",
              "957     o     o     x     x     x     o     o     x     x  negative\n",
              "\n",
              "[958 rows x 10 columns]"
            ]
          },
          "metadata": {
            "tags": []
          },
          "execution_count": 35
        }
      ]
    },
    {
      "cell_type": "markdown",
      "metadata": {
        "id": "qy8_nF15ydGD"
      },
      "source": [
        "# Visualize"
      ]
    },
    {
      "cell_type": "code",
      "metadata": {
        "id": "DOXcLuKHyr1I"
      },
      "source": [
        "def draw_game(row):\n",
        "  print(f\"{row['pos_0']} {row['pos_1']} {row['pos_2']}\")\n",
        "  print(f\"{row['pos_3']} {row['pos_4']} {row['pos_5']}\")\n",
        "  print(f\"{row['pos_6']} {row['pos_7']} {row['pos_8']}\")\n",
        "  print(row['target'])"
      ],
      "execution_count": 36,
      "outputs": []
    },
    {
      "cell_type": "code",
      "metadata": {
        "colab": {
          "base_uri": "https://localhost:8080/"
        },
        "id": "7h4SodCUzNe_",
        "outputId": "83647da4-7a28-4a7a-e690-350f6d4c527b"
      },
      "source": [
        "draw_game(df.iloc[0])"
      ],
      "execution_count": 37,
      "outputs": [
        {
          "output_type": "stream",
          "text": [
            "x x x\n",
            "x o o\n",
            "x o o\n",
            "positive\n"
          ],
          "name": "stdout"
        }
      ]
    },
    {
      "cell_type": "code",
      "metadata": {
        "colab": {
          "base_uri": "https://localhost:8080/"
        },
        "id": "DOIZWBqq2DQ7",
        "outputId": "e30c0cf0-2ce6-4521-aee6-7a0109bc1af1"
      },
      "source": [
        "draw_game(df.iloc[957])"
      ],
      "execution_count": 38,
      "outputs": [
        {
          "output_type": "stream",
          "text": [
            "o o x\n",
            "x x o\n",
            "o x x\n",
            "negative\n"
          ],
          "name": "stdout"
        }
      ]
    },
    {
      "cell_type": "markdown",
      "metadata": {
        "id": "MVkSvC28zt8w"
      },
      "source": [
        "# Preprocess\n",
        "* Encode x, o, b into numeric\n",
        "* Convert positive / negative to binary"
      ]
    },
    {
      "cell_type": "code",
      "metadata": {
        "id": "dtM2QcXGbOOk"
      },
      "source": [
        "mapping_board  = {'o':0, 'x':1, 'b':2}\n",
        "mapping_target = {'positive':1, 'negative':0}\n",
        "for i in range(9):\n",
        "  df[f'pos_{i}'] = df[f'pos_{i}'].map(mapping_board)\n",
        "df['target']   = df['target'].map(mapping_target)"
      ],
      "execution_count": 39,
      "outputs": []
    },
    {
      "cell_type": "code",
      "metadata": {
        "colab": {
          "base_uri": "https://localhost:8080/",
          "height": 407
        },
        "id": "e4rgNQUrbLpI",
        "outputId": "ebd73c49-15eb-416d-a43a-c742120d01f8"
      },
      "source": [
        "df"
      ],
      "execution_count": 40,
      "outputs": [
        {
          "output_type": "execute_result",
          "data": {
            "text/html": [
              "<div>\n",
              "<style scoped>\n",
              "    .dataframe tbody tr th:only-of-type {\n",
              "        vertical-align: middle;\n",
              "    }\n",
              "\n",
              "    .dataframe tbody tr th {\n",
              "        vertical-align: top;\n",
              "    }\n",
              "\n",
              "    .dataframe thead th {\n",
              "        text-align: right;\n",
              "    }\n",
              "</style>\n",
              "<table border=\"1\" class=\"dataframe\">\n",
              "  <thead>\n",
              "    <tr style=\"text-align: right;\">\n",
              "      <th></th>\n",
              "      <th>pos_0</th>\n",
              "      <th>pos_1</th>\n",
              "      <th>pos_2</th>\n",
              "      <th>pos_3</th>\n",
              "      <th>pos_4</th>\n",
              "      <th>pos_5</th>\n",
              "      <th>pos_6</th>\n",
              "      <th>pos_7</th>\n",
              "      <th>pos_8</th>\n",
              "      <th>target</th>\n",
              "    </tr>\n",
              "  </thead>\n",
              "  <tbody>\n",
              "    <tr>\n",
              "      <th>0</th>\n",
              "      <td>1</td>\n",
              "      <td>1</td>\n",
              "      <td>1</td>\n",
              "      <td>1</td>\n",
              "      <td>0</td>\n",
              "      <td>0</td>\n",
              "      <td>1</td>\n",
              "      <td>0</td>\n",
              "      <td>0</td>\n",
              "      <td>1</td>\n",
              "    </tr>\n",
              "    <tr>\n",
              "      <th>1</th>\n",
              "      <td>1</td>\n",
              "      <td>1</td>\n",
              "      <td>1</td>\n",
              "      <td>1</td>\n",
              "      <td>0</td>\n",
              "      <td>0</td>\n",
              "      <td>0</td>\n",
              "      <td>1</td>\n",
              "      <td>0</td>\n",
              "      <td>1</td>\n",
              "    </tr>\n",
              "    <tr>\n",
              "      <th>2</th>\n",
              "      <td>1</td>\n",
              "      <td>1</td>\n",
              "      <td>1</td>\n",
              "      <td>1</td>\n",
              "      <td>0</td>\n",
              "      <td>0</td>\n",
              "      <td>0</td>\n",
              "      <td>0</td>\n",
              "      <td>1</td>\n",
              "      <td>1</td>\n",
              "    </tr>\n",
              "    <tr>\n",
              "      <th>3</th>\n",
              "      <td>1</td>\n",
              "      <td>1</td>\n",
              "      <td>1</td>\n",
              "      <td>1</td>\n",
              "      <td>0</td>\n",
              "      <td>0</td>\n",
              "      <td>0</td>\n",
              "      <td>2</td>\n",
              "      <td>2</td>\n",
              "      <td>1</td>\n",
              "    </tr>\n",
              "    <tr>\n",
              "      <th>4</th>\n",
              "      <td>1</td>\n",
              "      <td>1</td>\n",
              "      <td>1</td>\n",
              "      <td>1</td>\n",
              "      <td>0</td>\n",
              "      <td>0</td>\n",
              "      <td>2</td>\n",
              "      <td>0</td>\n",
              "      <td>2</td>\n",
              "      <td>1</td>\n",
              "    </tr>\n",
              "    <tr>\n",
              "      <th>...</th>\n",
              "      <td>...</td>\n",
              "      <td>...</td>\n",
              "      <td>...</td>\n",
              "      <td>...</td>\n",
              "      <td>...</td>\n",
              "      <td>...</td>\n",
              "      <td>...</td>\n",
              "      <td>...</td>\n",
              "      <td>...</td>\n",
              "      <td>...</td>\n",
              "    </tr>\n",
              "    <tr>\n",
              "      <th>953</th>\n",
              "      <td>0</td>\n",
              "      <td>1</td>\n",
              "      <td>1</td>\n",
              "      <td>1</td>\n",
              "      <td>0</td>\n",
              "      <td>0</td>\n",
              "      <td>0</td>\n",
              "      <td>1</td>\n",
              "      <td>1</td>\n",
              "      <td>0</td>\n",
              "    </tr>\n",
              "    <tr>\n",
              "      <th>954</th>\n",
              "      <td>0</td>\n",
              "      <td>1</td>\n",
              "      <td>0</td>\n",
              "      <td>1</td>\n",
              "      <td>1</td>\n",
              "      <td>0</td>\n",
              "      <td>1</td>\n",
              "      <td>0</td>\n",
              "      <td>1</td>\n",
              "      <td>0</td>\n",
              "    </tr>\n",
              "    <tr>\n",
              "      <th>955</th>\n",
              "      <td>0</td>\n",
              "      <td>1</td>\n",
              "      <td>0</td>\n",
              "      <td>1</td>\n",
              "      <td>0</td>\n",
              "      <td>1</td>\n",
              "      <td>1</td>\n",
              "      <td>0</td>\n",
              "      <td>1</td>\n",
              "      <td>0</td>\n",
              "    </tr>\n",
              "    <tr>\n",
              "      <th>956</th>\n",
              "      <td>0</td>\n",
              "      <td>1</td>\n",
              "      <td>0</td>\n",
              "      <td>0</td>\n",
              "      <td>1</td>\n",
              "      <td>1</td>\n",
              "      <td>1</td>\n",
              "      <td>0</td>\n",
              "      <td>1</td>\n",
              "      <td>0</td>\n",
              "    </tr>\n",
              "    <tr>\n",
              "      <th>957</th>\n",
              "      <td>0</td>\n",
              "      <td>0</td>\n",
              "      <td>1</td>\n",
              "      <td>1</td>\n",
              "      <td>1</td>\n",
              "      <td>0</td>\n",
              "      <td>0</td>\n",
              "      <td>1</td>\n",
              "      <td>1</td>\n",
              "      <td>0</td>\n",
              "    </tr>\n",
              "  </tbody>\n",
              "</table>\n",
              "<p>958 rows × 10 columns</p>\n",
              "</div>"
            ],
            "text/plain": [
              "     pos_0  pos_1  pos_2  pos_3  pos_4  pos_5  pos_6  pos_7  pos_8  target\n",
              "0        1      1      1      1      0      0      1      0      0       1\n",
              "1        1      1      1      1      0      0      0      1      0       1\n",
              "2        1      1      1      1      0      0      0      0      1       1\n",
              "3        1      1      1      1      0      0      0      2      2       1\n",
              "4        1      1      1      1      0      0      2      0      2       1\n",
              "..     ...    ...    ...    ...    ...    ...    ...    ...    ...     ...\n",
              "953      0      1      1      1      0      0      0      1      1       0\n",
              "954      0      1      0      1      1      0      1      0      1       0\n",
              "955      0      1      0      1      0      1      1      0      1       0\n",
              "956      0      1      0      0      1      1      1      0      1       0\n",
              "957      0      0      1      1      1      0      0      1      1       0\n",
              "\n",
              "[958 rows x 10 columns]"
            ]
          },
          "metadata": {
            "tags": []
          },
          "execution_count": 40
        }
      ]
    },
    {
      "cell_type": "markdown",
      "metadata": {
        "id": "4W6TOivVccM7"
      },
      "source": [
        "# Train Test"
      ]
    },
    {
      "cell_type": "code",
      "metadata": {
        "id": "pnJtDRa5cf3f"
      },
      "source": [
        "X = df.copy()\n",
        "y = df['target']\n",
        "X = X.drop(columns='target')\n",
        "X_train, X_test, y_train, y_test = train_test_split(X, y, random_state=151)"
      ],
      "execution_count": 41,
      "outputs": []
    },
    {
      "cell_type": "markdown",
      "metadata": {
        "id": "DSfq4KKBeDDw"
      },
      "source": [
        "# Results"
      ]
    },
    {
      "cell_type": "code",
      "metadata": {
        "id": "AuWV-j0-eBrz"
      },
      "source": [
        "results_df = pd.DataFrame(columns=['Accuracy'])"
      ],
      "execution_count": 42,
      "outputs": []
    },
    {
      "cell_type": "markdown",
      "metadata": {
        "id": "tHWJ-wih1wfy"
      },
      "source": [
        "# Model"
      ]
    },
    {
      "cell_type": "code",
      "metadata": {
        "colab": {
          "base_uri": "https://localhost:8080/"
        },
        "id": "H1N1_1C8uSII",
        "outputId": "1ac76d91-9a4b-4d2c-ac4c-4266139e959c"
      },
      "source": [
        "ada = AdaBoostClassifier(random_state=15)\n",
        "ada.fit(X_train, y_train)\n",
        "pred = ada.predict(X_test)\n",
        "print(classification_report(y_test, pred))"
      ],
      "execution_count": 43,
      "outputs": [
        {
          "output_type": "stream",
          "text": [
            "              precision    recall  f1-score   support\n",
            "\n",
            "           0       0.89      0.56      0.69        85\n",
            "           1       0.80      0.96      0.87       155\n",
            "\n",
            "    accuracy                           0.82       240\n",
            "   macro avg       0.84      0.76      0.78       240\n",
            "weighted avg       0.83      0.82      0.81       240\n",
            "\n"
          ],
          "name": "stdout"
        }
      ]
    },
    {
      "cell_type": "markdown",
      "metadata": {
        "id": "udtAIimBudhO"
      },
      "source": [
        "## Lucky\n",
        "* Did we get lucky with a split of the data?"
      ]
    },
    {
      "cell_type": "code",
      "metadata": {
        "colab": {
          "base_uri": "https://localhost:8080/"
        },
        "id": "0BllOsIwcW05",
        "outputId": "db0a4870-ccfb-481a-d720-66253edb676c"
      },
      "source": [
        "ada = AdaBoostClassifier(random_state=125)\n",
        "score = cross_val_score(ada, X, y).mean()\n",
        "results_df.loc['Baseline'] = score\n",
        "print(f'Score = {score:.4f}')"
      ],
      "execution_count": 44,
      "outputs": [
        {
          "output_type": "stream",
          "text": [
            "Score = 0.7328\n"
          ],
          "name": "stdout"
        }
      ]
    },
    {
      "cell_type": "markdown",
      "metadata": {
        "id": "zLzLJGLfdCF-"
      },
      "source": [
        "# Improvements"
      ]
    },
    {
      "cell_type": "markdown",
      "metadata": {
        "id": "6EaPSb3Xd4GC"
      },
      "source": [
        "## Increase Estimators - 100"
      ]
    },
    {
      "cell_type": "code",
      "metadata": {
        "colab": {
          "base_uri": "https://localhost:8080/"
        },
        "id": "QVDwdhwEd3Ul",
        "outputId": "698f0f7e-0f44-4578-bdcf-d8c6a5206fdc"
      },
      "source": [
        "ada = AdaBoostClassifier(n_estimators=100, random_state=125)\n",
        "score = cross_val_score(ada, X, y).mean()\n",
        "results_df.loc['100 Estimators'] = score\n",
        "print(f'Score = {score:.4f}')"
      ],
      "execution_count": 45,
      "outputs": [
        {
          "output_type": "stream",
          "text": [
            "Score = 0.8006\n"
          ],
          "name": "stdout"
        }
      ]
    },
    {
      "cell_type": "markdown",
      "metadata": {
        "id": "2UV97D4Ye0Te"
      },
      "source": [
        "## Increase Estimators - 200"
      ]
    },
    {
      "cell_type": "code",
      "metadata": {
        "colab": {
          "base_uri": "https://localhost:8080/"
        },
        "id": "juusFvgYe4RX",
        "outputId": "d1ffe609-022f-4274-ae34-9fc496a6d59f"
      },
      "source": [
        "ada = AdaBoostClassifier(n_estimators=200, random_state=125)\n",
        "score = cross_val_score(ada, X, y).mean()\n",
        "results_df.loc['200 Estimators'] = score\n",
        "print(f'Score = {score:.4f}')"
      ],
      "execution_count": 46,
      "outputs": [
        {
          "output_type": "stream",
          "text": [
            "Score = 0.8904\n"
          ],
          "name": "stdout"
        }
      ]
    },
    {
      "cell_type": "markdown",
      "metadata": {
        "id": "jWICPCAHe9-z"
      },
      "source": [
        "## Increase Estimators - 500"
      ]
    },
    {
      "cell_type": "code",
      "metadata": {
        "colab": {
          "base_uri": "https://localhost:8080/"
        },
        "id": "iFaMML5tfDxp",
        "outputId": "7ce7c276-4922-452b-e9e1-2af27b0dde12"
      },
      "source": [
        "ada = AdaBoostClassifier(n_estimators=500, random_state=125)\n",
        "score = cross_val_score(ada, X, y).mean()\n",
        "results_df.loc['500 Estimators'] = score\n",
        "print(f'Score = {score:.4f}')"
      ],
      "execution_count": 47,
      "outputs": [
        {
          "output_type": "stream",
          "text": [
            "Score = 0.9645\n"
          ],
          "name": "stdout"
        }
      ]
    },
    {
      "cell_type": "markdown",
      "metadata": {
        "id": "BTETbceog6AL"
      },
      "source": [
        "## Learning Rate"
      ]
    },
    {
      "cell_type": "code",
      "metadata": {
        "colab": {
          "base_uri": "https://localhost:8080/"
        },
        "id": "c89NpfVrg8w3",
        "outputId": "d5a14a33-b8b5-4202-829d-1bdaf01eb022"
      },
      "source": [
        "ada = AdaBoostClassifier(n_estimators=1000, learning_rate=0.5, random_state=125)\n",
        "score = cross_val_score(ada, X, y).mean()\n",
        "results_df.loc['1000 Estimators - Smaller Learning Rate'] = score\n",
        "print(f'Score = {score:.4f}')"
      ],
      "execution_count": 48,
      "outputs": [
        {
          "output_type": "stream",
          "text": [
            "Score = 0.9478\n"
          ],
          "name": "stdout"
        }
      ]
    },
    {
      "cell_type": "markdown",
      "metadata": {
        "id": "8UEfL23BeioY"
      },
      "source": [
        "## Balance Classes"
      ]
    },
    {
      "cell_type": "code",
      "metadata": {
        "colab": {
          "base_uri": "https://localhost:8080/"
        },
        "id": "PozdQzjEfU9X",
        "outputId": "3ae1b723-106a-4d5e-f451-8303eead1d87"
      },
      "source": [
        "oversampler = RandomOverSampler(sampling_strategy='minority')\n",
        "X_over, y_over = oversampler.fit_resample(X, y)\n",
        "ada = AdaBoostClassifier(n_estimators=500, random_state=125)\n",
        "score = cross_val_score(ada, X_over, y_over).mean()\n",
        "results_df.loc['500 Estimators - Oversampled'] = score\n",
        "print(f'Score = {score:.4f}')"
      ],
      "execution_count": 49,
      "outputs": [
        {
          "output_type": "stream",
          "text": [
            "/usr/local/lib/python3.7/dist-packages/sklearn/utils/deprecation.py:87: FutureWarning: Function safe_indexing is deprecated; safe_indexing is deprecated in version 0.22 and will be removed in version 0.24.\n",
            "  warnings.warn(msg, category=FutureWarning)\n"
          ],
          "name": "stderr"
        },
        {
          "output_type": "stream",
          "text": [
            "Score = 0.9489\n"
          ],
          "name": "stdout"
        }
      ]
    },
    {
      "cell_type": "markdown",
      "metadata": {
        "id": "WOqF6pO0ickm"
      },
      "source": [
        "# Feature Engineering"
      ]
    },
    {
      "cell_type": "markdown",
      "metadata": {
        "id": "hn42kSEFrpNI"
      },
      "source": [
        "## Errors"
      ]
    },
    {
      "cell_type": "code",
      "metadata": {
        "colab": {
          "base_uri": "https://localhost:8080/",
          "height": 138
        },
        "id": "2OYuP7X8hbjx",
        "outputId": "c520c97b-d236-4a6a-a93d-bb4abed449da"
      },
      "source": [
        "ada = AdaBoostClassifier(n_estimators=500, random_state=125)\n",
        "ada.fit(X_train, y_train)\n",
        "pred = ada.predict(X_test)\n",
        "\n",
        "err_df = X_test[~(y_test == pred)].copy()\n",
        "err_df['target'] = y_test[~(y_test == pred)]\n",
        "err_df['pred'] = pred[~(y_test == pred)]\n",
        "err_df"
      ],
      "execution_count": 50,
      "outputs": [
        {
          "output_type": "execute_result",
          "data": {
            "text/html": [
              "<div>\n",
              "<style scoped>\n",
              "    .dataframe tbody tr th:only-of-type {\n",
              "        vertical-align: middle;\n",
              "    }\n",
              "\n",
              "    .dataframe tbody tr th {\n",
              "        vertical-align: top;\n",
              "    }\n",
              "\n",
              "    .dataframe thead th {\n",
              "        text-align: right;\n",
              "    }\n",
              "</style>\n",
              "<table border=\"1\" class=\"dataframe\">\n",
              "  <thead>\n",
              "    <tr style=\"text-align: right;\">\n",
              "      <th></th>\n",
              "      <th>pos_0</th>\n",
              "      <th>pos_1</th>\n",
              "      <th>pos_2</th>\n",
              "      <th>pos_3</th>\n",
              "      <th>pos_4</th>\n",
              "      <th>pos_5</th>\n",
              "      <th>pos_6</th>\n",
              "      <th>pos_7</th>\n",
              "      <th>pos_8</th>\n",
              "      <th>target</th>\n",
              "      <th>pred</th>\n",
              "    </tr>\n",
              "  </thead>\n",
              "  <tbody>\n",
              "    <tr>\n",
              "      <th>957</th>\n",
              "      <td>0</td>\n",
              "      <td>0</td>\n",
              "      <td>1</td>\n",
              "      <td>1</td>\n",
              "      <td>1</td>\n",
              "      <td>0</td>\n",
              "      <td>0</td>\n",
              "      <td>1</td>\n",
              "      <td>1</td>\n",
              "      <td>0</td>\n",
              "      <td>1</td>\n",
              "    </tr>\n",
              "    <tr>\n",
              "      <th>945</th>\n",
              "      <td>1</td>\n",
              "      <td>0</td>\n",
              "      <td>1</td>\n",
              "      <td>1</td>\n",
              "      <td>1</td>\n",
              "      <td>0</td>\n",
              "      <td>0</td>\n",
              "      <td>1</td>\n",
              "      <td>0</td>\n",
              "      <td>0</td>\n",
              "      <td>1</td>\n",
              "    </tr>\n",
              "    <tr>\n",
              "      <th>954</th>\n",
              "      <td>0</td>\n",
              "      <td>1</td>\n",
              "      <td>0</td>\n",
              "      <td>1</td>\n",
              "      <td>1</td>\n",
              "      <td>0</td>\n",
              "      <td>1</td>\n",
              "      <td>0</td>\n",
              "      <td>1</td>\n",
              "      <td>0</td>\n",
              "      <td>1</td>\n",
              "    </tr>\n",
              "  </tbody>\n",
              "</table>\n",
              "</div>"
            ],
            "text/plain": [
              "     pos_0  pos_1  pos_2  pos_3  pos_4  ...  pos_6  pos_7  pos_8  target  pred\n",
              "957      0      0      1      1      1  ...      0      1      1       0     1\n",
              "945      1      0      1      1      1  ...      0      1      0       0     1\n",
              "954      0      1      0      1      1  ...      1      0      1       0     1\n",
              "\n",
              "[3 rows x 11 columns]"
            ]
          },
          "metadata": {
            "tags": []
          },
          "execution_count": 50
        }
      ]
    },
    {
      "cell_type": "code",
      "metadata": {
        "colab": {
          "base_uri": "https://localhost:8080/"
        },
        "id": "0rSPkXGPhmhU",
        "outputId": "9116f4c7-1db2-4235-d623-c4fc318b7e66"
      },
      "source": [
        "for idx, row in err_df.iterrows():\n",
        "  print('Example', idx)\n",
        "  draw_game(row)"
      ],
      "execution_count": 51,
      "outputs": [
        {
          "output_type": "stream",
          "text": [
            "Example 957\n",
            "0 0 1\n",
            "1 1 0\n",
            "0 1 1\n",
            "0\n",
            "Example 945\n",
            "1 0 1\n",
            "1 1 0\n",
            "0 1 0\n",
            "0\n",
            "Example 954\n",
            "0 1 0\n",
            "1 1 0\n",
            "1 0 1\n",
            "0\n"
          ],
          "name": "stdout"
        }
      ]
    },
    {
      "cell_type": "markdown",
      "metadata": {
        "id": "NDj5FS0Bw9BD"
      },
      "source": [
        "## Board Positions"
      ]
    },
    {
      "cell_type": "code",
      "metadata": {
        "id": "UZ2rBSL2m_Yp"
      },
      "source": [
        "features = ['row_1', 'row_2', 'row_3',\n",
        "            'col_1', 'col_2', 'col_3',\n",
        "            'diag_1', 'diag_2']\n",
        "colsets  = [\n",
        "  ['pos_0', 'pos_1', 'pos_2'],\n",
        "  ['pos_3', 'pos_4', 'pos_5'],\n",
        "  ['pos_6', 'pos_7', 'pos_8'],\n",
        "\n",
        "  ['pos_0', 'pos_3', 'pos_6'],\n",
        "  ['pos_1', 'pos_4', 'pos_7'],\n",
        "  ['pos_2', 'pos_5', 'pos_8'],\n",
        "\n",
        "  ['pos_0', 'pos_4', 'pos_8'],\n",
        "  ['pos_6', 'pos_4', 'pos_2']\n",
        "]\n",
        "markers = [0, 1]\n",
        "\n",
        "def add_features(df):\n",
        "  df_add = df.copy()\n",
        "  for marker in markers:\n",
        "    for colset, feature in zip(colsets, features):\n",
        "      df_add[f'{feature}_{marker}'] = np.sum(df_add[colset] == marker, axis=1)\n",
        "  return df_add"
      ],
      "execution_count": 52,
      "outputs": []
    },
    {
      "cell_type": "code",
      "metadata": {
        "colab": {
          "base_uri": "https://localhost:8080/",
          "height": 427
        },
        "id": "7z8vMm9ipKZX",
        "outputId": "c09c5fee-1296-40fe-d2bd-73abe3916821"
      },
      "source": [
        "add_features(df)"
      ],
      "execution_count": 53,
      "outputs": [
        {
          "output_type": "execute_result",
          "data": {
            "text/html": [
              "<div>\n",
              "<style scoped>\n",
              "    .dataframe tbody tr th:only-of-type {\n",
              "        vertical-align: middle;\n",
              "    }\n",
              "\n",
              "    .dataframe tbody tr th {\n",
              "        vertical-align: top;\n",
              "    }\n",
              "\n",
              "    .dataframe thead th {\n",
              "        text-align: right;\n",
              "    }\n",
              "</style>\n",
              "<table border=\"1\" class=\"dataframe\">\n",
              "  <thead>\n",
              "    <tr style=\"text-align: right;\">\n",
              "      <th></th>\n",
              "      <th>pos_0</th>\n",
              "      <th>pos_1</th>\n",
              "      <th>pos_2</th>\n",
              "      <th>pos_3</th>\n",
              "      <th>pos_4</th>\n",
              "      <th>pos_5</th>\n",
              "      <th>pos_6</th>\n",
              "      <th>pos_7</th>\n",
              "      <th>pos_8</th>\n",
              "      <th>target</th>\n",
              "      <th>row_1_0</th>\n",
              "      <th>row_2_0</th>\n",
              "      <th>row_3_0</th>\n",
              "      <th>col_1_0</th>\n",
              "      <th>col_2_0</th>\n",
              "      <th>col_3_0</th>\n",
              "      <th>diag_1_0</th>\n",
              "      <th>diag_2_0</th>\n",
              "      <th>row_1_1</th>\n",
              "      <th>row_2_1</th>\n",
              "      <th>row_3_1</th>\n",
              "      <th>col_1_1</th>\n",
              "      <th>col_2_1</th>\n",
              "      <th>col_3_1</th>\n",
              "      <th>diag_1_1</th>\n",
              "      <th>diag_2_1</th>\n",
              "    </tr>\n",
              "  </thead>\n",
              "  <tbody>\n",
              "    <tr>\n",
              "      <th>0</th>\n",
              "      <td>1</td>\n",
              "      <td>1</td>\n",
              "      <td>1</td>\n",
              "      <td>1</td>\n",
              "      <td>0</td>\n",
              "      <td>0</td>\n",
              "      <td>1</td>\n",
              "      <td>0</td>\n",
              "      <td>0</td>\n",
              "      <td>1</td>\n",
              "      <td>0</td>\n",
              "      <td>2</td>\n",
              "      <td>2</td>\n",
              "      <td>0</td>\n",
              "      <td>2</td>\n",
              "      <td>2</td>\n",
              "      <td>2</td>\n",
              "      <td>1</td>\n",
              "      <td>3</td>\n",
              "      <td>1</td>\n",
              "      <td>1</td>\n",
              "      <td>3</td>\n",
              "      <td>1</td>\n",
              "      <td>1</td>\n",
              "      <td>1</td>\n",
              "      <td>2</td>\n",
              "    </tr>\n",
              "    <tr>\n",
              "      <th>1</th>\n",
              "      <td>1</td>\n",
              "      <td>1</td>\n",
              "      <td>1</td>\n",
              "      <td>1</td>\n",
              "      <td>0</td>\n",
              "      <td>0</td>\n",
              "      <td>0</td>\n",
              "      <td>1</td>\n",
              "      <td>0</td>\n",
              "      <td>1</td>\n",
              "      <td>0</td>\n",
              "      <td>2</td>\n",
              "      <td>2</td>\n",
              "      <td>1</td>\n",
              "      <td>1</td>\n",
              "      <td>2</td>\n",
              "      <td>2</td>\n",
              "      <td>2</td>\n",
              "      <td>3</td>\n",
              "      <td>1</td>\n",
              "      <td>1</td>\n",
              "      <td>2</td>\n",
              "      <td>2</td>\n",
              "      <td>1</td>\n",
              "      <td>1</td>\n",
              "      <td>1</td>\n",
              "    </tr>\n",
              "    <tr>\n",
              "      <th>2</th>\n",
              "      <td>1</td>\n",
              "      <td>1</td>\n",
              "      <td>1</td>\n",
              "      <td>1</td>\n",
              "      <td>0</td>\n",
              "      <td>0</td>\n",
              "      <td>0</td>\n",
              "      <td>0</td>\n",
              "      <td>1</td>\n",
              "      <td>1</td>\n",
              "      <td>0</td>\n",
              "      <td>2</td>\n",
              "      <td>2</td>\n",
              "      <td>1</td>\n",
              "      <td>2</td>\n",
              "      <td>1</td>\n",
              "      <td>1</td>\n",
              "      <td>2</td>\n",
              "      <td>3</td>\n",
              "      <td>1</td>\n",
              "      <td>1</td>\n",
              "      <td>2</td>\n",
              "      <td>1</td>\n",
              "      <td>2</td>\n",
              "      <td>2</td>\n",
              "      <td>1</td>\n",
              "    </tr>\n",
              "    <tr>\n",
              "      <th>3</th>\n",
              "      <td>1</td>\n",
              "      <td>1</td>\n",
              "      <td>1</td>\n",
              "      <td>1</td>\n",
              "      <td>0</td>\n",
              "      <td>0</td>\n",
              "      <td>0</td>\n",
              "      <td>2</td>\n",
              "      <td>2</td>\n",
              "      <td>1</td>\n",
              "      <td>0</td>\n",
              "      <td>2</td>\n",
              "      <td>1</td>\n",
              "      <td>1</td>\n",
              "      <td>1</td>\n",
              "      <td>1</td>\n",
              "      <td>1</td>\n",
              "      <td>2</td>\n",
              "      <td>3</td>\n",
              "      <td>1</td>\n",
              "      <td>0</td>\n",
              "      <td>2</td>\n",
              "      <td>1</td>\n",
              "      <td>1</td>\n",
              "      <td>1</td>\n",
              "      <td>1</td>\n",
              "    </tr>\n",
              "    <tr>\n",
              "      <th>4</th>\n",
              "      <td>1</td>\n",
              "      <td>1</td>\n",
              "      <td>1</td>\n",
              "      <td>1</td>\n",
              "      <td>0</td>\n",
              "      <td>0</td>\n",
              "      <td>2</td>\n",
              "      <td>0</td>\n",
              "      <td>2</td>\n",
              "      <td>1</td>\n",
              "      <td>0</td>\n",
              "      <td>2</td>\n",
              "      <td>1</td>\n",
              "      <td>0</td>\n",
              "      <td>2</td>\n",
              "      <td>1</td>\n",
              "      <td>1</td>\n",
              "      <td>1</td>\n",
              "      <td>3</td>\n",
              "      <td>1</td>\n",
              "      <td>0</td>\n",
              "      <td>2</td>\n",
              "      <td>1</td>\n",
              "      <td>1</td>\n",
              "      <td>1</td>\n",
              "      <td>1</td>\n",
              "    </tr>\n",
              "    <tr>\n",
              "      <th>...</th>\n",
              "      <td>...</td>\n",
              "      <td>...</td>\n",
              "      <td>...</td>\n",
              "      <td>...</td>\n",
              "      <td>...</td>\n",
              "      <td>...</td>\n",
              "      <td>...</td>\n",
              "      <td>...</td>\n",
              "      <td>...</td>\n",
              "      <td>...</td>\n",
              "      <td>...</td>\n",
              "      <td>...</td>\n",
              "      <td>...</td>\n",
              "      <td>...</td>\n",
              "      <td>...</td>\n",
              "      <td>...</td>\n",
              "      <td>...</td>\n",
              "      <td>...</td>\n",
              "      <td>...</td>\n",
              "      <td>...</td>\n",
              "      <td>...</td>\n",
              "      <td>...</td>\n",
              "      <td>...</td>\n",
              "      <td>...</td>\n",
              "      <td>...</td>\n",
              "      <td>...</td>\n",
              "    </tr>\n",
              "    <tr>\n",
              "      <th>953</th>\n",
              "      <td>0</td>\n",
              "      <td>1</td>\n",
              "      <td>1</td>\n",
              "      <td>1</td>\n",
              "      <td>0</td>\n",
              "      <td>0</td>\n",
              "      <td>0</td>\n",
              "      <td>1</td>\n",
              "      <td>1</td>\n",
              "      <td>0</td>\n",
              "      <td>1</td>\n",
              "      <td>2</td>\n",
              "      <td>1</td>\n",
              "      <td>2</td>\n",
              "      <td>1</td>\n",
              "      <td>1</td>\n",
              "      <td>2</td>\n",
              "      <td>2</td>\n",
              "      <td>2</td>\n",
              "      <td>1</td>\n",
              "      <td>2</td>\n",
              "      <td>1</td>\n",
              "      <td>2</td>\n",
              "      <td>2</td>\n",
              "      <td>1</td>\n",
              "      <td>1</td>\n",
              "    </tr>\n",
              "    <tr>\n",
              "      <th>954</th>\n",
              "      <td>0</td>\n",
              "      <td>1</td>\n",
              "      <td>0</td>\n",
              "      <td>1</td>\n",
              "      <td>1</td>\n",
              "      <td>0</td>\n",
              "      <td>1</td>\n",
              "      <td>0</td>\n",
              "      <td>1</td>\n",
              "      <td>0</td>\n",
              "      <td>2</td>\n",
              "      <td>1</td>\n",
              "      <td>1</td>\n",
              "      <td>1</td>\n",
              "      <td>1</td>\n",
              "      <td>2</td>\n",
              "      <td>1</td>\n",
              "      <td>1</td>\n",
              "      <td>1</td>\n",
              "      <td>2</td>\n",
              "      <td>2</td>\n",
              "      <td>2</td>\n",
              "      <td>2</td>\n",
              "      <td>1</td>\n",
              "      <td>2</td>\n",
              "      <td>2</td>\n",
              "    </tr>\n",
              "    <tr>\n",
              "      <th>955</th>\n",
              "      <td>0</td>\n",
              "      <td>1</td>\n",
              "      <td>0</td>\n",
              "      <td>1</td>\n",
              "      <td>0</td>\n",
              "      <td>1</td>\n",
              "      <td>1</td>\n",
              "      <td>0</td>\n",
              "      <td>1</td>\n",
              "      <td>0</td>\n",
              "      <td>2</td>\n",
              "      <td>1</td>\n",
              "      <td>1</td>\n",
              "      <td>1</td>\n",
              "      <td>2</td>\n",
              "      <td>1</td>\n",
              "      <td>2</td>\n",
              "      <td>2</td>\n",
              "      <td>1</td>\n",
              "      <td>2</td>\n",
              "      <td>2</td>\n",
              "      <td>2</td>\n",
              "      <td>1</td>\n",
              "      <td>2</td>\n",
              "      <td>1</td>\n",
              "      <td>1</td>\n",
              "    </tr>\n",
              "    <tr>\n",
              "      <th>956</th>\n",
              "      <td>0</td>\n",
              "      <td>1</td>\n",
              "      <td>0</td>\n",
              "      <td>0</td>\n",
              "      <td>1</td>\n",
              "      <td>1</td>\n",
              "      <td>1</td>\n",
              "      <td>0</td>\n",
              "      <td>1</td>\n",
              "      <td>0</td>\n",
              "      <td>2</td>\n",
              "      <td>1</td>\n",
              "      <td>1</td>\n",
              "      <td>2</td>\n",
              "      <td>1</td>\n",
              "      <td>1</td>\n",
              "      <td>1</td>\n",
              "      <td>1</td>\n",
              "      <td>1</td>\n",
              "      <td>2</td>\n",
              "      <td>2</td>\n",
              "      <td>1</td>\n",
              "      <td>2</td>\n",
              "      <td>2</td>\n",
              "      <td>2</td>\n",
              "      <td>2</td>\n",
              "    </tr>\n",
              "    <tr>\n",
              "      <th>957</th>\n",
              "      <td>0</td>\n",
              "      <td>0</td>\n",
              "      <td>1</td>\n",
              "      <td>1</td>\n",
              "      <td>1</td>\n",
              "      <td>0</td>\n",
              "      <td>0</td>\n",
              "      <td>1</td>\n",
              "      <td>1</td>\n",
              "      <td>0</td>\n",
              "      <td>2</td>\n",
              "      <td>1</td>\n",
              "      <td>1</td>\n",
              "      <td>2</td>\n",
              "      <td>1</td>\n",
              "      <td>1</td>\n",
              "      <td>1</td>\n",
              "      <td>1</td>\n",
              "      <td>1</td>\n",
              "      <td>2</td>\n",
              "      <td>2</td>\n",
              "      <td>1</td>\n",
              "      <td>2</td>\n",
              "      <td>2</td>\n",
              "      <td>2</td>\n",
              "      <td>2</td>\n",
              "    </tr>\n",
              "  </tbody>\n",
              "</table>\n",
              "<p>958 rows × 26 columns</p>\n",
              "</div>"
            ],
            "text/plain": [
              "     pos_0  pos_1  pos_2  pos_3  ...  col_2_1  col_3_1  diag_1_1  diag_2_1\n",
              "0        1      1      1      1  ...        1        1         1         2\n",
              "1        1      1      1      1  ...        2        1         1         1\n",
              "2        1      1      1      1  ...        1        2         2         1\n",
              "3        1      1      1      1  ...        1        1         1         1\n",
              "4        1      1      1      1  ...        1        1         1         1\n",
              "..     ...    ...    ...    ...  ...      ...      ...       ...       ...\n",
              "953      0      1      1      1  ...        2        2         1         1\n",
              "954      0      1      0      1  ...        2        1         2         2\n",
              "955      0      1      0      1  ...        1        2         1         1\n",
              "956      0      1      0      0  ...        2        2         2         2\n",
              "957      0      0      1      1  ...        2        2         2         2\n",
              "\n",
              "[958 rows x 26 columns]"
            ]
          },
          "metadata": {
            "tags": []
          },
          "execution_count": 53
        }
      ]
    },
    {
      "cell_type": "code",
      "metadata": {
        "colab": {
          "base_uri": "https://localhost:8080/"
        },
        "id": "4IM66JaxqaUU",
        "outputId": "81800057-1823-46c8-e2f4-dd690be89f4e"
      },
      "source": [
        "X_feature = add_features(X)\n",
        "ada = AdaBoostClassifier(n_estimators=500, random_state=125)\n",
        "score = cross_val_score(ada, X_feature, y).mean()\n",
        "results_df.loc['Feature Engineering - Row Col Diag'] = score\n",
        "print(f'Score = {score:.4f}')"
      ],
      "execution_count": 54,
      "outputs": [
        {
          "output_type": "stream",
          "text": [
            "Score = 0.9552\n"
          ],
          "name": "stdout"
        }
      ]
    },
    {
      "cell_type": "markdown",
      "metadata": {
        "id": "6ofoaY0nw2eZ"
      },
      "source": [
        "## Max Board Position"
      ]
    },
    {
      "cell_type": "code",
      "metadata": {
        "id": "vkF_2ZnUxfRQ"
      },
      "source": [
        "X_feature['MaxO'] = X_feature[[f'{feature}_0' for feature in features]].max(axis=1)\n",
        "X_feature['MaxX'] = X_feature[[f'{feature}_1' for feature in features]].max(axis=1)"
      ],
      "execution_count": 55,
      "outputs": []
    },
    {
      "cell_type": "code",
      "metadata": {
        "colab": {
          "base_uri": "https://localhost:8080/"
        },
        "id": "JEeXycsvxFOR",
        "outputId": "40237f0f-fad1-4cf4-8cb0-009981fba8d8"
      },
      "source": [
        "ada = AdaBoostClassifier(n_estimators=500, random_state=125)\n",
        "score = cross_val_score(ada, X_feature[['MaxO', 'MaxX']], y).mean()\n",
        "results_df.loc['Feature Engineering - Max X or Y'] = score\n",
        "print(f'Score = {score:.4f}')"
      ],
      "execution_count": 56,
      "outputs": [
        {
          "output_type": "stream",
          "text": [
            "Score = 0.9832\n"
          ],
          "name": "stdout"
        }
      ]
    },
    {
      "cell_type": "markdown",
      "metadata": {
        "id": "j7qO_B2FfO-w"
      },
      "source": [
        "# Results"
      ]
    },
    {
      "cell_type": "code",
      "metadata": {
        "colab": {
          "base_uri": "https://localhost:8080/",
          "height": 288
        },
        "id": "q1VUD_a3sLhI",
        "outputId": "982ebeb8-2c92-4df7-ae2e-99628ab5a3f5"
      },
      "source": [
        "results_df.sort_values('Accuracy', ascending=False)"
      ],
      "execution_count": 57,
      "outputs": [
        {
          "output_type": "execute_result",
          "data": {
            "text/html": [
              "<div>\n",
              "<style scoped>\n",
              "    .dataframe tbody tr th:only-of-type {\n",
              "        vertical-align: middle;\n",
              "    }\n",
              "\n",
              "    .dataframe tbody tr th {\n",
              "        vertical-align: top;\n",
              "    }\n",
              "\n",
              "    .dataframe thead th {\n",
              "        text-align: right;\n",
              "    }\n",
              "</style>\n",
              "<table border=\"1\" class=\"dataframe\">\n",
              "  <thead>\n",
              "    <tr style=\"text-align: right;\">\n",
              "      <th></th>\n",
              "      <th>Accuracy</th>\n",
              "    </tr>\n",
              "  </thead>\n",
              "  <tbody>\n",
              "    <tr>\n",
              "      <th>Feature Engineering - Max X or Y</th>\n",
              "      <td>0.983246</td>\n",
              "    </tr>\n",
              "    <tr>\n",
              "      <th>500 Estimators</th>\n",
              "      <td>0.964491</td>\n",
              "    </tr>\n",
              "    <tr>\n",
              "      <th>Feature Engineering - Row Col Diag</th>\n",
              "      <td>0.955208</td>\n",
              "    </tr>\n",
              "    <tr>\n",
              "      <th>500 Estimators - Oversampled</th>\n",
              "      <td>0.948880</td>\n",
              "    </tr>\n",
              "    <tr>\n",
              "      <th>1000 Estimators - Smaller Learning Rate</th>\n",
              "      <td>0.947818</td>\n",
              "    </tr>\n",
              "    <tr>\n",
              "      <th>200 Estimators</th>\n",
              "      <td>0.890412</td>\n",
              "    </tr>\n",
              "    <tr>\n",
              "      <th>100 Estimators</th>\n",
              "      <td>0.800649</td>\n",
              "    </tr>\n",
              "    <tr>\n",
              "      <th>Baseline</th>\n",
              "      <td>0.732777</td>\n",
              "    </tr>\n",
              "  </tbody>\n",
              "</table>\n",
              "</div>"
            ],
            "text/plain": [
              "                                         Accuracy\n",
              "Feature Engineering - Max X or Y         0.983246\n",
              "500 Estimators                           0.964491\n",
              "Feature Engineering - Row Col Diag       0.955208\n",
              "500 Estimators - Oversampled             0.948880\n",
              "1000 Estimators - Smaller Learning Rate  0.947818\n",
              "200 Estimators                           0.890412\n",
              "100 Estimators                           0.800649\n",
              "Baseline                                 0.732777"
            ]
          },
          "metadata": {
            "tags": []
          },
          "execution_count": 57
        }
      ]
    },
    {
      "cell_type": "markdown",
      "metadata": {
        "id": "SU-ki5ZewWec"
      },
      "source": [
        "## Unlucky\n",
        "* Structure in the list of examples"
      ]
    },
    {
      "cell_type": "code",
      "metadata": {
        "colab": {
          "base_uri": "https://localhost:8080/"
        },
        "id": "gcdassvT45DP",
        "outputId": "8e21dbcf-6515-4c9a-878a-9fc7c08fda42"
      },
      "source": [
        "ada = AdaBoostClassifier(n_estimators=500, random_state=125)\n",
        "cross_val_score(ada, X_feature[['MaxO', 'MaxX']], y)"
      ],
      "execution_count": 58,
      "outputs": [
        {
          "output_type": "execute_result",
          "data": {
            "text/plain": [
              "array([1.        , 1.        , 1.        , 1.        , 0.91623037])"
            ]
          },
          "metadata": {
            "tags": []
          },
          "execution_count": 58
        }
      ]
    },
    {
      "cell_type": "code",
      "metadata": {
        "colab": {
          "base_uri": "https://localhost:8080/"
        },
        "id": "5MJVTOJI-T5i",
        "outputId": "9db26b2d-83a9-4af4-9176-102ce2fadafc"
      },
      "source": [
        "idx = np.random.permutation(X_feature.index)\n",
        "X_feature = X_feature.reindex(idx)\n",
        "y         = y.reindex(idx)\n",
        "\n",
        "ada = AdaBoostClassifier(n_estimators=500, random_state=125)\n",
        "cross_val_score(ada, X_feature[['MaxO', 'MaxX']], y)"
      ],
      "execution_count": 59,
      "outputs": [
        {
          "output_type": "execute_result",
          "data": {
            "text/plain": [
              "array([1., 1., 1., 1., 1.])"
            ]
          },
          "metadata": {
            "tags": []
          },
          "execution_count": 59
        }
      ]
    }
  ]
}