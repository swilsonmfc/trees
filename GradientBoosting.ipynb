{
  "nbformat": 4,
  "nbformat_minor": 0,
  "metadata": {
    "colab": {
      "name": "GradientBoosting.ipynb",
      "provenance": [],
      "collapsed_sections": [],
      "toc_visible": true,
      "authorship_tag": "ABX9TyOab4bvRfs9pbRaOMjr0n3X",
      "include_colab_link": true
    },
    "kernelspec": {
      "name": "python3",
      "display_name": "Python 3"
    },
    "language_info": {
      "name": "python"
    }
  },
  "cells": [
    {
      "cell_type": "markdown",
      "metadata": {
        "id": "view-in-github",
        "colab_type": "text"
      },
      "source": [
        "<a href=\"https://colab.research.google.com/github/swilsonmfc/trees/blob/master/GradientBoosting.ipynb\" target=\"_parent\"><img src=\"https://colab.research.google.com/assets/colab-badge.svg\" alt=\"Open In Colab\"/></a>"
      ]
    },
    {
      "cell_type": "markdown",
      "metadata": {
        "id": "KfoHPQEVH4J_"
      },
      "source": [
        "# Gradient Boosting"
      ]
    },
    {
      "cell_type": "markdown",
      "metadata": {
        "id": "VHVQajpEISk5"
      },
      "source": [
        "# Setup"
      ]
    },
    {
      "cell_type": "code",
      "metadata": {
        "id": "6WsD5EsfRlpD"
      },
      "source": [
        "import pandas as pd\n",
        "import numpy as np\n",
        "import matplotlib.pyplot as plt\n",
        "import seaborn as sns\n",
        "\n",
        "from sklearn.metrics import mean_squared_error \n",
        "from sklearn.metrics import accuracy_score\n",
        "from sklearn.metrics import classification_report\n",
        "from sklearn.model_selection import train_test_split\n",
        "\n",
        "from sklearn.ensemble import GradientBoostingClassifier"
      ],
      "execution_count": 1,
      "outputs": []
    },
    {
      "cell_type": "markdown",
      "metadata": {
        "id": "Ez-spWS8IVfJ"
      },
      "source": [
        "# Algorithm"
      ]
    },
    {
      "cell_type": "markdown",
      "metadata": {
        "id": "ycUGVTo8u0Tb"
      },
      "source": [
        "![](https://www.researchgate.net/publication/334973460/figure/fig4/AS:788765190660104@1565067684571/The-flow-of-gradient-boosting-algorithm.png)"
      ]
    },
    {
      "cell_type": "markdown",
      "metadata": {
        "id": "AqA5u_TkIYDJ"
      },
      "source": [
        "# Algorithm Notes"
      ]
    },
    {
      "cell_type": "markdown",
      "metadata": {
        "id": "GlUiuvx4M8QQ"
      },
      "source": [
        "## Step 1 - Build Model 0\n",
        "* We typically initialize this to a constant\n",
        "* We can probably agree that fitting a constant would be a high bias model\n",
        "* From model 0, our squared error loss finds y_mean as the best constant"
      ]
    },
    {
      "cell_type": "code",
      "metadata": {
        "colab": {
          "base_uri": "https://localhost:8080/"
        },
        "id": "r4qoANG7NBPR",
        "outputId": "c8a93852-2a73-4b06-f9f7-5aa2721f2608"
      },
      "source": [
        "y = np.array([3, 6, 10, -4, 8])\n",
        "guess_zero = [0] * 5\n",
        "guess_mean = [np.mean(y)] * 5\n",
        "print(f'Initialized at 0    : {mean_squared_error(y, guess_zero)}')\n",
        "print(f'Initialized at Mean : {mean_squared_error(y, guess_mean)}')"
      ],
      "execution_count": 2,
      "outputs": [
        {
          "output_type": "stream",
          "text": [
            "Initialized at 0    : 45.0\n",
            "Initialized at Mean : 23.84\n"
          ],
          "name": "stdout"
        }
      ]
    },
    {
      "cell_type": "code",
      "metadata": {
        "colab": {
          "base_uri": "https://localhost:8080/",
          "height": 281
        },
        "id": "ovvA5klOR5HJ",
        "outputId": "57f02194-3c74-408f-fcc0-ac95eedd250f"
      },
      "source": [
        "x, loss = [], []\n",
        "for value in np.arange(-10, 20, 0.1):\n",
        "  guess = [value] * 5\n",
        "  x.append(value)\n",
        "  loss.append(mean_squared_error(y, guess))\n",
        "plt.scatter(x, loss)\n",
        "plt.scatter(np.mean(y), mean_squared_error(y, guess_mean), color='red')\n",
        "plt.title(f'Loss by Guess');"
      ],
      "execution_count": 3,
      "outputs": [
        {
          "output_type": "display_data",
          "data": {
            "image/png": "[encoded data removed]",
            "text/plain": [
              "<Figure size 432x288 with 1 Axes>"
            ]
          },
          "metadata": {
            "tags": [],
            "needs_background": "light"
          }
        }
      ]
    },
    {
      "cell_type": "markdown",
      "metadata": {
        "id": "6dtdpV3rS57K"
      },
      "source": [
        "## Step 2 - Loop\n",
        "* Loop for M number of iterations of boosting"
      ]
    },
    {
      "cell_type": "markdown",
      "metadata": {
        "id": "P8NrA1zVhF0h"
      },
      "source": [
        "## Step 3 : Pseudo Residuals\n",
        "* For each observation compute the pseudo residual\n",
        "  * Take the derivative of the loss comparing actual value vs prediction from last round of boosting\n",
        "  * With respect to the derivative of the last round prediction"
      ]
    },
    {
      "cell_type": "markdown",
      "metadata": {
        "id": "u5gncgZChF24"
      },
      "source": [
        "## Step 4 : Fit Weak Learner\n",
        "* Fit a new weak (base) learner to the pseudo residuals of the training data from the last boosting round\n",
        "* Think \"find the best weak / base learner parameters\" for this round"
      ]
    },
    {
      "cell_type": "markdown",
      "metadata": {
        "id": "MvFkdclsTn_C"
      },
      "source": [
        "## Step 5 : Optimize\n",
        "* Find the optimal value of lambda that minimizes the Loss from the prior round plus the \"adjustment\" of the weak learner in this rouund\n",
        "* Remember gradient descent - We minimize loss by stepping in the direction of steepest descent\n",
        "* Think \"find the best weight to assign to this round's weak / base learner\""
      ]
    },
    {
      "cell_type": "markdown",
      "metadata": {
        "id": "0uX8OBu2olGH"
      },
      "source": [
        "## Step 6: Update\n",
        "* Similar to gradient descent's weight update\n",
        "* We update the model with the optimized current round"
      ]
    },
    {
      "cell_type": "markdown",
      "metadata": {
        "id": "WL3l1as4pZ89"
      },
      "source": [
        "# Visualization\n",
        "* http://arogozhnikov.github.io/2016/07/05/gradient_boosting_playground.html\n",
        "* Deeper trees - More non-linear\n",
        "* Learning Rate - Faster to learn\n",
        "* You most definitely can overfit"
      ]
    },
    {
      "cell_type": "markdown",
      "metadata": {
        "id": "_9q1SdlGcmWo"
      },
      "source": [
        "# Adaboost vs Gradient Boosting\n",
        "* Based on boosting (improving) weak learners by placing more emphasis on hard to predict observations\n",
        "* Formulation\n",
        "  * Adaboost weights both observations and final aggregations\n",
        "  * Uses the gradient of the loss with respect to the learner \n",
        "* Weighting / Misclassifications\n",
        "  * Adaboost reweights observations (increasing weight on errors)\n",
        "  * Finds problems looking at large residuals in last round\n",
        "* Outliers \n",
        "  * Adaboost can be sensitive to outliers\n",
        "  * Gradient boosting more robust"
      ]
    },
    {
      "cell_type": "markdown",
      "metadata": {
        "id": "QT0G92xmcq23"
      },
      "source": [
        "# Vanilla Gradient Boosting\n",
        "* Digit classification\n",
        "* Good for showing versitility of boosting"
      ]
    },
    {
      "cell_type": "code",
      "metadata": {
        "colab": {
          "base_uri": "https://localhost:8080/",
          "height": 309
        },
        "id": "RME9ioVJowgz",
        "outputId": "bd4f7fd8-da46-4f19-8e02-094cc4f38d39"
      },
      "source": [
        "from sklearn.datasets import load_digits\n",
        "digits = load_digits()\n",
        "print(digits.data.shape)\n",
        "(1797, 64)\n",
        "\n",
        "plt.gray() \n",
        "plt.matshow(digits.images[0]) \n",
        "plt.show() "
      ],
      "execution_count": 4,
      "outputs": [
        {
          "output_type": "stream",
          "text": [
            "(1797, 64)\n"
          ],
          "name": "stdout"
        },
        {
          "output_type": "display_data",
          "data": {
            "text/plain": [
              "<Figure size 432x288 with 0 Axes>"
            ]
          },
          "metadata": {
            "tags": []
          }
        },
        {
          "output_type": "display_data",
          "data": {
            "image/png": "[encoded data removed]",
            "text/plain": [
              "<Figure size 288x288 with 1 Axes>"
            ]
          },
          "metadata": {
            "tags": [],
            "needs_background": "light"
          }
        }
      ]
    },
    {
      "cell_type": "markdown",
      "metadata": {
        "id": "Hlb7gkmesO53"
      },
      "source": [
        "# Data"
      ]
    },
    {
      "cell_type": "code",
      "metadata": {
        "id": "x9B8cI7YlSWE"
      },
      "source": [
        "X = digits['data']\n",
        "y = digits['target']"
      ],
      "execution_count": 5,
      "outputs": []
    },
    {
      "cell_type": "code",
      "metadata": {
        "id": "2Rv5_bS0lc1m"
      },
      "source": [
        "X_train, X_test, y_train, y_test = train_test_split(X, y)"
      ],
      "execution_count": 6,
      "outputs": []
    },
    {
      "cell_type": "markdown",
      "metadata": {
        "id": "4InItx8xmVKZ"
      },
      "source": [
        "# Model"
      ]
    },
    {
      "cell_type": "code",
      "metadata": {
        "colab": {
          "base_uri": "https://localhost:8080/"
        },
        "id": "7vrWNMYSmxh8",
        "outputId": "19dfef9e-906c-489d-83cd-fb164b79e304"
      },
      "source": [
        "%%time\n",
        "model = GradientBoostingClassifier(n_estimators=500)\n",
        "model.fit(X_train, y_train)"
      ],
      "execution_count": 7,
      "outputs": [
        {
          "output_type": "stream",
          "text": [
            "CPU times: user 14.5 s, sys: 22.1 ms, total: 14.5 s\n",
            "Wall time: 14.6 s\n"
          ],
          "name": "stdout"
        }
      ]
    },
    {
      "cell_type": "markdown",
      "metadata": {
        "id": "bDPf7VyQm6b4"
      },
      "source": [
        "# Test"
      ]
    },
    {
      "cell_type": "code",
      "metadata": {
        "colab": {
          "base_uri": "https://localhost:8080/"
        },
        "id": "ivEf3Qmxm7ke",
        "outputId": "f741aa7c-135f-4dc7-856e-f18bc14920af"
      },
      "source": [
        "pred = model.predict(X_test)\n",
        "print(f'Accuracy {accuracy_score(y_test, pred):.4f}')\n",
        "print(classification_report(y_test, pred))"
      ],
      "execution_count": 8,
      "outputs": [
        {
          "output_type": "stream",
          "text": [
            "Accuracy 0.9822\n",
            "              precision    recall  f1-score   support\n",
            "\n",
            "           0       1.00      1.00      1.00        38\n",
            "           1       0.98      0.98      0.98        51\n",
            "           2       1.00      0.98      0.99        45\n",
            "           3       0.97      0.95      0.96        38\n",
            "           4       1.00      1.00      1.00        52\n",
            "           5       0.98      0.96      0.97        45\n",
            "           6       1.00      1.00      1.00        46\n",
            "           7       0.98      0.98      0.98        42\n",
            "           8       0.98      0.98      0.98        46\n",
            "           9       0.94      1.00      0.97        47\n",
            "\n",
            "    accuracy                           0.98       450\n",
            "   macro avg       0.98      0.98      0.98       450\n",
            "weighted avg       0.98      0.98      0.98       450\n",
            "\n"
          ],
          "name": "stdout"
        }
      ]
    },
    {
      "cell_type": "markdown",
      "metadata": {
        "id": "dForDcGdEGJN"
      },
      "source": [
        "# Learning\n",
        "* How can we evaluate the classifier's performance over rounds of boosting?"
      ]
    },
    {
      "cell_type": "markdown",
      "metadata": {
        "id": "_ynS8RGzF7cw"
      },
      "source": [
        "## Staged Predict Function\n",
        "* We can run predict over each stage of boosting\n",
        "* Use to evaluate learning over time with custom functions"
      ]
    },
    {
      "cell_type": "code",
      "metadata": {
        "colab": {
          "base_uri": "https://localhost:8080/"
        },
        "id": "V-49cvv8F-z-",
        "outputId": "5944f38c-1eb5-4e16-942d-50ae90c889c8"
      },
      "source": [
        "%%time\n",
        "clf = GradientBoostingClassifier(n_estimators=100, subsample=0.8)\n",
        "clf.fit(X_train, y_train)"
      ],
      "execution_count": 20,
      "outputs": [
        {
          "output_type": "stream",
          "text": [
            "CPU times: user 7.59 s, sys: 8.76 ms, total: 7.6 s\n",
            "Wall time: 7.62 s\n"
          ],
          "name": "stdout"
        }
      ]
    },
    {
      "cell_type": "code",
      "metadata": {
        "colab": {
          "base_uri": "https://localhost:8080/",
          "height": 281
        },
        "id": "u6YJCzWbGA3n",
        "outputId": "b3abd0f2-3d29-4284-bc52-82519a167719"
      },
      "source": [
        "accuracy = []\n",
        "for i, pred in enumerate(clf.staged_predict(X_test)):\n",
        "  accuracy.append(accuracy_score(y_test, pred))\n",
        "plt.plot(accuracy)\n",
        "plt.title('Accuracy by Iteration');"
      ],
      "execution_count": 27,
      "outputs": [
        {
          "output_type": "display_data",
          "data": {
            "image/png": "[encoded data removed]",
            "text/plain": [
              "<Figure size 432x288 with 1 Axes>"
            ]
          },
          "metadata": {
            "tags": [],
            "needs_background": "light"
          }
        }
      ]
    },
    {
      "cell_type": "markdown",
      "metadata": {
        "id": "yswk7ngADxB6"
      },
      "source": [
        "## OOB Improvement\n",
        "* We can look at the out of bag (unselected observation) improvement over each round of boosting\n",
        "* Must use subsample < 1.0 to capture this information"
      ]
    },
    {
      "cell_type": "code",
      "metadata": {
        "colab": {
          "base_uri": "https://localhost:8080/"
        },
        "id": "ve7Z6_psCqej",
        "outputId": "a71af6b9-3d9c-472b-e9ca-cb49e9ef5c38"
      },
      "source": [
        "%%time\n",
        "clf = GradientBoostingClassifier(n_estimators=100, subsample=0.8)\n",
        "clf.fit(X_train, y_train)"
      ],
      "execution_count": 18,
      "outputs": [
        {
          "output_type": "stream",
          "text": [
            "CPU times: user 7.53 s, sys: 7.51 ms, total: 7.54 s\n",
            "Wall time: 7.54 s\n"
          ],
          "name": "stdout"
        }
      ]
    },
    {
      "cell_type": "code",
      "metadata": {
        "colab": {
          "base_uri": "https://localhost:8080/",
          "height": 281
        },
        "id": "3Ndyvvb7Cqpx",
        "outputId": "ed034001-5f3e-4dc0-dc80-c4f106d420cb"
      },
      "source": [
        "plt.plot(clf.oob_improvement_)\n",
        "plt.title('OOB Improvement by Iteration');"
      ],
      "execution_count": 28,
      "outputs": [
        {
          "output_type": "display_data",
          "data": {
            "image/png": "[encoded data removed]",
            "text/plain": [
              "<Figure size 432x288 with 1 Axes>"
            ]
          },
          "metadata": {
            "tags": [],
            "needs_background": "light"
          }
        }
      ]
    },
    {
      "cell_type": "markdown",
      "metadata": {
        "id": "DFtwyywzC6p6"
      },
      "source": [
        "## Staged Decision Function\n",
        "* Run the test data through each stage of boosting\n",
        "* Compute capture the loss error metric (in this case deviance)\n",
        "* Plot for evaluating learning performance "
      ]
    },
    {
      "cell_type": "code",
      "metadata": {
        "colab": {
          "base_uri": "https://localhost:8080/"
        },
        "id": "0ocY7yGmDlGG",
        "outputId": "a67e1369-05d7-4c10-c815-8ba22483573f"
      },
      "source": [
        "%%time\n",
        "clf = GradientBoostingClassifier(n_estimators=100)\n",
        "clf.fit(X_train, y_train)"
      ],
      "execution_count": 9,
      "outputs": [
        {
          "output_type": "stream",
          "text": [
            "CPU times: user 8.88 s, sys: 11.4 ms, total: 8.89 s\n",
            "Wall time: 8.91 s\n"
          ],
          "name": "stdout"
        }
      ]
    },
    {
      "cell_type": "code",
      "metadata": {
        "colab": {
          "base_uri": "https://localhost:8080/",
          "height": 281
        },
        "id": "cmvKrjKEDlcq",
        "outputId": "0fd17637-d09a-4345-9016-64db99a6f218"
      },
      "source": [
        "deviances = np.zeros(clf.n_estimators,)\n",
        "for i, y_pred in enumerate(clf.staged_decision_function(X_test)):\n",
        "    deviances[i] = clf.loss_(y_test, y_pred)\n",
        "plt.plot((np.arange(deviances.shape[0]) + 1), deviances, '-')\n",
        "plt.title('Deviance of Decision Function by Iteration');"
      ],
      "execution_count": 29,
      "outputs": [
        {
          "output_type": "display_data",
          "data": {
            "image/png": "[encoded data removed]",
            "text/plain": [
              "<Figure size 432x288 with 1 Axes>"
            ]
          },
          "metadata": {
            "tags": [],
            "needs_background": "light"
          }
        }
      ]
    },
    {
      "cell_type": "markdown",
      "metadata": {
        "id": "oaOEYeRfnGD4"
      },
      "source": [
        "# Early Stopping\n",
        "* As the classifier stops making gains on the problem\n",
        "* We can detect and exit from the learning process\n",
        "* Saves compute time and can help prevent us from overfitting\n",
        "* Use a validation data set (or portion of train set) to evaluate"
      ]
    },
    {
      "cell_type": "code",
      "metadata": {
        "colab": {
          "base_uri": "https://localhost:8080/"
        },
        "id": "ln-JnxqQ8cKt",
        "outputId": "867425bd-0f06-40af-a173-ad4555096923"
      },
      "source": [
        "%%time\n",
        "model_es = GradientBoostingClassifier(n_estimators=500,\n",
        "                                      validation_fraction=0.2,\n",
        "                                      n_iter_no_change=5, \n",
        "                                      tol=0.01,\n",
        "                                      random_state=0)\n",
        "model_es.fit(X_train, y_train)"
      ],
      "execution_count": 11,
      "outputs": [
        {
          "output_type": "stream",
          "text": [
            "CPU times: user 8.04 s, sys: 13.8 ms, total: 8.06 s\n",
            "Wall time: 8.08 s\n"
          ],
          "name": "stdout"
        }
      ]
    },
    {
      "cell_type": "code",
      "metadata": {
        "colab": {
          "base_uri": "https://localhost:8080/"
        },
        "id": "gksz4R5T8job",
        "outputId": "7be3f1b0-0b48-4cbc-ee18-2bad92b9939b"
      },
      "source": [
        "pred = model_es.predict(X_test)\n",
        "print(f'Accuracy {accuracy_score(y_test, pred):.4f}')\n",
        "print(classification_report(y_test, pred))"
      ],
      "execution_count": 12,
      "outputs": [
        {
          "output_type": "stream",
          "text": [
            "Accuracy 0.9689\n",
            "              precision    recall  f1-score   support\n",
            "\n",
            "           0       0.95      1.00      0.97        38\n",
            "           1       0.98      0.96      0.97        51\n",
            "           2       0.98      0.93      0.95        45\n",
            "           3       0.95      0.95      0.95        38\n",
            "           4       0.98      1.00      0.99        52\n",
            "           5       0.98      0.93      0.95        45\n",
            "           6       1.00      0.98      0.99        46\n",
            "           7       0.98      0.98      0.98        42\n",
            "           8       0.96      0.96      0.96        46\n",
            "           9       0.94      1.00      0.97        47\n",
            "\n",
            "    accuracy                           0.97       450\n",
            "   macro avg       0.97      0.97      0.97       450\n",
            "weighted avg       0.97      0.97      0.97       450\n",
            "\n"
          ],
          "name": "stdout"
        }
      ]
    },
    {
      "cell_type": "code",
      "metadata": {
        "colab": {
          "base_uri": "https://localhost:8080/"
        },
        "id": "3nEopql98qHn",
        "outputId": "f652ff6f-9fb4-4eb9-85c6-7ec0307cbacc"
      },
      "source": [
        "model_es.n_estimators_"
      ],
      "execution_count": 13,
      "outputs": [
        {
          "output_type": "execute_result",
          "data": {
            "text/plain": [
              "127"
            ]
          },
          "metadata": {
            "tags": []
          },
          "execution_count": 13
        }
      ]
    },
    {
      "cell_type": "markdown",
      "metadata": {
        "id": "ztXalyvBEz2F"
      },
      "source": [
        "# Importances\n",
        "* Gradient Boosting can tell us what features are most helpful"
      ]
    },
    {
      "cell_type": "code",
      "metadata": {
        "colab": {
          "base_uri": "https://localhost:8080/",
          "height": 863
        },
        "id": "2JIm2pD2aI5S",
        "outputId": "93388480-6076-4184-b199-a53e661b27f2"
      },
      "source": [
        "features = zip(np.arange(0, 64), model_es.feature_importances_)\n",
        "feature_df = pd.DataFrame(features, columns=['Position', 'Importance']).sort_values('Importance')\n",
        "feature_df['Importance'].plot.barh(figsize=(10, 15));"
      ],
      "execution_count": 14,
      "outputs": [
        {
          "output_type": "display_data",
          "data": {
            "image/png": "[encoded data removed]",
            "text/plain": [
              "<Figure size 720x1080 with 1 Axes>"
            ]
          },
          "metadata": {
            "tags": [],
            "needs_background": "light"
          }
        }
      ]
    },
    {
      "cell_type": "code",
      "metadata": {
        "colab": {
          "base_uri": "https://localhost:8080/",
          "height": 292
        },
        "id": "t62bF6jSVFXv",
        "outputId": "4b05630b-2522-43d3-e36d-076d71fbf710"
      },
      "source": [
        "plt.gray() \n",
        "plt.matshow(model_es.feature_importances_.reshape(8, 8)) \n",
        "plt.show() "
      ],
      "execution_count": 15,
      "outputs": [
        {
          "output_type": "display_data",
          "data": {
            "text/plain": [
              "<Figure size 432x288 with 0 Axes>"
            ]
          },
          "metadata": {
            "tags": []
          }
        },
        {
          "output_type": "display_data",
          "data": {
            "image/png": "[encoded data removed]",
            "text/plain": [
              "<Figure size 288x288 with 1 Axes>"
            ]
          },
          "metadata": {
            "tags": [],
            "needs_background": "light"
          }
        }
      ]
    },
    {
      "cell_type": "markdown",
      "metadata": {
        "id": "TA1hwqnQaCN3"
      },
      "source": [
        "# Hypertuning\n",
        "* There are a large number of parameters available to Gradient Boosting\n",
        "* Start with a high learning rate where converge in 50-100 trees\n",
        "* Tune base learner parameters \n",
        "  * max_depth (in practice this is impactful)\n",
        "  * min_samples_split\n",
        "  * min_samples_leaf\n",
        "  * subsample\n",
        "* Reduce learning rate\n",
        "  * Increase number of iterations\n",
        "  * Alternatively, add early stopping\n"
      ]
    },
    {
      "cell_type": "code",
      "metadata": {
        "colab": {
          "base_uri": "https://localhost:8080/"
        },
        "id": "UgRsEA16zkBr",
        "outputId": "c7bc59cf-f50e-4e58-cbf5-0e46eac3d319"
      },
      "source": [
        "model = GradientBoostingClassifier(n_estimators=500,\n",
        "                                   min_samples_split=15,\n",
        "                                   min_samples_leaf=3,\n",
        "                                   max_depth=8,\n",
        "                                   subsample=0.8,\n",
        "                                   validation_fraction=0.2,\n",
        "                                   n_iter_no_change=5, \n",
        "                                   tol=0.01,\n",
        "                                   random_state=0)\n",
        "model_es.fit(X_train, y_train)"
      ],
      "execution_count": 16,
      "outputs": [
        {
          "output_type": "execute_result",
          "data": {
            "text/plain": [
              "GradientBoostingClassifier(ccp_alpha=0.0, criterion='friedman_mse', init=None,\n",
              "                           learning_rate=0.1, loss='deviance', max_depth=3,\n",
              "                           max_features=None, max_leaf_nodes=None,\n",
              "                           min_impurity_decrease=0.0, min_impurity_split=None,\n",
              "                           min_samples_leaf=1, min_samples_split=2,\n",
              "                           min_weight_fraction_leaf=0.0, n_estimators=500,\n",
              "                           n_iter_no_change=5, presort='deprecated',\n",
              "                           random_state=0, subsample=1.0, tol=0.01,\n",
              "                           validation_fraction=0.2, verbose=0,\n",
              "                           warm_start=False)"
            ]
          },
          "metadata": {
            "tags": []
          },
          "execution_count": 16
        }
      ]
    },
    {
      "cell_type": "code",
      "metadata": {
        "colab": {
          "base_uri": "https://localhost:8080/"
        },
        "id": "XVm5kxwI0H1A",
        "outputId": "215e8a91-5091-40e8-d8ea-e778052b8383"
      },
      "source": [
        "pred = model_es.predict(X_test)\n",
        "print(f'Accuracy {accuracy_score(y_test, pred):.4f}')\n",
        "print(classification_report(y_test, pred))"
      ],
      "execution_count": 17,
      "outputs": [
        {
          "output_type": "stream",
          "text": [
            "Accuracy 0.9689\n",
            "              precision    recall  f1-score   support\n",
            "\n",
            "           0       0.95      1.00      0.97        38\n",
            "           1       0.98      0.96      0.97        51\n",
            "           2       0.98      0.93      0.95        45\n",
            "           3       0.95      0.95      0.95        38\n",
            "           4       0.98      1.00      0.99        52\n",
            "           5       0.98      0.93      0.95        45\n",
            "           6       1.00      0.98      0.99        46\n",
            "           7       0.98      0.98      0.98        42\n",
            "           8       0.96      0.96      0.96        46\n",
            "           9       0.94      1.00      0.97        47\n",
            "\n",
            "    accuracy                           0.97       450\n",
            "   macro avg       0.97      0.97      0.97       450\n",
            "weighted avg       0.97      0.97      0.97       450\n",
            "\n"
          ],
          "name": "stdout"
        }
      ]
    },
    {
      "cell_type": "markdown",
      "metadata": {
        "id": "7fqygNw6-QL7"
      },
      "source": [
        "# Overfitting\n",
        "* Generally, boosting is somewhat resistant to overfitting\n",
        "  * Early iterations focus on misclassified examples\n",
        "  * Later iterations focus on classification margins (confidence)\n",
        "* Boosting can overfit when \n",
        "  * Data is representative of the population\n",
        "  * Noisy labels\n",
        "  * Base learners are overly expressive\n",
        "  * Too many iterations\n",
        "* Fight overfitting by restricting the base learner\n",
        "  * max Depth\n",
        "  * min_samples_split\n",
        "  * min_samples_leaf "
      ]
    },
    {
      "cell_type": "markdown",
      "metadata": {
        "id": "Iwa0__KEBQx-"
      },
      "source": [
        "# Improvements\n",
        "* Better generalization - Regularization\n",
        "* Faster learning - Histogram building"
      ]
    },
    {
      "cell_type": "code",
      "metadata": {
        "id": "e2yWeG66F128"
      },
      "source": [
        ""
      ],
      "execution_count": null,
      "outputs": []
    }
  ]
}