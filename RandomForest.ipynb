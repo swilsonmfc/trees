{
  "nbformat": 4,
  "nbformat_minor": 0,
  "metadata": {
    "colab": {
      "name": "RandomForest.ipynb",
      "provenance": [],
      "collapsed_sections": [],
      "toc_visible": true,
      "authorship_tag": "ABX9TyMvXHqlzIuOKX8lDrmM6l8j",
      "include_colab_link": true
    },
    "kernelspec": {
      "name": "python3",
      "display_name": "Python 3"
    }
  },
  "cells": [
    {
      "cell_type": "markdown",
      "metadata": {
        "id": "view-in-github",
        "colab_type": "text"
      },
      "source": [
        "<a href=\"https://colab.research.google.com/github/swilsonmfc/trees/blob/master/RandomForest.ipynb\" target=\"_parent\"><img src=\"https://colab.research.google.com/assets/colab-badge.svg\" alt=\"Open In Colab\"/></a>"
      ]
    },
    {
      "cell_type": "markdown",
      "metadata": {
        "id": "UpLJoN1mk_6k"
      },
      "source": [
        "# Bagging - Random Forest\n",
        "\n",
        "![](https://i.insider.com/5afc8f2c5e48ec47008b4818?width=700)"
      ]
    },
    {
      "cell_type": "markdown",
      "metadata": {
        "id": "OasY0FPUk_08"
      },
      "source": [
        "# Install"
      ]
    },
    {
      "cell_type": "code",
      "metadata": {
        "colab": {
          "base_uri": "https://localhost:8080/"
        },
        "id": "nSTEueDSnsfU",
        "outputId": "926151e7-20ff-4663-ab54-594dedd41235"
      },
      "source": [
        "!pip install treeinterpreter\n",
        "!pip install rgf_python "
      ],
      "execution_count": 1,
      "outputs": [
        {
          "output_type": "stream",
          "text": [
            "Requirement already satisfied: treeinterpreter in /usr/local/lib/python3.7/dist-packages (0.2.3)\n",
            "Requirement already satisfied: rgf_python in /usr/local/lib/python3.7/dist-packages (3.9.0)\n",
            "Requirement already satisfied: scikit-learn>=0.18 in /usr/local/lib/python3.7/dist-packages (from rgf_python) (0.22.2.post1)\n",
            "Requirement already satisfied: joblib in /usr/local/lib/python3.7/dist-packages (from rgf_python) (1.0.1)\n",
            "Requirement already satisfied: six in /usr/local/lib/python3.7/dist-packages (from rgf_python) (1.15.0)\n",
            "Requirement already satisfied: numpy>=1.11.0 in /usr/local/lib/python3.7/dist-packages (from scikit-learn>=0.18->rgf_python) (1.19.5)\n",
            "Requirement already satisfied: scipy>=0.17.0 in /usr/local/lib/python3.7/dist-packages (from scikit-learn>=0.18->rgf_python) (1.4.1)\n"
          ],
          "name": "stdout"
        }
      ]
    },
    {
      "cell_type": "markdown",
      "metadata": {
        "id": "gl5nes94k_vq"
      },
      "source": [
        "# Setup"
      ]
    },
    {
      "cell_type": "code",
      "metadata": {
        "colab": {
          "base_uri": "https://localhost:8080/"
        },
        "id": "I0wS9_T-nfrV",
        "outputId": "0a95e2f9-6959-4ed5-9bc3-d29658695e2c"
      },
      "source": [
        "import math\n",
        "import random\n",
        "from pprint import pprint\n",
        "\n",
        "import pandas as pd\n",
        "import numpy as np\n",
        "import matplotlib.pyplot as plt\n",
        "import seaborn as sns\n",
        "\n",
        "from sklearn.datasets import load_boston\n",
        "from sklearn.metrics import mean_absolute_error\n",
        "from sklearn.metrics import mean_squared_error\n",
        "\n",
        "from sklearn.ensemble import RandomForestRegressor\n",
        "from sklearn.ensemble import RandomForestClassifier\n",
        "from sklearn.ensemble import ExtraTreesRegressor\n",
        "from sklearn.ensemble import ExtraTreesClassifier\n",
        "from rgf import RGFRegressor\n",
        "from rgf import RGFClassifier\n",
        "\n",
        "from sklearn.model_selection import RandomizedSearchCV\n",
        "from sklearn.model_selection import train_test_split\n",
        "\n",
        "from yellowbrick.regressor import ResidualsPlot\n",
        "from yellowbrick.regressor import PredictionError\n",
        "\n",
        "from treeinterpreter import treeinterpreter as ti\n",
        "\n",
        "from sklearn.tree import export_graphviz"
      ],
      "execution_count": 2,
      "outputs": [
        {
          "output_type": "stream",
          "text": [
            "/usr/local/lib/python3.7/dist-packages/sklearn/utils/deprecation.py:144: FutureWarning: The sklearn.metrics.classification module is  deprecated in version 0.22 and will be removed in version 0.24. The corresponding classes / functions should instead be imported from sklearn.metrics. Anything that cannot be imported from sklearn.metrics is now part of the private API.\n",
            "  warnings.warn(message, FutureWarning)\n"
          ],
          "name": "stderr"
        }
      ]
    },
    {
      "cell_type": "code",
      "metadata": {
        "id": "c7P4CXJdyHTK"
      },
      "source": [
        "%matplotlib inline"
      ],
      "execution_count": 3,
      "outputs": []
    },
    {
      "cell_type": "markdown",
      "metadata": {
        "id": "-hsCGYiMmVta"
      },
      "source": [
        "# Data"
      ]
    },
    {
      "cell_type": "code",
      "metadata": {
        "id": "ZKMOtCetow7x"
      },
      "source": [
        "boston = load_boston()"
      ],
      "execution_count": 4,
      "outputs": []
    },
    {
      "cell_type": "code",
      "metadata": {
        "colab": {
          "base_uri": "https://localhost:8080/",
          "height": 204
        },
        "id": "V2iztI1SmhMH",
        "outputId": "ac8a4f25-e43a-40ec-b581-6b05eac7087e"
      },
      "source": [
        "boston_df = pd.DataFrame(boston['data'], columns=boston['feature_names'])\n",
        "boston_df['TARGET'] = boston['target']\n",
        "boston_df.head()"
      ],
      "execution_count": 5,
      "outputs": [
        {
          "output_type": "execute_result",
          "data": {
            "text/html": [
              "<div>\n",
              "<style scoped>\n",
              "    .dataframe tbody tr th:only-of-type {\n",
              "        vertical-align: middle;\n",
              "    }\n",
              "\n",
              "    .dataframe tbody tr th {\n",
              "        vertical-align: top;\n",
              "    }\n",
              "\n",
              "    .dataframe thead th {\n",
              "        text-align: right;\n",
              "    }\n",
              "</style>\n",
              "<table border=\"1\" class=\"dataframe\">\n",
              "  <thead>\n",
              "    <tr style=\"text-align: right;\">\n",
              "      <th></th>\n",
              "      <th>CRIM</th>\n",
              "      <th>ZN</th>\n",
              "      <th>INDUS</th>\n",
              "      <th>CHAS</th>\n",
              "      <th>NOX</th>\n",
              "      <th>RM</th>\n",
              "      <th>AGE</th>\n",
              "      <th>DIS</th>\n",
              "      <th>RAD</th>\n",
              "      <th>TAX</th>\n",
              "      <th>PTRATIO</th>\n",
              "      <th>B</th>\n",
              "      <th>LSTAT</th>\n",
              "      <th>TARGET</th>\n",
              "    </tr>\n",
              "  </thead>\n",
              "  <tbody>\n",
              "    <tr>\n",
              "      <th>0</th>\n",
              "      <td>0.00632</td>\n",
              "      <td>18.0</td>\n",
              "      <td>2.31</td>\n",
              "      <td>0.0</td>\n",
              "      <td>0.538</td>\n",
              "      <td>6.575</td>\n",
              "      <td>65.2</td>\n",
              "      <td>4.0900</td>\n",
              "      <td>1.0</td>\n",
              "      <td>296.0</td>\n",
              "      <td>15.3</td>\n",
              "      <td>396.90</td>\n",
              "      <td>4.98</td>\n",
              "      <td>24.0</td>\n",
              "    </tr>\n",
              "    <tr>\n",
              "      <th>1</th>\n",
              "      <td>0.02731</td>\n",
              "      <td>0.0</td>\n",
              "      <td>7.07</td>\n",
              "      <td>0.0</td>\n",
              "      <td>0.469</td>\n",
              "      <td>6.421</td>\n",
              "      <td>78.9</td>\n",
              "      <td>4.9671</td>\n",
              "      <td>2.0</td>\n",
              "      <td>242.0</td>\n",
              "      <td>17.8</td>\n",
              "      <td>396.90</td>\n",
              "      <td>9.14</td>\n",
              "      <td>21.6</td>\n",
              "    </tr>\n",
              "    <tr>\n",
              "      <th>2</th>\n",
              "      <td>0.02729</td>\n",
              "      <td>0.0</td>\n",
              "      <td>7.07</td>\n",
              "      <td>0.0</td>\n",
              "      <td>0.469</td>\n",
              "      <td>7.185</td>\n",
              "      <td>61.1</td>\n",
              "      <td>4.9671</td>\n",
              "      <td>2.0</td>\n",
              "      <td>242.0</td>\n",
              "      <td>17.8</td>\n",
              "      <td>392.83</td>\n",
              "      <td>4.03</td>\n",
              "      <td>34.7</td>\n",
              "    </tr>\n",
              "    <tr>\n",
              "      <th>3</th>\n",
              "      <td>0.03237</td>\n",
              "      <td>0.0</td>\n",
              "      <td>2.18</td>\n",
              "      <td>0.0</td>\n",
              "      <td>0.458</td>\n",
              "      <td>6.998</td>\n",
              "      <td>45.8</td>\n",
              "      <td>6.0622</td>\n",
              "      <td>3.0</td>\n",
              "      <td>222.0</td>\n",
              "      <td>18.7</td>\n",
              "      <td>394.63</td>\n",
              "      <td>2.94</td>\n",
              "      <td>33.4</td>\n",
              "    </tr>\n",
              "    <tr>\n",
              "      <th>4</th>\n",
              "      <td>0.06905</td>\n",
              "      <td>0.0</td>\n",
              "      <td>2.18</td>\n",
              "      <td>0.0</td>\n",
              "      <td>0.458</td>\n",
              "      <td>7.147</td>\n",
              "      <td>54.2</td>\n",
              "      <td>6.0622</td>\n",
              "      <td>3.0</td>\n",
              "      <td>222.0</td>\n",
              "      <td>18.7</td>\n",
              "      <td>396.90</td>\n",
              "      <td>5.33</td>\n",
              "      <td>36.2</td>\n",
              "    </tr>\n",
              "  </tbody>\n",
              "</table>\n",
              "</div>"
            ],
            "text/plain": [
              "      CRIM    ZN  INDUS  CHAS    NOX  ...    TAX  PTRATIO       B  LSTAT  TARGET\n",
              "0  0.00632  18.0   2.31   0.0  0.538  ...  296.0     15.3  396.90   4.98    24.0\n",
              "1  0.02731   0.0   7.07   0.0  0.469  ...  242.0     17.8  396.90   9.14    21.6\n",
              "2  0.02729   0.0   7.07   0.0  0.469  ...  242.0     17.8  392.83   4.03    34.7\n",
              "3  0.03237   0.0   2.18   0.0  0.458  ...  222.0     18.7  394.63   2.94    33.4\n",
              "4  0.06905   0.0   2.18   0.0  0.458  ...  222.0     18.7  396.90   5.33    36.2\n",
              "\n",
              "[5 rows x 14 columns]"
            ]
          },
          "metadata": {
            "tags": []
          },
          "execution_count": 5
        }
      ]
    },
    {
      "cell_type": "code",
      "metadata": {
        "id": "XMWTaXECnVip"
      },
      "source": [
        "X_boston = boston_df.drop('TARGET', axis=1)\n",
        "y_boston = boston_df['TARGET']\n",
        "X_train_boston, X_test_boston, y_train_boston, y_test_boston = train_test_split(X_boston, y_boston, test_size=0.2)"
      ],
      "execution_count": 6,
      "outputs": []
    },
    {
      "cell_type": "markdown",
      "metadata": {
        "id": "Ts4uB0FlnQfE"
      },
      "source": [
        "# Metrics"
      ]
    },
    {
      "cell_type": "code",
      "metadata": {
        "id": "PO5aRbjVnSN3"
      },
      "source": [
        "def regression_metrics(truth, predictions):\n",
        "    mae  = mean_absolute_error(truth, predictions)\n",
        "    mse  = mean_squared_error(truth,  predictions)\n",
        "    rmse = math.sqrt(mse)\n",
        "\n",
        "    # Print out error for predictions\n",
        "    print('MAE      : {:.3f}'.format(mae))\n",
        "    print('MSE      : {:.3f}'.format(mse))\n",
        "    print('RMSE     : {:.3f}'.format(rmse))\n",
        "\n",
        "    # Compute Accuracy\n",
        "    errors = abs(truth - predictions)\n",
        "    mape = 100 * (errors / truth)\n",
        "    accuracy = 100 - np.mean(mape)\n",
        "    print('Accuracy : {:.2f}%'.format(accuracy))\n",
        "    \n",
        "    return (mae, mse, rmse, accuracy)"
      ],
      "execution_count": 7,
      "outputs": []
    },
    {
      "cell_type": "code",
      "metadata": {
        "id": "BXh2GGlonyRo"
      },
      "source": [
        "results_regression_df       = pd.DataFrame(columns=['MAE', 'RMSE'])"
      ],
      "execution_count": 8,
      "outputs": []
    },
    {
      "cell_type": "markdown",
      "metadata": {
        "id": "XYdBNrklk_iF"
      },
      "source": [
        "# Random Forest\n",
        "\n",
        "![](https://liyanxu.blog/wp-content/uploads/2018/10/Screen-Shot-2018-11-19-at-23.05.00.png)"
      ]
    },
    {
      "cell_type": "markdown",
      "metadata": {
        "id": "qzCHGFeJqUDy"
      },
      "source": [
        "## Model"
      ]
    },
    {
      "cell_type": "code",
      "metadata": {
        "colab": {
          "base_uri": "https://localhost:8080/"
        },
        "id": "_hIpmNa-q7xq",
        "outputId": "8b341b0a-38c8-4833-8af9-e1d5c5dae00b"
      },
      "source": [
        "rf = RandomForestRegressor(oob_score=True)\n",
        "rf.fit(X_train_boston, y_train_boston)\n",
        "print(f'OOB {rf.oob_score_:.4f}')"
      ],
      "execution_count": 9,
      "outputs": [
        {
          "output_type": "stream",
          "text": [
            "OOB 0.8508\n"
          ],
          "name": "stdout"
        }
      ]
    },
    {
      "cell_type": "markdown",
      "metadata": {
        "id": "Jy-NF0QIqUDy"
      },
      "source": [
        "## Score"
      ]
    },
    {
      "cell_type": "code",
      "metadata": {
        "colab": {
          "base_uri": "https://localhost:8080/"
        },
        "id": "SKJEc_dLra_l",
        "outputId": "abd7a83f-ab1f-4303-a0b4-fc97848d6045"
      },
      "source": [
        "pred = rf.predict(X_test_boston)\n",
        "mae, mse, rmse, _ = regression_metrics(y_test_boston, pred)\n",
        "results_regression_df.loc['RandomForest'] = [mae, rmse]"
      ],
      "execution_count": 10,
      "outputs": [
        {
          "output_type": "stream",
          "text": [
            "MAE      : 2.255\n",
            "MSE      : 9.953\n",
            "RMSE     : 3.155\n",
            "Accuracy : 88.64%\n"
          ],
          "name": "stdout"
        }
      ]
    },
    {
      "cell_type": "markdown",
      "metadata": {
        "id": "QZzTWaPyqUDz"
      },
      "source": [
        "## Hypertune\n",
        "* n_estimators\n",
        "* max_features\n",
        "* min_samples_split\n",
        "* min_samples_leaf"
      ]
    },
    {
      "cell_type": "code",
      "metadata": {
        "colab": {
          "base_uri": "https://localhost:8080/"
        },
        "id": "njJ7T-z1r8Nl",
        "outputId": "147e95e3-9942-45b3-fae5-963ee72b2a0e"
      },
      "source": [
        "n_estimators = [100, 200, 400, 800]\n",
        "max_features = ['auto', 'sqrt']\n",
        "min_samples_split = [2, 5, 10]\n",
        "min_samples_leaf = [1, 2, 4]\n",
        "\n",
        "# Create the random grid for feature sealection\n",
        "random_grid = {'n_estimators'      : n_estimators,\n",
        "               'max_features'      : max_features,\n",
        "               'min_samples_split' : min_samples_split,\n",
        "               'min_samples_leaf'  : min_samples_leaf}\n",
        "\n",
        "pprint(random_grid)"
      ],
      "execution_count": 11,
      "outputs": [
        {
          "output_type": "stream",
          "text": [
            "{'max_features': ['auto', 'sqrt'],\n",
            " 'min_samples_leaf': [1, 2, 4],\n",
            " 'min_samples_split': [2, 5, 10],\n",
            " 'n_estimators': [100, 200, 400, 800]}\n"
          ],
          "name": "stdout"
        }
      ]
    },
    {
      "cell_type": "code",
      "metadata": {
        "colab": {
          "base_uri": "https://localhost:8080/"
        },
        "id": "mjIRZRmjwE8K",
        "outputId": "3573a600-1f4b-495f-8350-3b4af2e4bacd"
      },
      "source": [
        "rf_search = RandomForestRegressor()\n",
        "rf_random_search = RandomizedSearchCV(estimator = rf_search, \n",
        "                               param_distributions = random_grid, \n",
        "                               n_iter = 300,\n",
        "                               verbose=2, \n",
        "                               random_state=42, \n",
        "                               n_jobs = -1)\n",
        "rf_random_search.fit(X_train_boston, y_train_boston)"
      ],
      "execution_count": 12,
      "outputs": [
        {
          "output_type": "stream",
          "text": [
            "Fitting 5 folds for each of 72 candidates, totalling 360 fits\n"
          ],
          "name": "stdout"
        },
        {
          "output_type": "stream",
          "text": [
            "/usr/local/lib/python3.7/dist-packages/sklearn/model_selection/_search.py:281: UserWarning: The total space of parameters 72 is smaller than n_iter=300. Running 72 iterations. For exhaustive searches, use GridSearchCV.\n",
            "  % (grid_size, self.n_iter, grid_size), UserWarning)\n",
            "[Parallel(n_jobs=-1)]: Using backend LokyBackend with 2 concurrent workers.\n",
            "[Parallel(n_jobs=-1)]: Done  37 tasks      | elapsed:   28.4s\n",
            "[Parallel(n_jobs=-1)]: Done 158 tasks      | elapsed:  1.9min\n",
            "[Parallel(n_jobs=-1)]: Done 360 out of 360 | elapsed:  3.6min finished\n"
          ],
          "name": "stderr"
        },
        {
          "output_type": "execute_result",
          "data": {
            "text/plain": [
              "RandomizedSearchCV(cv=None, error_score=nan,\n",
              "                   estimator=RandomForestRegressor(bootstrap=True,\n",
              "                                                   ccp_alpha=0.0,\n",
              "                                                   criterion='mse',\n",
              "                                                   max_depth=None,\n",
              "                                                   max_features='auto',\n",
              "                                                   max_leaf_nodes=None,\n",
              "                                                   max_samples=None,\n",
              "                                                   min_impurity_decrease=0.0,\n",
              "                                                   min_impurity_split=None,\n",
              "                                                   min_samples_leaf=1,\n",
              "                                                   min_samples_split=2,\n",
              "                                                   min_weight_fraction_leaf=0.0,\n",
              "                                                   n_estimators=100,\n",
              "                                                   n_jobs=None, oob_score=False,\n",
              "                                                   random_state=None, verbose=0,\n",
              "                                                   warm_start=False),\n",
              "                   iid='deprecated', n_iter=300, n_jobs=-1,\n",
              "                   param_distributions={'max_features': ['auto', 'sqrt'],\n",
              "                                        'min_samples_leaf': [1, 2, 4],\n",
              "                                        'min_samples_split': [2, 5, 10],\n",
              "                                        'n_estimators': [100, 200, 400, 800]},\n",
              "                   pre_dispatch='2*n_jobs', random_state=42, refit=True,\n",
              "                   return_train_score=False, scoring=None, verbose=2)"
            ]
          },
          "metadata": {
            "tags": []
          },
          "execution_count": 12
        }
      ]
    },
    {
      "cell_type": "code",
      "metadata": {
        "colab": {
          "base_uri": "https://localhost:8080/"
        },
        "id": "b7Sds4t7xRyq",
        "outputId": "43eb33b8-1053-4487-cea9-34e4b86c1030"
      },
      "source": [
        "rf_random_search.best_params_"
      ],
      "execution_count": 13,
      "outputs": [
        {
          "output_type": "execute_result",
          "data": {
            "text/plain": [
              "{'max_features': 'sqrt',\n",
              " 'min_samples_leaf': 1,\n",
              " 'min_samples_split': 2,\n",
              " 'n_estimators': 400}"
            ]
          },
          "metadata": {
            "tags": []
          },
          "execution_count": 13
        }
      ]
    },
    {
      "cell_type": "code",
      "metadata": {
        "colab": {
          "base_uri": "https://localhost:8080/"
        },
        "id": "fCH148o0szwM",
        "outputId": "15ade9ec-49f5-4366-a587-0b51747f2b43"
      },
      "source": [
        "rf = RandomForestRegressor(n_estimators  = rf_random_search.best_params_['n_estimators'], \n",
        "                           min_samples_split = rf_random_search.best_params_['min_samples_split'],\n",
        "                           min_samples_leaf  = rf_random_search.best_params_['min_samples_leaf'],\n",
        "                           max_features      = rf_random_search.best_params_['max_features'],\n",
        "                           oob_score=True)\n",
        "rf.fit(X_train_boston, y_train_boston)\n",
        "print(f'OOB {rf.oob_score_:.4f}')"
      ],
      "execution_count": 14,
      "outputs": [
        {
          "output_type": "stream",
          "text": [
            "OOB 0.8745\n"
          ],
          "name": "stdout"
        }
      ]
    },
    {
      "cell_type": "code",
      "metadata": {
        "colab": {
          "base_uri": "https://localhost:8080/"
        },
        "id": "FoejdJeXsobt",
        "outputId": "24b129d6-a703-452b-84b5-d4dd06311e11"
      },
      "source": [
        "pred = rf.predict(X_test_boston)\n",
        "mae, mse, rmse, _ = regression_metrics(y_test_boston, pred)\n",
        "results_regression_df.loc['RandomForest Hypertuned'] = [mae, rmse]"
      ],
      "execution_count": 15,
      "outputs": [
        {
          "output_type": "stream",
          "text": [
            "MAE      : 2.315\n",
            "MSE      : 14.258\n",
            "RMSE     : 3.776\n",
            "Accuracy : 88.46%\n"
          ],
          "name": "stdout"
        }
      ]
    },
    {
      "cell_type": "markdown",
      "metadata": {
        "id": "YxeWz2pitlFH"
      },
      "source": [
        "## Residuals"
      ]
    },
    {
      "cell_type": "code",
      "metadata": {
        "colab": {
          "base_uri": "https://localhost:8080/",
          "height": 620
        },
        "id": "cPddwsSMtnpH",
        "outputId": "f9cc94a5-192c-4552-bc5a-600d885b3330"
      },
      "source": [
        "plt.figure(figsize=(15,10))\n",
        "visualizer = ResidualsPlot(rf)\n",
        "visualizer.fit(X_train_boston, y_train_boston)  # Fit the training data to the model\n",
        "visualizer.score(X_test_boston, y_test_boston)  # Evaluate the model on the test data\n",
        "visualizer.poof() "
      ],
      "execution_count": 16,
      "outputs": [
        {
          "output_type": "display_data",
          "data": {
            "image/png": "[encoded data removed]",
            "text/plain": [
              "<Figure size 1080x720 with 2 Axes>"
            ]
          },
          "metadata": {
            "tags": [],
            "needs_background": "light"
          }
        }
      ]
    },
    {
      "cell_type": "markdown",
      "metadata": {
        "id": "56n_mvio9zbT"
      },
      "source": [
        "## Prediction Error"
      ]
    },
    {
      "cell_type": "code",
      "metadata": {
        "colab": {
          "base_uri": "https://localhost:8080/",
          "height": 623
        },
        "id": "0mXhhW1D91eL",
        "outputId": "9b1b88f0-1600-42ce-9e4f-0c3449c4d909"
      },
      "source": [
        "plt.figure(figsize=(15,10))\n",
        "visualizer = PredictionError(rf)\n",
        "visualizer.fit(X_train_boston, y_train_boston)  # Fit the training data to the model\n",
        "visualizer.score(X_test_boston, y_test_boston)  # Evaluate the model on the test data\n",
        "visualizer.poof() "
      ],
      "execution_count": 17,
      "outputs": [
        {
          "output_type": "display_data",
          "data": {
            "image/png": "[encoded data removed]",
            "text/plain": [
              "<Figure size 1080x720 with 1 Axes>"
            ]
          },
          "metadata": {
            "tags": [],
            "needs_background": "light"
          }
        }
      ]
    },
    {
      "cell_type": "markdown",
      "metadata": {
        "id": "GVrQxkhhqUDz"
      },
      "source": [
        "## Importance"
      ]
    },
    {
      "cell_type": "code",
      "metadata": {
        "colab": {
          "base_uri": "https://localhost:8080/",
          "height": 606
        },
        "id": "4Go33XqPx5og",
        "outputId": "c4bdfae6-7515-4554-c2f3-7dc62dda7aa8"
      },
      "source": [
        "features = X_train_boston.columns\n",
        "importances = rf.feature_importances_\n",
        "indices = np.argsort(importances)\n",
        "\n",
        "plt.figure(figsize=(15,10))\n",
        "plt.title('Feature Importance')\n",
        "plt.barh(range(len(indices)),   importances[indices], color='b')\n",
        "plt.yticks(range(len(indices)), features[indices])\n",
        "plt.show()"
      ],
      "execution_count": 18,
      "outputs": [
        {
          "output_type": "display_data",
          "data": {
            "image/png": "[encoded data removed]",
            "text/plain": [
              "<Figure size 1080x720 with 1 Axes>"
            ]
          },
          "metadata": {
            "tags": [],
            "needs_background": "light"
          }
        }
      ]
    },
    {
      "cell_type": "markdown",
      "metadata": {
        "id": "Pr8NKB1EqUDz"
      },
      "source": [
        "## Prediction Interval"
      ]
    },
    {
      "cell_type": "code",
      "metadata": {
        "colab": {
          "base_uri": "https://localhost:8080/"
        },
        "id": "rFuCEpi0ue0R",
        "outputId": "0aa38ad8-c77a-466b-c9ce-94d57b2e0b0e"
      },
      "source": [
        "def interval(model, X, percentile=95):\n",
        "    pi_down  = []\n",
        "    pi_up    = []\n",
        "    model_preds = []\n",
        "    \n",
        "    for est in model.estimators_:\n",
        "        predictions = est.predict(X)\n",
        "        model_preds.append(predictions)\n",
        "        \n",
        "    for pt in range(len(X)):\n",
        "        predicted = []\n",
        "        for mp in range(len(model_preds)):\n",
        "            predicted.append(model_preds[mp][pt])\n",
        "        pi_down.append(np.percentile(predicted, q=(100-percentile) / 2.))\n",
        "        pi_up.append(np.percentile(predicted, q=100-(100-percentile) / 2.)) \n",
        "    return pi_down, pi_up\n",
        "\n",
        "# Generate the Intervals\n",
        "interval_y = y_test_boston.copy().reset_index(drop=True)\n",
        "interval_x = X_test_boston.copy().reset_index(drop=True)\n",
        "interval_pred = rf.predict(interval_x)\n",
        "\n",
        "percentile = 95\n",
        "err_down, err_up = interval(rf, interval_x, percentile=percentile)\n",
        "pi_df = pd.DataFrame({'Predicted': interval_pred, \n",
        "                     'Lower': err_down, \n",
        "                     'Actual': interval_y, \n",
        "                     'Upper': err_up})\n",
        "pi_df['Correct'] = np.where((pi_df.Lower <= pi_df.Actual) & (pi_df.Actual <= pi_df.Upper), 1, 0)\n",
        "print('Percent in {}th prediction interval: {:.3f}'.format(percentile, \n",
        "                                                           pi_df.Correct.sum() / pi_df.Correct.shape[0] * 100.0))"
      ],
      "execution_count": 19,
      "outputs": [
        {
          "output_type": "stream",
          "text": [
            "Percent in 95th prediction interval: 95.098\n"
          ],
          "name": "stdout"
        }
      ]
    },
    {
      "cell_type": "code",
      "metadata": {
        "colab": {
          "base_uri": "https://localhost:8080/",
          "height": 606
        },
        "id": "A8Iy7ENIuf5Z",
        "outputId": "74b7fddd-9d83-42ca-e852-560b9b2519c9"
      },
      "source": [
        "df = pi_df.sort_values('Actual').reset_index()\n",
        "plt.figure(figsize=(15,10))\n",
        "plt.title('Prediction Interval {}th Percentile'.format(percentile))\n",
        "plt.ylabel('Median Value')\n",
        "plt.plot(df.Actual, label='Actual')\n",
        "plt.plot(df.Lower, color='grey')\n",
        "plt.plot(df.Upper, color='grey')\n",
        "plt.scatter(df.index, df.Predicted)\n",
        "plt.fill_between(df.index, df.Lower, df.Upper, color='grey', alpha=0.5)\n",
        "plt.legend()\n",
        "plt.show()"
      ],
      "execution_count": 20,
      "outputs": [
        {
          "output_type": "display_data",
          "data": {
            "image/png": "[encoded data removed]",
            "text/plain": [
              "<Figure size 1080x720 with 1 Axes>"
            ]
          },
          "metadata": {
            "tags": [],
            "needs_background": "light"
          }
        }
      ]
    },
    {
      "cell_type": "markdown",
      "metadata": {
        "id": "9d3kcGsNqUDz"
      },
      "source": [
        "## Contribution"
      ]
    },
    {
      "cell_type": "code",
      "metadata": {
        "colab": {
          "base_uri": "https://localhost:8080/"
        },
        "id": "l3vtmtDRuSxN",
        "outputId": "e6a68c3d-4d0b-4723-c770-a122047b0d0b"
      },
      "source": [
        "prediction, bias, contributions = ti.predict(rf, X_test_boston)\n",
        "contribDF = pd.DataFrame({'Feature': X_test_boston.columns, \n",
        "                          'Contribution': contributions[0],\n",
        "                          'Value':X_test_boston.iloc[0]})\n",
        "contribDF = contribDF.sort_values('Contribution').set_index('Feature')\n",
        "\n",
        "print('Baseline (Y-Mean) / Bias of RF : {:.2f}\\n'.format(bias[0]))\n",
        "print(contribDF)\n",
        "print('\\nSum of Contribution {:.2f}\\n'.format(contribDF.Contribution.sum()))\n",
        "print('Predicted Value of RF : {:.2f}'.format(*prediction[0]))\n",
        "print('Predicted Value of RF : {:.2f} = Bias {:.2f} + Contribution {:.2f}'.format(\n",
        "    *prediction[0], bias[0], contribDF.Contribution.sum()))"
      ],
      "execution_count": 21,
      "outputs": [
        {
          "output_type": "stream",
          "text": [
            "Baseline (Y-Mean) / Bias of RF : 22.76\n",
            "\n",
            "         Contribution      Value\n",
            "Feature                         \n",
            "RM          -2.506517    5.78600\n",
            "LSTAT       -1.871270   14.15000\n",
            "INDUS       -0.479325    6.91000\n",
            "ZN          -0.180184    0.00000\n",
            "CHAS        -0.056983    0.00000\n",
            "RAD         -0.052347    3.00000\n",
            "B            0.107432  396.90000\n",
            "DIS          0.167865    5.10040\n",
            "CRIM         0.354261    0.18836\n",
            "AGE          0.529837   33.30000\n",
            "NOX          0.570652    0.44800\n",
            "PTRATIO      0.627618   17.90000\n",
            "TAX          0.635307  233.00000\n",
            "\n",
            "Sum of Contribution -2.15\n",
            "\n",
            "Predicted Value of RF : 20.61\n",
            "Predicted Value of RF : 20.61 = Bias 22.76 + Contribution -2.15\n"
          ],
          "name": "stdout"
        }
      ]
    },
    {
      "cell_type": "markdown",
      "metadata": {
        "id": "GNPNftDQoK6F"
      },
      "source": [
        "# Extra Trees\n",
        "\n",
        "![](https://miro.medium.com/max/743/1*03-fhHP6Wi63VkmY9PqChA.jpeg)"
      ]
    },
    {
      "cell_type": "markdown",
      "metadata": {
        "id": "nTlXWP58qVwj"
      },
      "source": [
        "## Model"
      ]
    },
    {
      "cell_type": "code",
      "metadata": {
        "colab": {
          "base_uri": "https://localhost:8080/"
        },
        "id": "PbFnFHWH0yWt",
        "outputId": "d644cc31-c780-4201-823c-804f5075404a"
      },
      "source": [
        "et = ExtraTreesRegressor(bootstrap=True, oob_score=True)\n",
        "et.fit(X_train_boston,  y_train_boston)\n",
        "print(f'OOB {rf.oob_score_:.4f}')"
      ],
      "execution_count": 22,
      "outputs": [
        {
          "output_type": "stream",
          "text": [
            "OOB 0.8681\n"
          ],
          "name": "stdout"
        }
      ]
    },
    {
      "cell_type": "markdown",
      "metadata": {
        "id": "bavdDD8cqVwj"
      },
      "source": [
        "## Score"
      ]
    },
    {
      "cell_type": "code",
      "metadata": {
        "colab": {
          "base_uri": "https://localhost:8080/"
        },
        "id": "8wEXTC1D0_mV",
        "outputId": "ba6236bd-4f7c-4cc2-e285-822a892998d2"
      },
      "source": [
        "pred = et.predict(X_test_boston)\n",
        "mae, mse, rmse, _ = regression_metrics(y_test_boston, pred)\n",
        "results_regression_df.loc['ExtraTrees'] = [mae, rmse]"
      ],
      "execution_count": 23,
      "outputs": [
        {
          "output_type": "stream",
          "text": [
            "MAE      : 2.187\n",
            "MSE      : 14.211\n",
            "RMSE     : 3.770\n",
            "Accuracy : 89.30%\n"
          ],
          "name": "stdout"
        }
      ]
    },
    {
      "cell_type": "markdown",
      "metadata": {
        "id": "4qbbmnpz8XIf"
      },
      "source": [
        "## Hypertune"
      ]
    },
    {
      "cell_type": "code",
      "metadata": {
        "colab": {
          "base_uri": "https://localhost:8080/"
        },
        "id": "HSVbHUMV-Dg7",
        "outputId": "8329ca75-ea0b-4f54-e42a-23d26265b6c6"
      },
      "source": [
        "n_estimators = [100, 200, 400, 800]\n",
        "max_features = ['auto', 'sqrt']\n",
        "min_samples_split = [2, 5, 10]\n",
        "min_samples_leaf = [1, 2, 4]\n",
        "\n",
        "# Create the random grid for feature sealection\n",
        "random_grid = {'n_estimators'      : n_estimators,\n",
        "               'max_features'      : max_features,\n",
        "               'min_samples_split' : min_samples_split,\n",
        "               'min_samples_leaf'  : min_samples_leaf}\n",
        "\n",
        "pprint(random_grid)"
      ],
      "execution_count": 24,
      "outputs": [
        {
          "output_type": "stream",
          "text": [
            "{'max_features': ['auto', 'sqrt'],\n",
            " 'min_samples_leaf': [1, 2, 4],\n",
            " 'min_samples_split': [2, 5, 10],\n",
            " 'n_estimators': [100, 200, 400, 800]}\n"
          ],
          "name": "stdout"
        }
      ]
    },
    {
      "cell_type": "code",
      "metadata": {
        "colab": {
          "base_uri": "https://localhost:8080/"
        },
        "id": "VmnX50Dh-HJQ",
        "outputId": "cf820e0d-3302-441e-c2b8-65f18cec87bc"
      },
      "source": [
        "et_search = ExtraTreesRegressor()\n",
        "et_random_search = RandomizedSearchCV(estimator = et_search, \n",
        "                               param_distributions = random_grid, \n",
        "                               n_iter = 300,\n",
        "                               verbose=2, \n",
        "                               random_state=42, \n",
        "                               n_jobs = -1)\n",
        "et_random_search.fit(X_train_boston, y_train_boston)"
      ],
      "execution_count": 25,
      "outputs": [
        {
          "output_type": "stream",
          "text": [
            "Fitting 5 folds for each of 72 candidates, totalling 360 fits\n"
          ],
          "name": "stdout"
        },
        {
          "output_type": "stream",
          "text": [
            "/usr/local/lib/python3.7/dist-packages/sklearn/model_selection/_search.py:281: UserWarning: The total space of parameters 72 is smaller than n_iter=300. Running 72 iterations. For exhaustive searches, use GridSearchCV.\n",
            "  % (grid_size, self.n_iter, grid_size), UserWarning)\n",
            "[Parallel(n_jobs=-1)]: Using backend LokyBackend with 2 concurrent workers.\n",
            "[Parallel(n_jobs=-1)]: Done  37 tasks      | elapsed:   16.5s\n",
            "[Parallel(n_jobs=-1)]: Done 158 tasks      | elapsed:  1.1min\n",
            "[Parallel(n_jobs=-1)]: Done 360 out of 360 | elapsed:  2.2min finished\n"
          ],
          "name": "stderr"
        },
        {
          "output_type": "execute_result",
          "data": {
            "text/plain": [
              "RandomizedSearchCV(cv=None, error_score=nan,\n",
              "                   estimator=ExtraTreesRegressor(bootstrap=False, ccp_alpha=0.0,\n",
              "                                                 criterion='mse',\n",
              "                                                 max_depth=None,\n",
              "                                                 max_features='auto',\n",
              "                                                 max_leaf_nodes=None,\n",
              "                                                 max_samples=None,\n",
              "                                                 min_impurity_decrease=0.0,\n",
              "                                                 min_impurity_split=None,\n",
              "                                                 min_samples_leaf=1,\n",
              "                                                 min_samples_split=2,\n",
              "                                                 min_weight_fraction_leaf=0.0,\n",
              "                                                 n_estimators=100, n_jobs=None,\n",
              "                                                 oob_score=False,\n",
              "                                                 random_state=None, verbose=0,\n",
              "                                                 warm_start=False),\n",
              "                   iid='deprecated', n_iter=300, n_jobs=-1,\n",
              "                   param_distributions={'max_features': ['auto', 'sqrt'],\n",
              "                                        'min_samples_leaf': [1, 2, 4],\n",
              "                                        'min_samples_split': [2, 5, 10],\n",
              "                                        'n_estimators': [100, 200, 400, 800]},\n",
              "                   pre_dispatch='2*n_jobs', random_state=42, refit=True,\n",
              "                   return_train_score=False, scoring=None, verbose=2)"
            ]
          },
          "metadata": {
            "tags": []
          },
          "execution_count": 25
        }
      ]
    },
    {
      "cell_type": "code",
      "metadata": {
        "colab": {
          "base_uri": "https://localhost:8080/"
        },
        "id": "uZeBfKIu-HMM",
        "outputId": "4866adde-bb27-4b8e-c5a0-8e9c5dd92765"
      },
      "source": [
        "et_random_search.best_params_"
      ],
      "execution_count": 26,
      "outputs": [
        {
          "output_type": "execute_result",
          "data": {
            "text/plain": [
              "{'max_features': 'auto',\n",
              " 'min_samples_leaf': 1,\n",
              " 'min_samples_split': 2,\n",
              " 'n_estimators': 400}"
            ]
          },
          "metadata": {
            "tags": []
          },
          "execution_count": 26
        }
      ]
    },
    {
      "cell_type": "code",
      "metadata": {
        "colab": {
          "base_uri": "https://localhost:8080/"
        },
        "id": "gEp7rsyh-Qd4",
        "outputId": "37c07546-49fa-4aa3-ef62-675eacfb1b0c"
      },
      "source": [
        "et = ExtraTreesRegressor(n_estimators  = et_random_search.best_params_['n_estimators'], \n",
        "                           min_samples_split = et_random_search.best_params_['min_samples_split'],\n",
        "                           min_samples_leaf  = et_random_search.best_params_['min_samples_leaf'],\n",
        "                           max_features      = et_random_search.best_params_['max_features'],\n",
        "                           bootstrap=True, oob_score=True)\n",
        "et.fit(X_train_boston, y_train_boston)\n",
        "print(f'OOB {et.oob_score_:.4f}')"
      ],
      "execution_count": 27,
      "outputs": [
        {
          "output_type": "stream",
          "text": [
            "OOB 0.8802\n"
          ],
          "name": "stdout"
        }
      ]
    },
    {
      "cell_type": "code",
      "metadata": {
        "colab": {
          "base_uri": "https://localhost:8080/"
        },
        "id": "ndeKw9dp-dY2",
        "outputId": "8844b9ed-feab-4b5e-a53b-4cbab32d637c"
      },
      "source": [
        "pred = et.predict(X_test_boston)\n",
        "mae, mse, rmse, _ = regression_metrics(y_test_boston, pred)\n",
        "results_regression_df.loc['ExtraTrees Hypertuned'] = [mae, rmse]"
      ],
      "execution_count": 28,
      "outputs": [
        {
          "output_type": "stream",
          "text": [
            "MAE      : 2.276\n",
            "MSE      : 14.995\n",
            "RMSE     : 3.872\n",
            "Accuracy : 88.84%\n"
          ],
          "name": "stdout"
        }
      ]
    },
    {
      "cell_type": "markdown",
      "metadata": {
        "id": "fn0Wts_xqVwk"
      },
      "source": [
        "## Importance"
      ]
    },
    {
      "cell_type": "code",
      "metadata": {
        "colab": {
          "base_uri": "https://localhost:8080/",
          "height": 606
        },
        "id": "SGNZIrJe1GMQ",
        "outputId": "f95c7bcc-203d-4290-afe1-238d0faf6a22"
      },
      "source": [
        "features = X_train_boston.columns\n",
        "importances = et.feature_importances_\n",
        "indices = np.argsort(importances)\n",
        "\n",
        "plt.figure(figsize=(15,10))\n",
        "plt.title('Feature Importance')\n",
        "plt.barh(range(len(indices)),   importances[indices], color='b')\n",
        "plt.yticks(range(len(indices)), features[indices])\n",
        "plt.show()"
      ],
      "execution_count": 29,
      "outputs": [
        {
          "output_type": "display_data",
          "data": {
            "image/png": "[encoded data removed]",
            "text/plain": [
              "<Figure size 1080x720 with 1 Axes>"
            ]
          },
          "metadata": {
            "tags": [],
            "needs_background": "light"
          }
        }
      ]
    },
    {
      "cell_type": "markdown",
      "metadata": {
        "id": "wXjijoAeoM1s"
      },
      "source": [
        "# Regularized Greedy Forest\n",
        "* https://github.com/RGF-team/rgf/tree/master/python-package\n",
        "* https://arxiv.org/abs/1109.0887\n",
        "\n",
        "![](https://csdl-images.computer.org/trans/tp/2014/05/figures/johns11-159.gif)"
      ]
    },
    {
      "cell_type": "markdown",
      "metadata": {
        "id": "qj5R59yaqW7N"
      },
      "source": [
        "## Model"
      ]
    },
    {
      "cell_type": "code",
      "metadata": {
        "colab": {
          "base_uri": "https://localhost:8080/"
        },
        "id": "Y2JWrW_X8p0e",
        "outputId": "09f68dcd-c258-4fd3-89c2-a88918809d44"
      },
      "source": [
        "rgf = RGFRegressor()\n",
        "rgf.fit(X_train_boston,  y_train_boston)"
      ],
      "execution_count": 30,
      "outputs": [
        {
          "output_type": "execute_result",
          "data": {
            "text/plain": [
              "RGFRegressor(algorithm='RGF', init_model=None, l2=0.1, learning_rate=0.5,\n",
              "             loss='LS', max_leaf=500, memory_policy='generous',\n",
              "             min_samples_leaf=10, n_iter=None, n_tree_search=1, normalize=True,\n",
              "             opt_interval=100, reg_depth=1.0, sl2=None, test_interval=100,\n",
              "             verbose=0)"
            ]
          },
          "metadata": {
            "tags": []
          },
          "execution_count": 30
        }
      ]
    },
    {
      "cell_type": "markdown",
      "metadata": {
        "id": "h1YjOyy5qW7N"
      },
      "source": [
        "## Score"
      ]
    },
    {
      "cell_type": "code",
      "metadata": {
        "colab": {
          "base_uri": "https://localhost:8080/"
        },
        "id": "gXRxy2OQ8_K1",
        "outputId": "0c415880-8cdb-4273-bfa0-2cdfa2311204"
      },
      "source": [
        "pred = rgf.predict(X_test_boston)\n",
        "mae, mse, rmse, _ = regression_metrics(y_test_boston, pred)\n",
        "results_regression_df.loc['RegularizedGreedyForest'] = [mae, rmse]"
      ],
      "execution_count": 31,
      "outputs": [
        {
          "output_type": "stream",
          "text": [
            "MAE      : 2.182\n",
            "MSE      : 9.570\n",
            "RMSE     : 3.093\n",
            "Accuracy : 89.64%\n"
          ],
          "name": "stdout"
        }
      ]
    },
    {
      "cell_type": "markdown",
      "metadata": {
        "id": "7kRp_ORNqW7O"
      },
      "source": [
        "## Hypertune"
      ]
    },
    {
      "cell_type": "code",
      "metadata": {
        "colab": {
          "base_uri": "https://localhost:8080/"
        },
        "id": "8TgHfpTJ8sNM",
        "outputId": "cec50898-3988-4f56-a876-e3b1058f9a5e"
      },
      "source": [
        "algorithm = ['RGF', 'RGF_Opt', 'RGF_Sib']\n",
        "max_leaf = [250, 500, 750, 1000]\n",
        "l2 = [0.01, 0.1, 1.0]\n",
        "learning_rate = [0.1, 0.25, 0.5, 0.75, 1.0]\n",
        "\n",
        "# Create the random grid for feature sealection\n",
        "random_grid = {'algorithm'     : algorithm,\n",
        "               'max_leaf'      : max_leaf,\n",
        "               'l2'            : l2,\n",
        "               'learning_rate' : learning_rate}\n",
        "\n",
        "pprint(random_grid)"
      ],
      "execution_count": 32,
      "outputs": [
        {
          "output_type": "stream",
          "text": [
            "{'algorithm': ['RGF', 'RGF_Opt', 'RGF_Sib'],\n",
            " 'l2': [0.01, 0.1, 1.0],\n",
            " 'learning_rate': [0.1, 0.25, 0.5, 0.75, 1.0],\n",
            " 'max_leaf': [250, 500, 750, 1000]}\n"
          ],
          "name": "stdout"
        }
      ]
    },
    {
      "cell_type": "code",
      "metadata": {
        "colab": {
          "base_uri": "https://localhost:8080/"
        },
        "id": "3edBBFSX8sW2",
        "outputId": "04c95c01-8bac-416c-966a-ec765ed8ca23"
      },
      "source": [
        "rgf_search = RGFRegressor(test_interval=100, loss=\"LS\", verbose=False)\n",
        "rgf_random_search = RandomizedSearchCV(estimator = rgf_search, \n",
        "                               param_distributions = random_grid, \n",
        "                               n_iter = 300,\n",
        "                               verbose=2, \n",
        "                               random_state=42, \n",
        "                               n_jobs = -1)\n",
        "rgf_random_search.fit(X_train_boston,  y_train_boston)"
      ],
      "execution_count": 33,
      "outputs": [
        {
          "output_type": "stream",
          "text": [
            "Fitting 5 folds for each of 180 candidates, totalling 900 fits\n"
          ],
          "name": "stdout"
        },
        {
          "output_type": "stream",
          "text": [
            "/usr/local/lib/python3.7/dist-packages/sklearn/model_selection/_search.py:281: UserWarning: The total space of parameters 180 is smaller than n_iter=300. Running 180 iterations. For exhaustive searches, use GridSearchCV.\n",
            "  % (grid_size, self.n_iter, grid_size), UserWarning)\n",
            "[Parallel(n_jobs=-1)]: Using backend LokyBackend with 2 concurrent workers.\n",
            "[Parallel(n_jobs=-1)]: Done  70 tasks      | elapsed:    5.4s\n",
            "[Parallel(n_jobs=-1)]: Done 312 tasks      | elapsed:   26.1s\n",
            "[Parallel(n_jobs=-1)]: Done 718 tasks      | elapsed:  1.2min\n",
            "[Parallel(n_jobs=-1)]: Done 900 out of 900 | elapsed:  1.5min finished\n"
          ],
          "name": "stderr"
        },
        {
          "output_type": "execute_result",
          "data": {
            "text/plain": [
              "RandomizedSearchCV(cv=None, error_score=nan,\n",
              "                   estimator=RGFRegressor(algorithm='RGF', init_model=None,\n",
              "                                          l2=0.1, learning_rate=0.5, loss='LS',\n",
              "                                          max_leaf=500,\n",
              "                                          memory_policy='generous',\n",
              "                                          min_samples_leaf=10, n_iter=None,\n",
              "                                          n_tree_search=1, normalize=True,\n",
              "                                          opt_interval=100, reg_depth=1.0,\n",
              "                                          sl2=None, test_interval=100,\n",
              "                                          verbose=False),\n",
              "                   iid='deprecated', n_iter=300, n_jobs=-1,\n",
              "                   param_distributions={'algorithm': ['RGF', 'RGF_Opt',\n",
              "                                                      'RGF_Sib'],\n",
              "                                        'l2': [0.01, 0.1, 1.0],\n",
              "                                        'learning_rate': [0.1, 0.25, 0.5, 0.75,\n",
              "                                                          1.0],\n",
              "                                        'max_leaf': [250, 500, 750, 1000]},\n",
              "                   pre_dispatch='2*n_jobs', random_state=42, refit=True,\n",
              "                   return_train_score=False, scoring=None, verbose=2)"
            ]
          },
          "metadata": {
            "tags": []
          },
          "execution_count": 33
        }
      ]
    },
    {
      "cell_type": "code",
      "metadata": {
        "colab": {
          "base_uri": "https://localhost:8080/"
        },
        "id": "2_eb73Cr8sZ-",
        "outputId": "100ae10f-a42c-4057-fcfc-6272168c4d0e"
      },
      "source": [
        "rgf_random_search.best_params_"
      ],
      "execution_count": 34,
      "outputs": [
        {
          "output_type": "execute_result",
          "data": {
            "text/plain": [
              "{'algorithm': 'RGF_Sib', 'l2': 0.1, 'learning_rate': 1.0, 'max_leaf': 1000}"
            ]
          },
          "metadata": {
            "tags": []
          },
          "execution_count": 34
        }
      ]
    },
    {
      "cell_type": "code",
      "metadata": {
        "colab": {
          "base_uri": "https://localhost:8080/"
        },
        "id": "Lv7qQMlH8sdD",
        "outputId": "4b8df06a-4602-4fd3-b4d2-4a107b20c012"
      },
      "source": [
        "rgf = RGFRegressor(test_interval=100, \n",
        "                   loss=\"LS\", \n",
        "                   verbose=False,\n",
        "                   max_leaf      = rgf_random_search.best_params_['max_leaf'],\n",
        "                   learning_rate = rgf_random_search.best_params_['learning_rate'],\n",
        "                   algorithm     = rgf_random_search.best_params_['algorithm'],\n",
        "                   l2            = rgf_random_search.best_params_['l2'])\n",
        "rgf.fit(X_train_boston,  y_train_boston)"
      ],
      "execution_count": 35,
      "outputs": [
        {
          "output_type": "execute_result",
          "data": {
            "text/plain": [
              "RGFRegressor(algorithm='RGF_Sib', init_model=None, l2=0.1, learning_rate=1.0,\n",
              "             loss='LS', max_leaf=1000, memory_policy='generous',\n",
              "             min_samples_leaf=10, n_iter=None, n_tree_search=1, normalize=True,\n",
              "             opt_interval=100, reg_depth=1.0, sl2=None, test_interval=100,\n",
              "             verbose=False)"
            ]
          },
          "metadata": {
            "tags": []
          },
          "execution_count": 35
        }
      ]
    },
    {
      "cell_type": "code",
      "metadata": {
        "colab": {
          "base_uri": "https://localhost:8080/"
        },
        "id": "v_4jvR4s_0Z5",
        "outputId": "9dfe3513-d6e3-47ee-9c3a-6bf5dc161cdb"
      },
      "source": [
        "pred = rgf.predict(X_test_boston)\n",
        "mae, mse, rmse, _ = regression_metrics(y_test_boston, pred)\n",
        "results_regression_df.loc['RegularizedGreedyForest Hypertuned'] = [mae, rmse]"
      ],
      "execution_count": 36,
      "outputs": [
        {
          "output_type": "stream",
          "text": [
            "MAE      : 2.181\n",
            "MSE      : 10.180\n",
            "RMSE     : 3.191\n",
            "Accuracy : 89.50%\n"
          ],
          "name": "stdout"
        }
      ]
    },
    {
      "cell_type": "markdown",
      "metadata": {
        "id": "Z0TlPfGNqW7O"
      },
      "source": [
        "## Importance"
      ]
    },
    {
      "cell_type": "code",
      "metadata": {
        "colab": {
          "base_uri": "https://localhost:8080/",
          "height": 515
        },
        "id": "CU-8p5eZAAyw",
        "outputId": "078554db-8763-436a-8856-06e62f5d9e28"
      },
      "source": [
        "imp_df = pd.DataFrame({'Variables': X_train_boston.columns, 'Importance': rgf.feature_importances_})\n",
        "imp_df.set_index('Variables').sort_values('Importance', ascending=True).plot.barh(figsize=(10,8))\n",
        "plt.title('Variable Importance (Normalized)')\n",
        "plt.legend(loc='lower right')"
      ],
      "execution_count": 37,
      "outputs": [
        {
          "output_type": "execute_result",
          "data": {
            "text/plain": [
              "<matplotlib.legend.Legend at 0x7f06a425f550>"
            ]
          },
          "metadata": {
            "tags": []
          },
          "execution_count": 37
        },
        {
          "output_type": "display_data",
          "data": {
            "image/png": "[encoded data removed]",
            "text/plain": [
              "<Figure size 720x576 with 1 Axes>"
            ]
          },
          "metadata": {
            "tags": [],
            "needs_background": "light"
          }
        }
      ]
    },
    {
      "cell_type": "markdown",
      "metadata": {
        "id": "LiA8JsdSoOjC"
      },
      "source": [
        "# Comparison"
      ]
    },
    {
      "cell_type": "markdown",
      "metadata": {
        "id": "MQ9f27Pw9HmQ"
      },
      "source": [
        "## MAE"
      ]
    },
    {
      "cell_type": "code",
      "metadata": {
        "colab": {
          "base_uri": "https://localhost:8080/",
          "height": 235
        },
        "id": "-OoY8DxAxdc1",
        "outputId": "36aaa8c6-5b00-4308-86dc-07441d61ea22"
      },
      "source": [
        "results_regression_df.sort_values('MAE')"
      ],
      "execution_count": 38,
      "outputs": [
        {
          "output_type": "execute_result",
          "data": {
            "text/html": [
              "<div>\n",
              "<style scoped>\n",
              "    .dataframe tbody tr th:only-of-type {\n",
              "        vertical-align: middle;\n",
              "    }\n",
              "\n",
              "    .dataframe tbody tr th {\n",
              "        vertical-align: top;\n",
              "    }\n",
              "\n",
              "    .dataframe thead th {\n",
              "        text-align: right;\n",
              "    }\n",
              "</style>\n",
              "<table border=\"1\" class=\"dataframe\">\n",
              "  <thead>\n",
              "    <tr style=\"text-align: right;\">\n",
              "      <th></th>\n",
              "      <th>MAE</th>\n",
              "      <th>RMSE</th>\n",
              "    </tr>\n",
              "  </thead>\n",
              "  <tbody>\n",
              "    <tr>\n",
              "      <th>RegularizedGreedyForest Hypertuned</th>\n",
              "      <td>2.180637</td>\n",
              "      <td>3.190544</td>\n",
              "    </tr>\n",
              "    <tr>\n",
              "      <th>RegularizedGreedyForest</th>\n",
              "      <td>2.181759</td>\n",
              "      <td>3.093499</td>\n",
              "    </tr>\n",
              "    <tr>\n",
              "      <th>ExtraTrees</th>\n",
              "      <td>2.187275</td>\n",
              "      <td>3.769798</td>\n",
              "    </tr>\n",
              "    <tr>\n",
              "      <th>RandomForest</th>\n",
              "      <td>2.255275</td>\n",
              "      <td>3.154903</td>\n",
              "    </tr>\n",
              "    <tr>\n",
              "      <th>ExtraTrees Hypertuned</th>\n",
              "      <td>2.276426</td>\n",
              "      <td>3.872382</td>\n",
              "    </tr>\n",
              "    <tr>\n",
              "      <th>RandomForest Hypertuned</th>\n",
              "      <td>2.315400</td>\n",
              "      <td>3.775996</td>\n",
              "    </tr>\n",
              "  </tbody>\n",
              "</table>\n",
              "</div>"
            ],
            "text/plain": [
              "                                         MAE      RMSE\n",
              "RegularizedGreedyForest Hypertuned  2.180637  3.190544\n",
              "RegularizedGreedyForest             2.181759  3.093499\n",
              "ExtraTrees                          2.187275  3.769798\n",
              "RandomForest                        2.255275  3.154903\n",
              "ExtraTrees Hypertuned               2.276426  3.872382\n",
              "RandomForest Hypertuned             2.315400  3.775996"
            ]
          },
          "metadata": {
            "tags": []
          },
          "execution_count": 38
        }
      ]
    },
    {
      "cell_type": "markdown",
      "metadata": {
        "id": "fI_TOu9J9JD6"
      },
      "source": [
        "## RMSE"
      ]
    },
    {
      "cell_type": "code",
      "metadata": {
        "colab": {
          "base_uri": "https://localhost:8080/",
          "height": 235
        },
        "id": "V5qfVrZE9K9V",
        "outputId": "e2dad080-401a-4a23-f114-3048288020de"
      },
      "source": [
        "results_regression_df.sort_values('RMSE')"
      ],
      "execution_count": 39,
      "outputs": [
        {
          "output_type": "execute_result",
          "data": {
            "text/html": [
              "<div>\n",
              "<style scoped>\n",
              "    .dataframe tbody tr th:only-of-type {\n",
              "        vertical-align: middle;\n",
              "    }\n",
              "\n",
              "    .dataframe tbody tr th {\n",
              "        vertical-align: top;\n",
              "    }\n",
              "\n",
              "    .dataframe thead th {\n",
              "        text-align: right;\n",
              "    }\n",
              "</style>\n",
              "<table border=\"1\" class=\"dataframe\">\n",
              "  <thead>\n",
              "    <tr style=\"text-align: right;\">\n",
              "      <th></th>\n",
              "      <th>MAE</th>\n",
              "      <th>RMSE</th>\n",
              "    </tr>\n",
              "  </thead>\n",
              "  <tbody>\n",
              "    <tr>\n",
              "      <th>RegularizedGreedyForest</th>\n",
              "      <td>2.181759</td>\n",
              "      <td>3.093499</td>\n",
              "    </tr>\n",
              "    <tr>\n",
              "      <th>RandomForest</th>\n",
              "      <td>2.255275</td>\n",
              "      <td>3.154903</td>\n",
              "    </tr>\n",
              "    <tr>\n",
              "      <th>RegularizedGreedyForest Hypertuned</th>\n",
              "      <td>2.180637</td>\n",
              "      <td>3.190544</td>\n",
              "    </tr>\n",
              "    <tr>\n",
              "      <th>ExtraTrees</th>\n",
              "      <td>2.187275</td>\n",
              "      <td>3.769798</td>\n",
              "    </tr>\n",
              "    <tr>\n",
              "      <th>RandomForest Hypertuned</th>\n",
              "      <td>2.315400</td>\n",
              "      <td>3.775996</td>\n",
              "    </tr>\n",
              "    <tr>\n",
              "      <th>ExtraTrees Hypertuned</th>\n",
              "      <td>2.276426</td>\n",
              "      <td>3.872382</td>\n",
              "    </tr>\n",
              "  </tbody>\n",
              "</table>\n",
              "</div>"
            ],
            "text/plain": [
              "                                         MAE      RMSE\n",
              "RegularizedGreedyForest             2.181759  3.093499\n",
              "RandomForest                        2.255275  3.154903\n",
              "RegularizedGreedyForest Hypertuned  2.180637  3.190544\n",
              "ExtraTrees                          2.187275  3.769798\n",
              "RandomForest Hypertuned             2.315400  3.775996\n",
              "ExtraTrees Hypertuned               2.276426  3.872382"
            ]
          },
          "metadata": {
            "tags": []
          },
          "execution_count": 39
        }
      ]
    },
    {
      "cell_type": "markdown",
      "metadata": {
        "id": "20eR-OEUxe53"
      },
      "source": [
        "# Practical Advice & Tips\n",
        "* https://www.thekerneltrip.com/statistics/random-forest-vs-extra-tree/\n",
        "* Random Forests\n",
        "  * Work by reducing variance of individual trees.\n",
        "  * Experience decreasing accuracy when the number of unrelated features is increased\n",
        "  * Boosting is usually always slightly better than Random Forest (Switch to XGBoost, LightGBM or CatBoost)\n",
        "  * Can train trees in parallel\n",
        "* Regularized Greedy Forests > Extra Trees > Random Forests\n",
        "  * Extra Trees are roughly 2-3X faster at training\n",
        "  * Extra Trees is more robust to unrelated features compared to Random Forest\n",
        "  * RGF and fastRGF can outperform both RF and ET (on par with Gradient Boosting)\n",
        "* Parameter Tuning\n",
        "  * Keep max_depth=None and set min_samples_leaf instead. \n",
        "  * Controlling the depth of a tree can only increase the performance marginally and it’s not worth having to grid-search over an extra parameter.\n",
        "  * Keep the number of trees, n_estimators high. RFs don’t overfit when this parameter is increased.\n",
        "  * Optimising over max_features should be beneficial.\n",
        "* Cross-validation \n",
        "  * Not strictly necessary \n",
        "  * Bootstrapping can use out-of-bag errors instead enabling cross-validation and fitting in one go. \n",
        "  * CV errors are very close to OOB errors, so use oob_score=True.\n",
        "* Don’t bother with proximity plots for classification trees.\n"
      ]
    },
    {
      "cell_type": "code",
      "metadata": {
        "id": "jQCDWxZf24_A"
      },
      "source": [
        ""
      ],
      "execution_count": 39,
      "outputs": []
    }
  ]
}